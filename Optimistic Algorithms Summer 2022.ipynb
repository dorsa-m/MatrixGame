{
 "cells": [
  {
   "cell_type": "markdown",
   "id": "endangered-minnesota",
   "metadata": {},
   "source": [
    "# Convergence of optimistic no-regret algorithms"
   ]
  },
  {
   "cell_type": "markdown",
   "id": "varying-oregon",
   "metadata": {},
   "source": [
    "## Imports"
   ]
  },
  {
   "cell_type": "code",
   "execution_count": 14,
   "id": "addressed-retail",
   "metadata": {},
   "outputs": [],
   "source": [
    "import numpy as np\n",
    "import pickle\n",
    "import matplotlib.pyplot as plt\n",
    "from tqdm import tqdm\n",
    "from sklearn.gaussian_process.kernels import RBF\n",
    "from sklearn.gaussian_process import GaussianProcessRegressor"
   ]
  },
  {
   "cell_type": "markdown",
   "id": "vertical-estate",
   "metadata": {},
   "source": [
    "## Players"
   ]
  },
  {
   "cell_type": "code",
   "execution_count": 15,
   "id": "lucky-jaguar",
   "metadata": {},
   "outputs": [],
   "source": [
    "# Hedge and optimistic hedge players\n",
    "\n",
    "class Parent_MWU:\n",
    "    def __init__(self, K, T, N, min_payoff, max_payoff):\n",
    "        self.K = K\n",
    "        self.weights = np.ones(K)\n",
    "        self.T = T\n",
    "        self.N = N\n",
    "        self.min_payoff = min_payoff\n",
    "        self.max_payoff = max_payoff\n",
    "        # learning rate from Fast Convergence of Regularized Learning in Games [Syrgkanis et al. 2015]\n",
    "        # self.gamma_t = 0.1\n",
    "        \n",
    "        # This learning rate works better in practice\n",
    "        self.gamma_t = 1\n",
    "\n",
    "    def mixed_strategy(self):\n",
    "        return self.weights / np.sum(self.weights)\n",
    "\n",
    "    def semi_Update(self, losses):\n",
    "        self.weights = np.multiply(self.weights, np.exp(np.multiply(self.gamma_t, -losses)))\n",
    "        self.weights = self.weights / np.sum(\n",
    "            self.weights)  # To avoid numerical errors when the weights become too small\n",
    "\n",
    "        \n",
    "# Hedge algorithm (Freund and Schapire. 1997)\n",
    "class Player_MWU(Parent_MWU):\n",
    "    def __init__(self, K, T, N, min_payoff, max_payoff):\n",
    "        super().__init__(K, T, N, min_payoff, max_payoff)\n",
    "        self.type = \"MWU\"\n",
    "        # adversarial hedge learning rate\n",
    "        # self.gamma_t = np.sqrt(np.log(self.K) / self.T)\n",
    "\n",
    "    def Update(self, payoffs):\n",
    "        payoffs = normalize(payoffs, self.min_payoff, self.max_payoff)\n",
    "        losses = np.ones(self.K) - np.array(payoffs)\n",
    "        super().semi_Update(losses)\n",
    "\n",
    "\n",
    "class Player_OPT_MWU(Parent_MWU):  # Optimistic Hedge algorithm\n",
    "    def __init__(self, K, T, N, min_payoff, max_payoff):\n",
    "        super().__init__(K, T, N, min_payoff, max_payoff)\n",
    "        self.type = \"OPT_MWU\"\n",
    "        # learning rate from Near-Optimal No-Regret Learning in General Games [Daskalakis et al. 2021]\n",
    "        # self.gamma_t = 1 / (2 * self.N * np.log(self.T + 2) ** 4)\n",
    "\n",
    "    def Update(self, payoffs_t, payoffs_t_1):\n",
    "        payoffs_t = normalize(payoffs_t, self.min_payoff, self.max_payoff)\n",
    "        payoffs_t_1 = normalize(payoffs_t_1, self.min_payoff, self.max_payoff)\n",
    "        loss_t = np.ones(self.K) - payoffs_t\n",
    "        loss_t_1 = np.ones(self.K) - payoffs_t_1\n",
    "        losses = 2 * loss_t - loss_t_1\n",
    "        super().semi_Update(losses)"
   ]
  },
  {
   "cell_type": "code",
   "execution_count": 16,
   "id": "helpful-fitness",
   "metadata": {},
   "outputs": [],
   "source": [
    "# GPMW and optimistic GPMW players\n",
    "# Note: In practice GP_predicted values lie outside the range and the loss vector is usually 0\n",
    "\n",
    "class Parent_GPMW:\n",
    "    def __init__(self, K, T, N, min_payoff, max_payoff, sigma, all_action_profiles, payoff_matrix,\n",
    "                 kernel_optimization=False):\n",
    "        self.K = K\n",
    "        self.T = T\n",
    "        self.N = N\n",
    "        self.weights = np.ones(K)\n",
    "        self.UCB_Matrix = np.zeros([K] * N)\n",
    "        self.gamma_t = 1\n",
    "        # beta from No-Regret Learning in Unknown Games with Correlated Payoffs [Sessa et al. 2019]\n",
    "        self.beta_t = 2.0\n",
    "        self.sigma = sigma\n",
    "        self.min_payoff = min_payoff\n",
    "        self.max_payoff = max_payoff\n",
    "\n",
    "        self.kernel = RBF()\n",
    "        self.gpr = GaussianProcessRegressor(kernel=self.kernel, alpha=sigma ** 2)\n",
    "        if kernel_optimization:\n",
    "            self.gpr.fit(all_action_profiles, np.ndarray.flatten(payoff_matrix))\n",
    "            self.kernel = self.gpr.kernel_\n",
    "        else:\n",
    "            self.gpr.optimizer = None\n",
    "\n",
    "        self.kernel_matrix = RBF.__call__(self.kernel, all_action_profiles)\n",
    "        self.mean_matrix = 0 * np.ones(K ** N)\n",
    "        self.var_matrix = np.zeros(K ** N)\n",
    "        self.all_action_profiles = all_action_profiles\n",
    "        for idx in range(K ** N):\n",
    "            self.var_matrix[idx] = np.array(self.kernel_matrix[idx, idx])\n",
    "        self.std_matrix = np.sqrt(self.var_matrix)\n",
    "\n",
    "    def mixed_strategy(self):\n",
    "        return self.weights / np.sum(self.weights)\n",
    "\n",
    "    def GP_update(self, history_actions, history_payoffs, recursive_update=True):\n",
    "        if not recursive_update:\n",
    "            self.gpr.fit(history_actions, history_payoffs)\n",
    "            mean_prediction, std_prediction = self.gpr.predict(self.all_action_profiles, return_std=True)\n",
    "            mean_prediction = np.array(mean_prediction).reshape([self.K] * self.N)\n",
    "            std_prediction = np.array(std_prediction).reshape([self.K] * self.N)\n",
    "            self.UCB_Matrix = mean_prediction + self.beta_t * std_prediction\n",
    "            \n",
    "        # recursive formula from Appendix F. On Kernelized Multi-armed Bandits [Chowdhury and Gopalan 2017]\n",
    "        else:\n",
    "            self.UCB_Matrix = np.ndarray.flatten(self.UCB_Matrix)\n",
    "            mean_matrix_prev = np.array(self.mean_matrix)\n",
    "            var_matrix_prev = np.array(self.var_matrix)\n",
    "            kernel_matrix_prev = np.array(self.kernel_matrix)\n",
    "\n",
    "            mean_matrix = np.zeros(self.K ** self.N)\n",
    "            var_matrix = np.zeros(self.K ** self.N)\n",
    "\n",
    "            idx_t = np.squeeze(np.where(np.all(self.all_action_profiles == history_actions[-1], axis=1)))\n",
    "            for idx in range(self.all_action_profiles.shape[0]):\n",
    "                mean_matrix[idx] = mean_matrix_prev[idx] + (kernel_matrix_prev[idx, idx_t] /\n",
    "                                                            (self.sigma ** 2 + var_matrix_prev[idx_t])) * (\n",
    "                                           history_payoffs[-1] - mean_matrix_prev[idx_t])\n",
    "                var_matrix[idx] = var_matrix_prev[idx] - (kernel_matrix_prev[idx, idx_t] ** 2) / (\n",
    "                        self.sigma ** 2 + var_matrix_prev[idx_t])\n",
    "\n",
    "                self.UCB_Matrix[idx] = mean_matrix[idx] + self.beta_t * np.sqrt(var_matrix[idx])\n",
    "\n",
    "            kernel_matrix = kernel_matrix_prev - np.outer(kernel_matrix_prev[:, idx_t],\n",
    "                                                          kernel_matrix_prev[idx_t, :]) * (\n",
    "                                    1 / (self.sigma ** 2 + var_matrix_prev[idx_t]))\n",
    "\n",
    "            self.var_matrix = var_matrix\n",
    "            self.std_matrix = np.sqrt(var_matrix)\n",
    "            self.mean_matrix = mean_matrix\n",
    "            self.kernel_matrix = kernel_matrix\n",
    "            self.UCB_Matrix = self.UCB_Matrix.reshape([self.K] * self.N)\n",
    "\n",
    "    def semi_Update(self, losses):\n",
    "        self.weights = np.multiply(self.weights, np.exp(np.multiply(self.gamma_t, -losses)))\n",
    "        self.weights = self.weights / np.sum(\n",
    "            self.weights)\n",
    "\n",
    "\n",
    "class Player_GPMW(Parent_GPMW):\n",
    "    def __init__(self, K, T, N, min_payoff, max_payoff, sigma, all_action_profiles, payoff_matrix, kernel_optimization=False):\n",
    "        super().__init__(K, T, N, min_payoff, max_payoff, sigma, all_action_profiles, payoff_matrix, kernel_optimization)\n",
    "        self.type = \"GPMW\"\n",
    "        # beta from No-Regret Learning in Unknown Games with Correlated Payoffs [Sessa et al. 2019]\n",
    "        self.gamma_t = np.sqrt(8*np.log(self.K)/self.T)\n",
    "\n",
    "    def Update(self, payoffs):\n",
    "        payoffs = normalize(payoffs, self.min_payoff, self.max_payoff)\n",
    "        losses = np.ones(self.K) - np.array(payoffs)\n",
    "        super().semi_Update(losses)\n",
    "\n",
    "\n",
    "class Player_OPT_GPMW(Parent_GPMW):\n",
    "    def __init__(self, K, T, N, min_payoff, max_payoff, sigma, all_action_profiles, payoff_matrix, kernel_optimization=False):\n",
    "        super().__init__(K, T, N, min_payoff, max_payoff, sigma, all_action_profiles, payoff_matrix, kernel_optimization)\n",
    "        self.type = \"OPT_GPMW\"\n",
    "        # beta same as vanilla GPMW\n",
    "        self.gamma_t = np.sqrt(8*np.log(self.K)/self.T)\n",
    "\n",
    "    def Update(self, payoffs_t, payoffs_t_1):\n",
    "        payoffs_t = normalize(payoffs_t, self.min_payoff, self.max_payoff)\n",
    "        payoffs_t_1 = normalize(payoffs_t_1, self.min_payoff, self.max_payoff)\n",
    "        loss_t = np.ones(self.K) - payoffs_t\n",
    "        loss_t_1 = np.ones(self.K) - payoffs_t_1\n",
    "        losses = 2 * loss_t - loss_t_1\n",
    "        super().semi_Update(losses)"
   ]
  },
  {
   "cell_type": "code",
   "execution_count": 17,
   "id": "cooperative-sally",
   "metadata": {},
   "outputs": [],
   "source": [
    "# EXP3.P and optimistic EXP3.P players\n",
    "\n",
    "class Parent_EXP3:\n",
    "    def __init__(self, K, T, min_payoff, max_payoff):\n",
    "        self.K = K\n",
    "        self.T = T\n",
    "        self.weights = np.ones(K)\n",
    "        self.min_payoff = min_payoff\n",
    "        self.max_payoff = max_payoff\n",
    "        self.rewards_est = np.zeros(K)\n",
    "        # params from Theorem 3.2 of Regret Analysis of Stochastic and Nonstochastic Multi-armed Bandit Problems\n",
    "        # [Bubeck and Cesa-Bianchi 2012]\n",
    "        self.gamma = 1.05 * np.sqrt(np.log(self.K) * self.K / self.T)\n",
    "        delta = 0.01\n",
    "        self.beta = np.sqrt(np.log(self.K * (1 / delta)) / (self.T * self.K))\n",
    "        self.eta = 0.95 * np.sqrt(np.log(self.K) / (self.T * self.K))\n",
    "        assert self.beta > 0 and self.beta < 1 and self.gamma > 0 and self.gamma < 1\n",
    "\n",
    "    def mixed_strategy(self):\n",
    "        return self.weights / np.sum(self.weights)\n",
    "\n",
    "    def semi_Update(self, played_a, payoff, recency_bias):\n",
    "        payoff = normalize(payoff, self.min_payoff, self.max_payoff)\n",
    "        prob = self.weights[played_a] / np.sum(self.weights)\n",
    "        self.rewards_est += recency_bias * self.beta * np.divide(np.ones(self.K), self.weights / np.sum(self.weights))\n",
    "        self.rewards_est[played_a] += recency_bias*(payoff / prob)\n",
    "        self.weights = np.exp(np.multiply(self.eta, self.rewards_est))\n",
    "        self.weights = self.weights / np.sum(self.weights)\n",
    "        self.weights = (1 - self.gamma) * self.weights + self.gamma / self.K * np.ones(self.K)\n",
    "\n",
    "\n",
    "# EXP3.P algorithm (Auer et al. 2002)\n",
    "class Player_EXP3(Parent_EXP3):\n",
    "    def __init__(self, K, T, min_payoff, max_payoff):\n",
    "        super().__init__(K, T, min_payoff, max_payoff)\n",
    "        self.type = 'EXP3'\n",
    "\n",
    "    def Update(self, played_a, payoff):\n",
    "        super().semi_Update(played_a, payoff, 1)\n",
    "\n",
    "\n",
    "\n",
    "class Player_OPT_EXP3(Parent_EXP3):\n",
    "    def __init__(self, K, T, min_payoff, max_payoff):\n",
    "        super().__init__(K, T, min_payoff, max_payoff)\n",
    "        self.type = 'OPT_EXP3'\n",
    "\n",
    "    def Update(self, played_a, payoff):\n",
    "        super().semi_Update(played_a, payoff, 2)"
   ]
  },
  {
   "cell_type": "markdown",
   "id": "continental-sociology",
   "metadata": {},
   "source": [
    "## Auxiliary functions"
   ]
  },
  {
   "cell_type": "code",
   "execution_count": 18,
   "id": "directed-american",
   "metadata": {},
   "outputs": [],
   "source": [
    "def Assign_payoffs(outcome, payoff_matrix):\n",
    "    return np.squeeze(payoff_matrix[tuple(outcome)])\n",
    "\n",
    "\n",
    "def joint_dist(Mixed_strategies, K):\n",
    "    if len(Mixed_strategies) == 1:\n",
    "        return Mixed_strategies[0]\n",
    "    x = Mixed_strategies.pop(0)\n",
    "    joint_dis = []\n",
    "    tmp_joint = joint_dist(Mixed_strategies, K)\n",
    "    for j in range(K):\n",
    "        joint_dis.append(x[j] * tmp_joint)\n",
    "    return np.array(joint_dis)\n",
    "\n",
    "\n",
    "def get_combinations(params):\n",
    "    all_indices = np.indices(params)\n",
    "    return np.moveaxis(all_indices, 0, -1).reshape(-1, len(params))\n",
    "\n",
    "\n",
    "def normalize_util(payoffs, min_payoff, max_payoff):\n",
    "    if min_payoff == max_payoff:\n",
    "        return payoffs\n",
    "    payoff_range = max_payoff - min_payoff\n",
    "    payoffs = np.maximum(payoffs, min_payoff)\n",
    "    payoffs = np.minimum(payoffs, max_payoff)\n",
    "    payoffs_scaled = (payoffs - min_payoff) / payoff_range\n",
    "    return payoffs_scaled\n",
    "\n",
    "\n",
    "normalize = np.vectorize(normalize_util)"
   ]
  },
  {
   "cell_type": "markdown",
   "id": "disciplinary-interval",
   "metadata": {},
   "source": [
    "## Simulation"
   ]
  },
  {
   "cell_type": "code",
   "execution_count": 19,
   "id": "happy-edition",
   "metadata": {},
   "outputs": [],
   "source": [
    "# Data to be saved (for post processing/plotting)\n",
    "\n",
    "class GameData:\n",
    "    def __init__(self):\n",
    "        self.Played_actions = []\n",
    "        self.Mixed_strategies = []\n",
    "        self.Obtained_payoffs = []\n",
    "        self.History_GP_action = []\n",
    "        self.History_GP_payoff = []\n",
    "\n",
    "        self.Expected_regret = []\n",
    "        self.Expected_Obtained_payoffs = []\n",
    "        self.Expected_Cum_payoffs = []\n",
    "        self.Expected_payoff_to_update = []"
   ]
  },
  {
   "cell_type": "code",
   "execution_count": 20,
   "id": "configured-chaos",
   "metadata": {},
   "outputs": [],
   "source": [
    "# main function to run the game\n",
    "\n",
    "def RunGame(N, K, T, A, sigma, types, optimize=True, max_var=False):\n",
    "    noises = np.random.normal(0, sigma, size=[N, T])\n",
    "    Game_data = GameData()\n",
    "    all_action_profiles = get_combinations(tuple([K] * N))\n",
    "\n",
    "    Player = list(range(N))  # list of all players\n",
    "    for i in range(N):\n",
    "        Game_data.Expected_Cum_payoffs.append(np.zeros(K))\n",
    "        Game_data.Expected_payoff_to_update.append([np.zeros(K), np.zeros(\n",
    "            K)])  # for each player stores total expected payoff of each actions for 2 (current and prev) rounds\n",
    "\n",
    "        min_payoff = A[i].min()\n",
    "        max_payoff = A[i].max()\n",
    "\n",
    "        if types[i] == 'MWU':\n",
    "            Player[i] = Player_MWU(K, T, N, min_payoff, max_payoff)\n",
    "        if types[i] == 'OPT_MWU':\n",
    "            Player[i] = Player_OPT_MWU(K, T, N, min_payoff, max_payoff)\n",
    "        if types[i] == 'GPMW':\n",
    "            Player[i] = Player_GPMW(K, T, N, min_payoff, max_payoff, sigma, all_action_profiles, A[i], optimize)\n",
    "        if types[i] == 'OPT_GPMW':\n",
    "            Player[i] = Player_OPT_GPMW(K, T, N, min_payoff, max_payoff, sigma, all_action_profiles, A[i], optimize)\n",
    "        if types[i] == 'EXP3':\n",
    "            Player[i] = Player_EXP3(K, T, min_payoff, max_payoff)\n",
    "        if types[i] == 'OPT_EXP3':\n",
    "            Player[i] = Player_OPT_EXP3(K, T, min_payoff, max_payoff)\n",
    "\n",
    "    # Repated Game\n",
    "    for t in tqdm(range(T)):\n",
    "        Game_data.Played_actions.append([None] * N)  # initialize\n",
    "        Game_data.Mixed_strategies.append([None] * N)  # initialize\n",
    "        Game_data.Expected_regret.append([None] * N)  # initialize\n",
    "        Game_data.Expected_Obtained_payoffs.append([None] * N)  # initialize\n",
    "        Game_data.Obtained_payoffs.append([None] * N)  # initialize\n",
    "        Game_data.History_GP_action.append([None] * N)  # initialize\n",
    "        Game_data.History_GP_payoff.append([None] * N)  # initialize\n",
    "\n",
    "        for i in range(N):\n",
    "            Game_data.Mixed_strategies[t][i] = np.array(Player[i].mixed_strategy())\n",
    "            Game_data.Played_actions[t][i] = np.random.choice(range(K), p=Game_data.Mixed_strategies[t][i])\n",
    "\n",
    "        # Assign payoffs and compute regrets\n",
    "\n",
    "        for i in range(N):\n",
    "            Game_data.Obtained_payoffs[t][i] = Assign_payoffs(Game_data.Played_actions[t], A[i])\n",
    "\n",
    "            others_probabilities = Game_data.Mixed_strategies[t].copy()\n",
    "            others_probabilities.pop(i)\n",
    "            joint_dis = joint_dist(others_probabilities, K)\n",
    "\n",
    "            expected_payoff_all_actions = []  # expected payoff of actions for player i at current time\n",
    "            predicted_expected_payoff_all_actions = []\n",
    "            for a in range(K):\n",
    "                action_expected_payoff = np.sum(np.multiply(joint_dis, np.moveaxis(A[i], i, 0)[a, ...]))\n",
    "                expected_payoff_all_actions.append(action_expected_payoff)\n",
    "                Game_data.Expected_Cum_payoffs[i][a] += action_expected_payoff\n",
    "\n",
    "                if Player[i].type == \"GPMW\" or Player[i].type == \"OPT_GPMW\":\n",
    "                    predicted_action_expected_payoff = np.sum(\n",
    "                        np.multiply(joint_dis, np.moveaxis(Player[i].UCB_Matrix, i, 0)[a, ...]))\n",
    "                    predicted_expected_payoff_all_actions.append(predicted_action_expected_payoff)\n",
    "\n",
    "            Game_data.Expected_payoff_to_update[i].pop(0)\n",
    "            if Player[i].type == \"GPMW\" or Player[i].type == \"OPT_GPMW\":\n",
    "                Game_data.Expected_payoff_to_update[i].append(np.array(predicted_expected_payoff_all_actions))\n",
    "            else:\n",
    "                Game_data.Expected_payoff_to_update[i].append(np.array(expected_payoff_all_actions))\n",
    "\n",
    "            Game_data.Expected_Obtained_payoffs[t][i] = np.dot(np.array(expected_payoff_all_actions),\n",
    "                                                               np.array(Game_data.Mixed_strategies[t][i]))\n",
    "\n",
    "            Game_data.Expected_regret[t][i] = (np.max(Game_data.Expected_Cum_payoffs[i]) - sum(\n",
    "                [Game_data.Expected_Obtained_payoffs[x][i] for x in range(t + 1)]))\n",
    "\n",
    "            # Update Max_var data\n",
    "            if Player[i].type == \"GPMW\" or Player[i].type == \"OPT_GPMW\":\n",
    "                if t == 0:\n",
    "                    Game_data.History_GP_action[t][i] = Game_data.Played_actions[t]\n",
    "                    Game_data.History_GP_payoff[t][i] = Game_data.Obtained_payoffs[t][i]\n",
    "                else:\n",
    "                    variances = Player[i].var_matrix.reshape([K] * N)\n",
    "                    max_var_action = list(np.unravel_index(np.argmax(variances, axis=None), variances.shape))\n",
    "                    Game_data.History_GP_action[t][i] = max_var_action\n",
    "                    Game_data.History_GP_payoff[t][i] = Assign_payoffs(max_var_action, A[i])\n",
    "\n",
    "\n",
    "        # Update players next mixed strategy\n",
    "        for i in range(N):\n",
    "            if Player[i].type == \"MWU\":\n",
    "                Player[i].Update(Game_data.Expected_payoff_to_update[i][1])\n",
    "\n",
    "            if Player[i].type == \"OPT_MWU\":\n",
    "                Player[i].Update(Game_data.Expected_payoff_to_update[i][1],\n",
    "                                 Game_data.Expected_payoff_to_update[i][0])\n",
    "\n",
    "            if Player[i].type == \"GPMW\" or Player[i].type == \"OPT_GPMW\":\n",
    "                if max_var:\n",
    "                    history_actions = np.array([Game_data.History_GP_action[x][i] for x in range(t + 1)])\n",
    "                    history_payoffs = np.array([Game_data.History_GP_payoff[x][i] + noises[i][x] for x in range(t + 1)])\n",
    "                else:\n",
    "                    history_actions = np.array([Game_data.Played_actions[x] for x in range(t + 1)])\n",
    "                    history_payoffs = np.array([Game_data.Obtained_payoffs[x][i] + noises[i][x] for x in range(t + 1)])\n",
    "\n",
    "                if Player[i].type == \"GPMW\": \n",
    "                    Player[i].GP_update(history_actions, history_payoffs)\n",
    "                    Player[i].Update(Game_data.Expected_payoff_to_update[i][1])\n",
    "\n",
    "                if Player[i].type == \"OPT_GPMW\":\n",
    "                    Player[i].GP_update(history_actions, history_payoffs)\n",
    "                    Player[i].Update(Game_data.Expected_payoff_to_update[i][1],\n",
    "                                     Game_data.Expected_payoff_to_update[i][0])\n",
    "\n",
    "            if Player[i].type == \"EXP3\" or Player[i].type == \"OPT_EXP3\":\n",
    "                noisy_payoff = Game_data.Obtained_payoffs[t][i] + np.random.normal(0, sigma, 1)\n",
    "                Player[i].Update(Game_data.Played_actions[t][i], noisy_payoff)\n",
    "\n",
    "    return Game_data, Player"
   ]
  },
  {
   "cell_type": "code",
   "execution_count": 21,
   "id": "large-mixer",
   "metadata": {},
   "outputs": [],
   "source": [
    "# generate payoff matrix (we don't normalize payoffs here since it may impair correlation)\n",
    "\n",
    "def Generate_A(K, N, smooth=True):\n",
    "    if smooth:\n",
    "        all_action_profiles = get_combinations(tuple([K] * N))\n",
    "        Mu = 0 * np.ones(K ** N)\n",
    "        Cov = RBF.__call__(RBF(), all_action_profiles)\n",
    "        Realiz = np.random.multivariate_normal(Mu, Cov)\n",
    "\n",
    "        # Compute Posterior Mean (has bounded RKHS norm w.r.t. Kernel)\n",
    "        post_mean = np.zeros(K ** N)\n",
    "        C = Cov + sigma ** 2 * np.eye(K ** N)\n",
    "        tmp = np.linalg.inv(C).dot(Realiz)\n",
    "        for i in range(K ** N):\n",
    "            B = Cov[i, :]\n",
    "            post_mean[i] = B.dot(tmp)\n",
    "\n",
    "        Matrix = np.reshape(post_mean, tuple([K] * N))\n",
    "        return Matrix\n",
    "    else:\n",
    "        return np.random.random(size=[K] * N)"
   ]
  },
  {
   "cell_type": "markdown",
   "id": "infrared-might",
   "metadata": {},
   "source": [
    "## Plotting"
   ]
  },
  {
   "cell_type": "code",
   "execution_count": 22,
   "id": "passing-running",
   "metadata": {},
   "outputs": [],
   "source": [
    "markers = ['*', '*', 'o', 'o', 'x', 'x', '^', '^']\n",
    "\n",
    "\n",
    "def show(str):\n",
    "    with open('all.pckl', 'rb') as file:\n",
    "        N = pickle.load(file)\n",
    "        K = pickle.load(file)\n",
    "        N_types = pickle.load(file)\n",
    "        avg_expected_Regrets_all = pickle.load(file)\n",
    "        std_expected_Regrets_all = pickle.load(file)\n",
    "        avg_expected_Regrets_worst = pickle.load(file)\n",
    "        std_expected_Regrets_worst = pickle.load(file)\n",
    "        # rate = pickle.load(file)\n",
    "\n",
    "    T = len(avg_expected_Regrets_all[0])\n",
    "\n",
    "    fig, (ax1, ax2) = plt.subplots(2, 1, sharex=True, figsize=(14, 9))\n",
    "    idx_marker = 0\n",
    "    for i in range(len(N_types)):\n",
    "        p = ax1.plot(np.arange(T), avg_expected_Regrets_all[i], marker=markers[idx_marker], markevery=10, markersize=7,\n",
    "                     label=f'all {N_types[i][0]}')\n",
    "        color = p[0].get_color()\n",
    "        ax1.fill_between(range(T), avg_expected_Regrets_all[i] - std_expected_Regrets_all[i],\n",
    "                         avg_expected_Regrets_all[i] + std_expected_Regrets_all[i], alpha=0.1,\n",
    "                         color=color)\n",
    "        ax1.set_title(f'Regret average all players N = {N}, K = {K}')\n",
    "        p = ax2.plot(np.arange(T), avg_expected_Regrets_worst[i], marker=markers[idx_marker], markevery=10,\n",
    "                     markersize=7, label=f'all {N_types[i][0]}')\n",
    "        color = p[0].get_color()\n",
    "        ax2.fill_between(range(T), avg_expected_Regrets_worst[i] - std_expected_Regrets_worst[i],\n",
    "                         avg_expected_Regrets_worst[i] + std_expected_Regrets_worst[i], alpha=0.1,\n",
    "                         color=color)\n",
    "        ax2.set_title(f'Regret worst player N = {N}, K = {K}')\n",
    "        idx_marker += 1\n",
    "\n",
    "    plt.legend()\n",
    "    plt.xlabel('time')\n",
    "    fig.tight_layout()\n",
    "    plt.rcParams.update({'font.size': 14})\n",
    "    plt.savefig(f'{str}.png')\n",
    "    plt.show()"
   ]
  },
  {
   "cell_type": "markdown",
   "id": "foreign-drink",
   "metadata": {},
   "source": [
    "## Driver code"
   ]
  },
  {
   "cell_type": "code",
   "execution_count": 23,
   "id": "processed-contamination",
   "metadata": {},
   "outputs": [],
   "source": [
    "N = 4  # number of players\n",
    "K = 3  # number of actions for each player\n",
    "T = 300  # time horizon\n",
    "sigma = 1"
   ]
  },
  {
   "cell_type": "code",
   "execution_count": 24,
   "id": "bulgarian-tracker",
   "metadata": {
    "scrolled": true
   },
   "outputs": [
    {
     "name": "stderr",
     "output_type": "stream",
     "text": [
      "100%|███████████████████████████████████████████████████████████████████████████████| 300/300 [00:00<00:00, 478.31it/s]\n",
      " 18%|██████████████▏                                                                 | 53/300 [00:00<00:00, 528.22it/s]"
     ]
    },
    {
     "name": "stdout",
     "output_type": "stream",
     "text": [
      "sim0, run 0\n"
     ]
    },
    {
     "name": "stderr",
     "output_type": "stream",
     "text": [
      "100%|███████████████████████████████████████████████████████████████████████████████| 300/300 [00:00<00:00, 466.15it/s]\n",
      " 21%|█████████████████                                                               | 64/300 [00:00<00:00, 556.67it/s]"
     ]
    },
    {
     "name": "stdout",
     "output_type": "stream",
     "text": [
      "sim0, run 1\n"
     ]
    },
    {
     "name": "stderr",
     "output_type": "stream",
     "text": [
      "100%|███████████████████████████████████████████████████████████████████████████████| 300/300 [00:00<00:00, 534.85it/s]\n",
      " 21%|████████████████▊                                                               | 63/300 [00:00<00:00, 612.65it/s]"
     ]
    },
    {
     "name": "stdout",
     "output_type": "stream",
     "text": [
      "sim0, run 2\n"
     ]
    },
    {
     "name": "stderr",
     "output_type": "stream",
     "text": [
      "100%|███████████████████████████████████████████████████████████████████████████████| 300/300 [00:00<00:00, 581.49it/s]\n",
      " 24%|███████████████████▏                                                            | 72/300 [00:00<00:00, 633.60it/s]"
     ]
    },
    {
     "name": "stdout",
     "output_type": "stream",
     "text": [
      "sim0, run 3\n"
     ]
    },
    {
     "name": "stderr",
     "output_type": "stream",
     "text": [
      "100%|███████████████████████████████████████████████████████████████████████████████| 300/300 [00:00<00:00, 545.38it/s]\n",
      " 38%|██████████████████████████████▎                                                | 115/300 [00:00<00:00, 517.18it/s]"
     ]
    },
    {
     "name": "stdout",
     "output_type": "stream",
     "text": [
      "sim0, run 4\n"
     ]
    },
    {
     "name": "stderr",
     "output_type": "stream",
     "text": [
      "100%|███████████████████████████████████████████████████████████████████████████████| 300/300 [00:00<00:00, 485.42it/s]\n",
      " 19%|███████████████▍                                                                | 58/300 [00:00<00:00, 549.95it/s]"
     ]
    },
    {
     "name": "stdout",
     "output_type": "stream",
     "text": [
      "sim1, run 0\n"
     ]
    },
    {
     "name": "stderr",
     "output_type": "stream",
     "text": [
      "100%|███████████████████████████████████████████████████████████████████████████████| 300/300 [00:00<00:00, 545.98it/s]\n",
      " 20%|████████████████▎                                                               | 61/300 [00:00<00:00, 566.29it/s]"
     ]
    },
    {
     "name": "stdout",
     "output_type": "stream",
     "text": [
      "sim1, run 1\n"
     ]
    },
    {
     "name": "stderr",
     "output_type": "stream",
     "text": [
      "100%|███████████████████████████████████████████████████████████████████████████████| 300/300 [00:00<00:00, 513.21it/s]\n",
      " 22%|█████████████████▊                                                              | 67/300 [00:00<00:00, 654.20it/s]"
     ]
    },
    {
     "name": "stdout",
     "output_type": "stream",
     "text": [
      "sim1, run 2\n"
     ]
    },
    {
     "name": "stderr",
     "output_type": "stream",
     "text": [
      "100%|███████████████████████████████████████████████████████████████████████████████| 300/300 [00:00<00:00, 534.73it/s]\n",
      " 24%|███████████████████▏                                                            | 72/300 [00:00<00:00, 647.26it/s]"
     ]
    },
    {
     "name": "stdout",
     "output_type": "stream",
     "text": [
      "sim1, run 3\n"
     ]
    },
    {
     "name": "stderr",
     "output_type": "stream",
     "text": [
      "100%|███████████████████████████████████████████████████████████████████████████████| 300/300 [00:00<00:00, 559.23it/s]\n",
      " 20%|████████████████▎                                                               | 61/300 [00:00<00:00, 567.36it/s]"
     ]
    },
    {
     "name": "stdout",
     "output_type": "stream",
     "text": [
      "sim1, run 4\n"
     ]
    },
    {
     "name": "stderr",
     "output_type": "stream",
     "text": [
      "100%|███████████████████████████████████████████████████████████████████████████████| 300/300 [00:00<00:00, 507.72it/s]\n",
      " 17%|█████████████▌                                                                  | 51/300 [00:00<00:00, 503.71it/s]"
     ]
    },
    {
     "name": "stdout",
     "output_type": "stream",
     "text": [
      "sim2, run 0\n"
     ]
    },
    {
     "name": "stderr",
     "output_type": "stream",
     "text": [
      "100%|███████████████████████████████████████████████████████████████████████████████| 300/300 [00:00<00:00, 489.25it/s]\n",
      " 19%|███████████████▍                                                                | 58/300 [00:00<00:00, 506.13it/s]"
     ]
    },
    {
     "name": "stdout",
     "output_type": "stream",
     "text": [
      "sim2, run 1\n"
     ]
    },
    {
     "name": "stderr",
     "output_type": "stream",
     "text": [
      "100%|███████████████████████████████████████████████████████████████████████████████| 300/300 [00:00<00:00, 474.47it/s]\n",
      " 17%|█████████████▎                                                                  | 50/300 [00:00<00:00, 497.42it/s]"
     ]
    },
    {
     "name": "stdout",
     "output_type": "stream",
     "text": [
      "sim2, run 2\n"
     ]
    },
    {
     "name": "stderr",
     "output_type": "stream",
     "text": [
      "100%|███████████████████████████████████████████████████████████████████████████████| 300/300 [00:00<00:00, 478.32it/s]\n",
      " 19%|███████████████▏                                                                | 57/300 [00:00<00:00, 541.35it/s]"
     ]
    },
    {
     "name": "stdout",
     "output_type": "stream",
     "text": [
      "sim2, run 3\n"
     ]
    },
    {
     "name": "stderr",
     "output_type": "stream",
     "text": [
      "100%|███████████████████████████████████████████████████████████████████████████████| 300/300 [00:00<00:00, 510.99it/s]\n",
      " 19%|███████████████▍                                                                | 58/300 [00:00<00:00, 516.06it/s]"
     ]
    },
    {
     "name": "stdout",
     "output_type": "stream",
     "text": [
      "sim2, run 4\n"
     ]
    },
    {
     "name": "stderr",
     "output_type": "stream",
     "text": [
      "100%|███████████████████████████████████████████████████████████████████████████████| 300/300 [00:00<00:00, 493.55it/s]\n",
      " 18%|██████████████▏                                                                 | 53/300 [00:00<00:00, 528.65it/s]"
     ]
    },
    {
     "name": "stdout",
     "output_type": "stream",
     "text": [
      "sim3, run 0\n"
     ]
    },
    {
     "name": "stderr",
     "output_type": "stream",
     "text": [
      "100%|███████████████████████████████████████████████████████████████████████████████| 300/300 [00:00<00:00, 546.36it/s]\n",
      " 17%|█████████████▌                                                                  | 51/300 [00:00<00:00, 507.63it/s]"
     ]
    },
    {
     "name": "stdout",
     "output_type": "stream",
     "text": [
      "sim3, run 1\n"
     ]
    },
    {
     "name": "stderr",
     "output_type": "stream",
     "text": [
      "100%|███████████████████████████████████████████████████████████████████████████████| 300/300 [00:00<00:00, 482.81it/s]\n",
      " 18%|██████████████▏                                                                 | 53/300 [00:00<00:00, 467.85it/s]"
     ]
    },
    {
     "name": "stdout",
     "output_type": "stream",
     "text": [
      "sim3, run 2\n"
     ]
    },
    {
     "name": "stderr",
     "output_type": "stream",
     "text": [
      "100%|███████████████████████████████████████████████████████████████████████████████| 300/300 [00:00<00:00, 439.38it/s]\n",
      " 20%|████████████████                                                                | 60/300 [00:00<00:00, 594.47it/s]"
     ]
    },
    {
     "name": "stdout",
     "output_type": "stream",
     "text": [
      "sim3, run 3\n"
     ]
    },
    {
     "name": "stderr",
     "output_type": "stream",
     "text": [
      "100%|███████████████████████████████████████████████████████████████████████████████| 300/300 [00:00<00:00, 529.23it/s]\n",
      " 16%|█████████████                                                                   | 49/300 [00:00<00:00, 488.53it/s]"
     ]
    },
    {
     "name": "stdout",
     "output_type": "stream",
     "text": [
      "sim3, run 4\n"
     ]
    },
    {
     "name": "stderr",
     "output_type": "stream",
     "text": [
      "100%|███████████████████████████████████████████████████████████████████████████████| 300/300 [00:00<00:00, 491.23it/s]\n",
      " 21%|████████████████▌                                                               | 62/300 [00:00<00:00, 619.69it/s]"
     ]
    },
    {
     "name": "stdout",
     "output_type": "stream",
     "text": [
      "sim4, run 0\n"
     ]
    },
    {
     "name": "stderr",
     "output_type": "stream",
     "text": [
      "100%|███████████████████████████████████████████████████████████████████████████████| 300/300 [00:00<00:00, 516.29it/s]\n",
      " 17%|█████████████▊                                                                  | 52/300 [00:00<00:00, 519.61it/s]"
     ]
    },
    {
     "name": "stdout",
     "output_type": "stream",
     "text": [
      "sim4, run 1\n"
     ]
    },
    {
     "name": "stderr",
     "output_type": "stream",
     "text": [
      "100%|███████████████████████████████████████████████████████████████████████████████| 300/300 [00:00<00:00, 466.32it/s]\n",
      " 18%|██████████████▏                                                                 | 53/300 [00:00<00:00, 523.87it/s]"
     ]
    },
    {
     "name": "stdout",
     "output_type": "stream",
     "text": [
      "sim4, run 2\n"
     ]
    },
    {
     "name": "stderr",
     "output_type": "stream",
     "text": [
      "100%|███████████████████████████████████████████████████████████████████████████████| 300/300 [00:00<00:00, 507.13it/s]\n",
      " 23%|██████████████████▍                                                             | 69/300 [00:00<00:00, 674.39it/s]"
     ]
    },
    {
     "name": "stdout",
     "output_type": "stream",
     "text": [
      "sim4, run 3\n"
     ]
    },
    {
     "name": "stderr",
     "output_type": "stream",
     "text": [
      "100%|███████████████████████████████████████████████████████████████████████████████| 300/300 [00:00<00:00, 524.25it/s]\n",
      " 20%|████████████████▎                                                               | 61/300 [00:00<00:00, 563.09it/s]"
     ]
    },
    {
     "name": "stdout",
     "output_type": "stream",
     "text": [
      "sim4, run 4\n"
     ]
    },
    {
     "name": "stderr",
     "output_type": "stream",
     "text": [
      "100%|███████████████████████████████████████████████████████████████████████████████| 300/300 [00:00<00:00, 547.33it/s]\n",
      " 24%|███████████████████▍                                                            | 73/300 [00:00<00:00, 710.22it/s]"
     ]
    },
    {
     "name": "stdout",
     "output_type": "stream",
     "text": [
      "sim5, run 0\n"
     ]
    },
    {
     "name": "stderr",
     "output_type": "stream",
     "text": [
      "100%|███████████████████████████████████████████████████████████████████████████████| 300/300 [00:00<00:00, 560.53it/s]\n",
      " 19%|███████████████▏                                                                | 57/300 [00:00<00:00, 549.26it/s]"
     ]
    },
    {
     "name": "stdout",
     "output_type": "stream",
     "text": [
      "sim5, run 1\n"
     ]
    },
    {
     "name": "stderr",
     "output_type": "stream",
     "text": [
      "100%|███████████████████████████████████████████████████████████████████████████████| 300/300 [00:00<00:00, 506.93it/s]\n",
      " 24%|███████████████████▍                                                            | 73/300 [00:00<00:00, 657.41it/s]"
     ]
    },
    {
     "name": "stdout",
     "output_type": "stream",
     "text": [
      "sim5, run 2\n"
     ]
    },
    {
     "name": "stderr",
     "output_type": "stream",
     "text": [
      "100%|███████████████████████████████████████████████████████████████████████████████| 300/300 [00:00<00:00, 554.27it/s]\n",
      " 17%|█████████████▌                                                                  | 51/300 [00:00<00:00, 503.69it/s]"
     ]
    },
    {
     "name": "stdout",
     "output_type": "stream",
     "text": [
      "sim5, run 3\n"
     ]
    },
    {
     "name": "stderr",
     "output_type": "stream",
     "text": [
      "100%|███████████████████████████████████████████████████████████████████████████████| 300/300 [00:00<00:00, 487.82it/s]\n",
      " 20%|████████████████▎                                                               | 61/300 [00:00<00:00, 570.12it/s]"
     ]
    },
    {
     "name": "stdout",
     "output_type": "stream",
     "text": [
      "sim5, run 4\n"
     ]
    },
    {
     "name": "stderr",
     "output_type": "stream",
     "text": [
      "100%|███████████████████████████████████████████████████████████████████████████████| 300/300 [00:00<00:00, 534.76it/s]\n",
      " 18%|██████████████▍                                                                 | 54/300 [00:00<00:00, 522.12it/s]"
     ]
    },
    {
     "name": "stdout",
     "output_type": "stream",
     "text": [
      "sim6, run 0\n"
     ]
    },
    {
     "name": "stderr",
     "output_type": "stream",
     "text": [
      "100%|███████████████████████████████████████████████████████████████████████████████| 300/300 [00:00<00:00, 482.90it/s]\n",
      " 16%|█████████████                                                                   | 49/300 [00:00<00:00, 460.52it/s]"
     ]
    },
    {
     "name": "stdout",
     "output_type": "stream",
     "text": [
      "sim6, run 1\n"
     ]
    },
    {
     "name": "stderr",
     "output_type": "stream",
     "text": [
      "100%|███████████████████████████████████████████████████████████████████████████████| 300/300 [00:00<00:00, 456.03it/s]\n",
      " 20%|███████████████▋                                                                | 59/300 [00:00<00:00, 565.83it/s]"
     ]
    },
    {
     "name": "stdout",
     "output_type": "stream",
     "text": [
      "sim6, run 2\n"
     ]
    },
    {
     "name": "stderr",
     "output_type": "stream",
     "text": [
      "100%|███████████████████████████████████████████████████████████████████████████████| 300/300 [00:00<00:00, 580.28it/s]\n",
      " 15%|████████████▎                                                                   | 46/300 [00:00<00:00, 459.77it/s]"
     ]
    },
    {
     "name": "stdout",
     "output_type": "stream",
     "text": [
      "sim6, run 3\n"
     ]
    },
    {
     "name": "stderr",
     "output_type": "stream",
     "text": [
      "100%|███████████████████████████████████████████████████████████████████████████████| 300/300 [00:00<00:00, 499.91it/s]\n",
      " 19%|██████████████▉                                                                 | 56/300 [00:00<00:00, 549.13it/s]"
     ]
    },
    {
     "name": "stdout",
     "output_type": "stream",
     "text": [
      "sim6, run 4\n"
     ]
    },
    {
     "name": "stderr",
     "output_type": "stream",
     "text": [
      "100%|███████████████████████████████████████████████████████████████████████████████| 300/300 [00:00<00:00, 493.07it/s]\n",
      " 18%|██████████████▋                                                                 | 55/300 [00:00<00:00, 535.31it/s]"
     ]
    },
    {
     "name": "stdout",
     "output_type": "stream",
     "text": [
      "sim7, run 0\n"
     ]
    },
    {
     "name": "stderr",
     "output_type": "stream",
     "text": [
      "100%|███████████████████████████████████████████████████████████████████████████████| 300/300 [00:00<00:00, 485.07it/s]\n",
      " 20%|████████████████▎                                                               | 61/300 [00:00<00:00, 582.14it/s]"
     ]
    },
    {
     "name": "stdout",
     "output_type": "stream",
     "text": [
      "sim7, run 1\n"
     ]
    },
    {
     "name": "stderr",
     "output_type": "stream",
     "text": [
      "100%|███████████████████████████████████████████████████████████████████████████████| 300/300 [00:00<00:00, 538.02it/s]\n",
      " 17%|█████████████▌                                                                  | 51/300 [00:00<00:00, 489.54it/s]"
     ]
    },
    {
     "name": "stdout",
     "output_type": "stream",
     "text": [
      "sim7, run 2\n"
     ]
    },
    {
     "name": "stderr",
     "output_type": "stream",
     "text": [
      "100%|███████████████████████████████████████████████████████████████████████████████| 300/300 [00:00<00:00, 443.56it/s]\n",
      " 17%|█████████████▎                                                                  | 50/300 [00:00<00:00, 473.70it/s]"
     ]
    },
    {
     "name": "stdout",
     "output_type": "stream",
     "text": [
      "sim7, run 3\n"
     ]
    },
    {
     "name": "stderr",
     "output_type": "stream",
     "text": [
      "100%|███████████████████████████████████████████████████████████████████████████████| 300/300 [00:00<00:00, 522.71it/s]\n",
      " 17%|█████████████▎                                                                  | 50/300 [00:00<00:00, 495.72it/s]"
     ]
    },
    {
     "name": "stdout",
     "output_type": "stream",
     "text": [
      "sim7, run 4\n"
     ]
    },
    {
     "name": "stderr",
     "output_type": "stream",
     "text": [
      "100%|███████████████████████████████████████████████████████████████████████████████| 300/300 [00:00<00:00, 547.34it/s]\n",
      " 19%|███████████████▍                                                                | 58/300 [00:00<00:00, 540.41it/s]"
     ]
    },
    {
     "name": "stdout",
     "output_type": "stream",
     "text": [
      "sim8, run 0\n"
     ]
    },
    {
     "name": "stderr",
     "output_type": "stream",
     "text": [
      "100%|███████████████████████████████████████████████████████████████████████████████| 300/300 [00:00<00:00, 491.35it/s]\n",
      " 18%|██████████████▋                                                                 | 55/300 [00:00<00:00, 536.99it/s]"
     ]
    },
    {
     "name": "stdout",
     "output_type": "stream",
     "text": [
      "sim8, run 1\n"
     ]
    },
    {
     "name": "stderr",
     "output_type": "stream",
     "text": [
      "100%|███████████████████████████████████████████████████████████████████████████████| 300/300 [00:00<00:00, 564.22it/s]\n",
      " 18%|██████████████▍                                                                 | 54/300 [00:00<00:00, 538.59it/s]"
     ]
    },
    {
     "name": "stdout",
     "output_type": "stream",
     "text": [
      "sim8, run 2\n"
     ]
    },
    {
     "name": "stderr",
     "output_type": "stream",
     "text": [
      "100%|███████████████████████████████████████████████████████████████████████████████| 300/300 [00:00<00:00, 464.89it/s]\n",
      " 17%|█████████████▎                                                                  | 50/300 [00:00<00:00, 495.32it/s]"
     ]
    },
    {
     "name": "stdout",
     "output_type": "stream",
     "text": [
      "sim8, run 3\n"
     ]
    },
    {
     "name": "stderr",
     "output_type": "stream",
     "text": [
      "100%|███████████████████████████████████████████████████████████████████████████████| 300/300 [00:00<00:00, 471.89it/s]\n",
      " 17%|█████████████▊                                                                  | 52/300 [00:00<00:00, 502.10it/s]"
     ]
    },
    {
     "name": "stdout",
     "output_type": "stream",
     "text": [
      "sim8, run 4\n"
     ]
    },
    {
     "name": "stderr",
     "output_type": "stream",
     "text": [
      "100%|███████████████████████████████████████████████████████████████████████████████| 300/300 [00:00<00:00, 476.05it/s]\n",
      " 17%|█████████████▊                                                                  | 52/300 [00:00<00:00, 514.45it/s]"
     ]
    },
    {
     "name": "stdout",
     "output_type": "stream",
     "text": [
      "sim9, run 0\n"
     ]
    },
    {
     "name": "stderr",
     "output_type": "stream",
     "text": [
      "100%|███████████████████████████████████████████████████████████████████████████████| 300/300 [00:00<00:00, 433.07it/s]\n",
      " 18%|██████████████▍                                                                 | 54/300 [00:00<00:00, 535.13it/s]"
     ]
    },
    {
     "name": "stdout",
     "output_type": "stream",
     "text": [
      "sim9, run 1\n"
     ]
    },
    {
     "name": "stderr",
     "output_type": "stream",
     "text": [
      "100%|███████████████████████████████████████████████████████████████████████████████| 300/300 [00:00<00:00, 505.60it/s]\n",
      " 23%|██████████████████▋                                                             | 70/300 [00:00<00:00, 605.51it/s]"
     ]
    },
    {
     "name": "stdout",
     "output_type": "stream",
     "text": [
      "sim9, run 2\n"
     ]
    },
    {
     "name": "stderr",
     "output_type": "stream",
     "text": [
      "100%|███████████████████████████████████████████████████████████████████████████████| 300/300 [00:00<00:00, 519.15it/s]\n",
      " 19%|███████████████▍                                                                | 58/300 [00:00<00:00, 577.22it/s]"
     ]
    },
    {
     "name": "stdout",
     "output_type": "stream",
     "text": [
      "sim9, run 3\n"
     ]
    },
    {
     "name": "stderr",
     "output_type": "stream",
     "text": [
      "100%|███████████████████████████████████████████████████████████████████████████████| 300/300 [00:00<00:00, 564.32it/s]\n",
      " 21%|████████████████▌                                                               | 62/300 [00:00<00:00, 615.59it/s]"
     ]
    },
    {
     "name": "stdout",
     "output_type": "stream",
     "text": [
      "sim9, run 4\n"
     ]
    },
    {
     "name": "stderr",
     "output_type": "stream",
     "text": [
      "100%|███████████████████████████████████████████████████████████████████████████████| 300/300 [00:00<00:00, 453.59it/s]\n",
      " 23%|██████████████████▋                                                             | 70/300 [00:00<00:00, 691.74it/s]"
     ]
    },
    {
     "name": "stdout",
     "output_type": "stream",
     "text": [
      "sim10, run 0\n"
     ]
    },
    {
     "name": "stderr",
     "output_type": "stream",
     "text": [
      "100%|███████████████████████████████████████████████████████████████████████████████| 300/300 [00:00<00:00, 444.78it/s]\n",
      " 49%|██████████████████████████████████████▍                                        | 146/300 [00:00<00:00, 631.32it/s]"
     ]
    },
    {
     "name": "stdout",
     "output_type": "stream",
     "text": [
      "sim10, run 1\n"
     ]
    },
    {
     "name": "stderr",
     "output_type": "stream",
     "text": [
      "100%|███████████████████████████████████████████████████████████████████████████████| 300/300 [00:00<00:00, 525.04it/s]\n",
      " 19%|███████████████▏                                                                | 57/300 [00:00<00:00, 546.94it/s]"
     ]
    },
    {
     "name": "stdout",
     "output_type": "stream",
     "text": [
      "sim10, run 2\n"
     ]
    },
    {
     "name": "stderr",
     "output_type": "stream",
     "text": [
      "100%|███████████████████████████████████████████████████████████████████████████████| 300/300 [00:00<00:00, 495.53it/s]\n",
      " 23%|██████████████████▍                                                             | 69/300 [00:00<00:00, 660.06it/s]"
     ]
    },
    {
     "name": "stdout",
     "output_type": "stream",
     "text": [
      "sim10, run 3\n"
     ]
    },
    {
     "name": "stderr",
     "output_type": "stream",
     "text": [
      "100%|███████████████████████████████████████████████████████████████████████████████| 300/300 [00:00<00:00, 594.31it/s]\n",
      " 18%|██████████████▋                                                                 | 55/300 [00:00<00:00, 536.31it/s]"
     ]
    },
    {
     "name": "stdout",
     "output_type": "stream",
     "text": [
      "sim10, run 4\n"
     ]
    },
    {
     "name": "stderr",
     "output_type": "stream",
     "text": [
      "100%|███████████████████████████████████████████████████████████████████████████████| 300/300 [00:00<00:00, 517.64it/s]\n",
      " 43%|██████████████████████████████████▏                                            | 130/300 [00:00<00:00, 646.30it/s]"
     ]
    },
    {
     "name": "stdout",
     "output_type": "stream",
     "text": [
      "sim11, run 0\n"
     ]
    },
    {
     "name": "stderr",
     "output_type": "stream",
     "text": [
      "100%|███████████████████████████████████████████████████████████████████████████████| 300/300 [00:00<00:00, 570.52it/s]\n",
      " 20%|████████████████▎                                                               | 61/300 [00:00<00:00, 530.06it/s]"
     ]
    },
    {
     "name": "stdout",
     "output_type": "stream",
     "text": [
      "sim11, run 1\n"
     ]
    },
    {
     "name": "stderr",
     "output_type": "stream",
     "text": [
      "100%|███████████████████████████████████████████████████████████████████████████████| 300/300 [00:00<00:00, 512.46it/s]\n",
      " 18%|██████████████▋                                                                 | 55/300 [00:00<00:00, 515.26it/s]"
     ]
    },
    {
     "name": "stdout",
     "output_type": "stream",
     "text": [
      "sim11, run 2\n"
     ]
    },
    {
     "name": "stderr",
     "output_type": "stream",
     "text": [
      "100%|███████████████████████████████████████████████████████████████████████████████| 300/300 [00:00<00:00, 487.13it/s]\n",
      " 18%|██████████████▏                                                                 | 53/300 [00:00<00:00, 529.59it/s]"
     ]
    },
    {
     "name": "stdout",
     "output_type": "stream",
     "text": [
      "sim11, run 3\n"
     ]
    },
    {
     "name": "stderr",
     "output_type": "stream",
     "text": [
      "100%|███████████████████████████████████████████████████████████████████████████████| 300/300 [00:00<00:00, 471.82it/s]\n",
      " 25%|████████████████████                                                            | 75/300 [00:00<00:00, 740.38it/s]"
     ]
    },
    {
     "name": "stdout",
     "output_type": "stream",
     "text": [
      "sim11, run 4\n"
     ]
    },
    {
     "name": "stderr",
     "output_type": "stream",
     "text": [
      "100%|███████████████████████████████████████████████████████████████████████████████| 300/300 [00:00<00:00, 503.73it/s]\n",
      " 18%|██████████████▋                                                                 | 55/300 [00:00<00:00, 529.78it/s]"
     ]
    },
    {
     "name": "stdout",
     "output_type": "stream",
     "text": [
      "sim12, run 0\n"
     ]
    },
    {
     "name": "stderr",
     "output_type": "stream",
     "text": [
      "100%|███████████████████████████████████████████████████████████████████████████████| 300/300 [00:00<00:00, 495.26it/s]\n",
      " 20%|████████████████                                                                | 60/300 [00:00<00:00, 547.14it/s]"
     ]
    },
    {
     "name": "stdout",
     "output_type": "stream",
     "text": [
      "sim12, run 1\n"
     ]
    },
    {
     "name": "stderr",
     "output_type": "stream",
     "text": [
      "100%|███████████████████████████████████████████████████████████████████████████████| 300/300 [00:00<00:00, 500.77it/s]\n",
      " 23%|██████████████████▍                                                             | 69/300 [00:00<00:00, 686.69it/s]"
     ]
    },
    {
     "name": "stdout",
     "output_type": "stream",
     "text": [
      "sim12, run 2\n"
     ]
    },
    {
     "name": "stderr",
     "output_type": "stream",
     "text": [
      "100%|███████████████████████████████████████████████████████████████████████████████| 300/300 [00:00<00:00, 549.43it/s]\n",
      " 20%|████████████████                                                                | 60/300 [00:00<00:00, 567.16it/s]"
     ]
    },
    {
     "name": "stdout",
     "output_type": "stream",
     "text": [
      "sim12, run 3\n"
     ]
    },
    {
     "name": "stderr",
     "output_type": "stream",
     "text": [
      "100%|███████████████████████████████████████████████████████████████████████████████| 300/300 [00:00<00:00, 516.50it/s]\n",
      " 19%|██████████████▉                                                                 | 56/300 [00:00<00:00, 557.12it/s]"
     ]
    },
    {
     "name": "stdout",
     "output_type": "stream",
     "text": [
      "sim12, run 4\n"
     ]
    },
    {
     "name": "stderr",
     "output_type": "stream",
     "text": [
      "100%|███████████████████████████████████████████████████████████████████████████████| 300/300 [00:00<00:00, 493.54it/s]\n",
      " 34%|███████████████████████████                                                    | 103/300 [00:00<00:00, 516.50it/s]"
     ]
    },
    {
     "name": "stdout",
     "output_type": "stream",
     "text": [
      "sim13, run 0\n"
     ]
    },
    {
     "name": "stderr",
     "output_type": "stream",
     "text": [
      "100%|███████████████████████████████████████████████████████████████████████████████| 300/300 [00:00<00:00, 581.53it/s]\n",
      " 22%|█████████████████▎                                                              | 65/300 [00:00<00:00, 560.70it/s]"
     ]
    },
    {
     "name": "stdout",
     "output_type": "stream",
     "text": [
      "sim13, run 1\n"
     ]
    },
    {
     "name": "stderr",
     "output_type": "stream",
     "text": [
      "100%|███████████████████████████████████████████████████████████████████████████████| 300/300 [00:00<00:00, 565.54it/s]\n",
      " 16%|█████████████                                                                   | 49/300 [00:00<00:00, 479.13it/s]"
     ]
    },
    {
     "name": "stdout",
     "output_type": "stream",
     "text": [
      "sim13, run 2\n"
     ]
    },
    {
     "name": "stderr",
     "output_type": "stream",
     "text": [
      "100%|███████████████████████████████████████████████████████████████████████████████| 300/300 [00:00<00:00, 494.51it/s]\n",
      " 19%|██████████████▉                                                                 | 56/300 [00:00<00:00, 546.07it/s]"
     ]
    },
    {
     "name": "stdout",
     "output_type": "stream",
     "text": [
      "sim13, run 3\n"
     ]
    },
    {
     "name": "stderr",
     "output_type": "stream",
     "text": [
      "100%|███████████████████████████████████████████████████████████████████████████████| 300/300 [00:00<00:00, 517.26it/s]\n",
      " 22%|█████████████████▎                                                              | 65/300 [00:00<00:00, 592.21it/s]"
     ]
    },
    {
     "name": "stdout",
     "output_type": "stream",
     "text": [
      "sim13, run 4\n"
     ]
    },
    {
     "name": "stderr",
     "output_type": "stream",
     "text": [
      "100%|███████████████████████████████████████████████████████████████████████████████| 300/300 [00:00<00:00, 492.38it/s]\n",
      " 20%|████████████████                                                                | 60/300 [00:00<00:00, 585.20it/s]"
     ]
    },
    {
     "name": "stdout",
     "output_type": "stream",
     "text": [
      "sim14, run 0\n"
     ]
    },
    {
     "name": "stderr",
     "output_type": "stream",
     "text": [
      "100%|███████████████████████████████████████████████████████████████████████████████| 300/300 [00:00<00:00, 545.67it/s]\n",
      " 22%|█████████████████▎                                                              | 65/300 [00:00<00:00, 646.17it/s]"
     ]
    },
    {
     "name": "stdout",
     "output_type": "stream",
     "text": [
      "sim14, run 1\n"
     ]
    },
    {
     "name": "stderr",
     "output_type": "stream",
     "text": [
      "100%|███████████████████████████████████████████████████████████████████████████████| 300/300 [00:00<00:00, 519.80it/s]\n",
      " 20%|████████████████                                                                | 60/300 [00:00<00:00, 594.81it/s]"
     ]
    },
    {
     "name": "stdout",
     "output_type": "stream",
     "text": [
      "sim14, run 2\n"
     ]
    },
    {
     "name": "stderr",
     "output_type": "stream",
     "text": [
      "100%|███████████████████████████████████████████████████████████████████████████████| 300/300 [00:00<00:00, 515.47it/s]\n",
      " 20%|███████████████▋                                                                | 59/300 [00:00<00:00, 588.14it/s]"
     ]
    },
    {
     "name": "stdout",
     "output_type": "stream",
     "text": [
      "sim14, run 3\n"
     ]
    },
    {
     "name": "stderr",
     "output_type": "stream",
     "text": [
      "100%|███████████████████████████████████████████████████████████████████████████████| 300/300 [00:00<00:00, 472.41it/s]\n",
      " 14%|███████████▍                                                                    | 43/300 [00:00<00:00, 404.62it/s]"
     ]
    },
    {
     "name": "stdout",
     "output_type": "stream",
     "text": [
      "sim14, run 4\n"
     ]
    },
    {
     "name": "stderr",
     "output_type": "stream",
     "text": [
      "100%|███████████████████████████████████████████████████████████████████████████████| 300/300 [00:00<00:00, 398.82it/s]\n",
      " 14%|███████████▍                                                                    | 43/300 [00:00<00:00, 429.30it/s]"
     ]
    },
    {
     "name": "stdout",
     "output_type": "stream",
     "text": [
      "sim0, run 0\n"
     ]
    },
    {
     "name": "stderr",
     "output_type": "stream",
     "text": [
      "100%|███████████████████████████████████████████████████████████████████████████████| 300/300 [00:00<00:00, 395.67it/s]\n",
      " 16%|████████████▊                                                                   | 48/300 [00:00<00:00, 472.68it/s]"
     ]
    },
    {
     "name": "stdout",
     "output_type": "stream",
     "text": [
      "sim0, run 1\n"
     ]
    },
    {
     "name": "stderr",
     "output_type": "stream",
     "text": [
      "100%|███████████████████████████████████████████████████████████████████████████████| 300/300 [00:00<00:00, 417.89it/s]\n",
      " 17%|█████████████▎                                                                  | 50/300 [00:00<00:00, 476.95it/s]"
     ]
    },
    {
     "name": "stdout",
     "output_type": "stream",
     "text": [
      "sim0, run 2\n"
     ]
    },
    {
     "name": "stderr",
     "output_type": "stream",
     "text": [
      "100%|███████████████████████████████████████████████████████████████████████████████| 300/300 [00:00<00:00, 454.21it/s]\n",
      " 19%|███████████████▏                                                                | 57/300 [00:00<00:00, 539.52it/s]"
     ]
    },
    {
     "name": "stdout",
     "output_type": "stream",
     "text": [
      "sim0, run 3\n"
     ]
    },
    {
     "name": "stderr",
     "output_type": "stream",
     "text": [
      "100%|███████████████████████████████████████████████████████████████████████████████| 300/300 [00:00<00:00, 449.48it/s]\n",
      " 13%|██████████▋                                                                     | 40/300 [00:00<00:00, 394.29it/s]"
     ]
    },
    {
     "name": "stdout",
     "output_type": "stream",
     "text": [
      "sim0, run 4\n"
     ]
    },
    {
     "name": "stderr",
     "output_type": "stream",
     "text": [
      "100%|███████████████████████████████████████████████████████████████████████████████| 300/300 [00:00<00:00, 365.83it/s]\n",
      " 15%|████████████                                                                    | 45/300 [00:00<00:00, 448.19it/s]"
     ]
    },
    {
     "name": "stdout",
     "output_type": "stream",
     "text": [
      "sim1, run 0\n"
     ]
    },
    {
     "name": "stderr",
     "output_type": "stream",
     "text": [
      "100%|███████████████████████████████████████████████████████████████████████████████| 300/300 [00:00<00:00, 409.45it/s]\n",
      " 21%|█████████████████                                                               | 64/300 [00:00<00:00, 612.97it/s]"
     ]
    },
    {
     "name": "stdout",
     "output_type": "stream",
     "text": [
      "sim1, run 1\n"
     ]
    },
    {
     "name": "stderr",
     "output_type": "stream",
     "text": [
      "100%|███████████████████████████████████████████████████████████████████████████████| 300/300 [00:00<00:00, 418.12it/s]\n",
      " 16%|████████████▌                                                                   | 47/300 [00:00<00:00, 459.18it/s]"
     ]
    },
    {
     "name": "stdout",
     "output_type": "stream",
     "text": [
      "sim1, run 2\n"
     ]
    },
    {
     "name": "stderr",
     "output_type": "stream",
     "text": [
      "100%|███████████████████████████████████████████████████████████████████████████████| 300/300 [00:00<00:00, 421.78it/s]\n",
      " 15%|████████████                                                                    | 45/300 [00:00<00:00, 444.97it/s]"
     ]
    },
    {
     "name": "stdout",
     "output_type": "stream",
     "text": [
      "sim1, run 3\n"
     ]
    },
    {
     "name": "stderr",
     "output_type": "stream",
     "text": [
      "100%|███████████████████████████████████████████████████████████████████████████████| 300/300 [00:00<00:00, 415.24it/s]\n",
      " 15%|███████████▋                                                                    | 44/300 [00:00<00:00, 435.05it/s]"
     ]
    },
    {
     "name": "stdout",
     "output_type": "stream",
     "text": [
      "sim1, run 4\n"
     ]
    },
    {
     "name": "stderr",
     "output_type": "stream",
     "text": [
      "100%|███████████████████████████████████████████████████████████████████████████████| 300/300 [00:00<00:00, 479.61it/s]\n",
      " 16%|████████████▊                                                                   | 48/300 [00:00<00:00, 463.40it/s]"
     ]
    },
    {
     "name": "stdout",
     "output_type": "stream",
     "text": [
      "sim2, run 0\n"
     ]
    },
    {
     "name": "stderr",
     "output_type": "stream",
     "text": [
      "100%|███████████████████████████████████████████████████████████████████████████████| 300/300 [00:00<00:00, 430.23it/s]\n",
      " 20%|███████████████▋                                                                | 59/300 [00:00<00:00, 520.38it/s]"
     ]
    },
    {
     "name": "stdout",
     "output_type": "stream",
     "text": [
      "sim2, run 1\n"
     ]
    },
    {
     "name": "stderr",
     "output_type": "stream",
     "text": [
      "100%|███████████████████████████████████████████████████████████████████████████████| 300/300 [00:00<00:00, 463.66it/s]\n",
      " 17%|█████████████▊                                                                  | 52/300 [00:00<00:00, 503.69it/s]"
     ]
    },
    {
     "name": "stdout",
     "output_type": "stream",
     "text": [
      "sim2, run 2\n"
     ]
    },
    {
     "name": "stderr",
     "output_type": "stream",
     "text": [
      "100%|███████████████████████████████████████████████████████████████████████████████| 300/300 [00:00<00:00, 458.32it/s]\n",
      " 16%|████████████▌                                                                   | 47/300 [00:00<00:00, 428.73it/s]"
     ]
    },
    {
     "name": "stdout",
     "output_type": "stream",
     "text": [
      "sim2, run 3\n"
     ]
    },
    {
     "name": "stderr",
     "output_type": "stream",
     "text": [
      "100%|███████████████████████████████████████████████████████████████████████████████| 300/300 [00:00<00:00, 445.91it/s]\n",
      " 16%|████████████▌                                                                   | 47/300 [00:00<00:00, 435.86it/s]"
     ]
    },
    {
     "name": "stdout",
     "output_type": "stream",
     "text": [
      "sim2, run 4\n"
     ]
    },
    {
     "name": "stderr",
     "output_type": "stream",
     "text": [
      "100%|███████████████████████████████████████████████████████████████████████████████| 300/300 [00:00<00:00, 458.64it/s]\n",
      " 21%|█████████████████                                                               | 64/300 [00:00<00:00, 623.21it/s]"
     ]
    },
    {
     "name": "stdout",
     "output_type": "stream",
     "text": [
      "sim3, run 0\n"
     ]
    },
    {
     "name": "stderr",
     "output_type": "stream",
     "text": [
      "100%|███████████████████████████████████████████████████████████████████████████████| 300/300 [00:00<00:00, 510.27it/s]\n",
      " 18%|██████████████▏                                                                 | 53/300 [00:00<00:00, 521.60it/s]"
     ]
    },
    {
     "name": "stdout",
     "output_type": "stream",
     "text": [
      "sim3, run 1\n"
     ]
    },
    {
     "name": "stderr",
     "output_type": "stream",
     "text": [
      "100%|███████████████████████████████████████████████████████████████████████████████| 300/300 [00:00<00:00, 428.64it/s]\n",
      " 14%|██████████▉                                                                     | 41/300 [00:00<00:00, 409.82it/s]"
     ]
    },
    {
     "name": "stdout",
     "output_type": "stream",
     "text": [
      "sim3, run 2\n"
     ]
    },
    {
     "name": "stderr",
     "output_type": "stream",
     "text": [
      "100%|███████████████████████████████████████████████████████████████████████████████| 300/300 [00:00<00:00, 460.68it/s]\n",
      " 18%|██████████████▏                                                                 | 53/300 [00:00<00:00, 497.07it/s]"
     ]
    },
    {
     "name": "stdout",
     "output_type": "stream",
     "text": [
      "sim3, run 3\n"
     ]
    },
    {
     "name": "stderr",
     "output_type": "stream",
     "text": [
      "100%|███████████████████████████████████████████████████████████████████████████████| 300/300 [00:00<00:00, 454.74it/s]\n",
      " 15%|███████████▋                                                                    | 44/300 [00:00<00:00, 436.13it/s]"
     ]
    },
    {
     "name": "stdout",
     "output_type": "stream",
     "text": [
      "sim3, run 4\n"
     ]
    },
    {
     "name": "stderr",
     "output_type": "stream",
     "text": [
      "100%|███████████████████████████████████████████████████████████████████████████████| 300/300 [00:00<00:00, 424.24it/s]\n",
      " 19%|███████████████▍                                                                | 58/300 [00:00<00:00, 550.37it/s]"
     ]
    },
    {
     "name": "stdout",
     "output_type": "stream",
     "text": [
      "sim4, run 0\n"
     ]
    },
    {
     "name": "stderr",
     "output_type": "stream",
     "text": [
      "100%|███████████████████████████████████████████████████████████████████████████████| 300/300 [00:00<00:00, 462.99it/s]\n",
      " 18%|██████████████▋                                                                 | 55/300 [00:00<00:00, 510.99it/s]"
     ]
    },
    {
     "name": "stdout",
     "output_type": "stream",
     "text": [
      "sim4, run 1\n"
     ]
    },
    {
     "name": "stderr",
     "output_type": "stream",
     "text": [
      "100%|███████████████████████████████████████████████████████████████████████████████| 300/300 [00:00<00:00, 407.88it/s]\n",
      " 19%|██████████████▉                                                                 | 56/300 [00:00<00:00, 485.86it/s]"
     ]
    },
    {
     "name": "stdout",
     "output_type": "stream",
     "text": [
      "sim4, run 2\n"
     ]
    },
    {
     "name": "stderr",
     "output_type": "stream",
     "text": [
      "100%|███████████████████████████████████████████████████████████████████████████████| 300/300 [00:00<00:00, 486.37it/s]\n",
      " 15%|███████████▋                                                                    | 44/300 [00:00<00:00, 417.44it/s]"
     ]
    },
    {
     "name": "stdout",
     "output_type": "stream",
     "text": [
      "sim4, run 3\n"
     ]
    },
    {
     "name": "stderr",
     "output_type": "stream",
     "text": [
      "100%|███████████████████████████████████████████████████████████████████████████████| 300/300 [00:00<00:00, 426.61it/s]\n",
      " 17%|█████████████▊                                                                  | 52/300 [00:00<00:00, 491.77it/s]"
     ]
    },
    {
     "name": "stdout",
     "output_type": "stream",
     "text": [
      "sim4, run 4\n"
     ]
    },
    {
     "name": "stderr",
     "output_type": "stream",
     "text": [
      "100%|███████████████████████████████████████████████████████████████████████████████| 300/300 [00:00<00:00, 423.89it/s]\n",
      " 16%|████████████▌                                                                   | 47/300 [00:00<00:00, 467.25it/s]"
     ]
    },
    {
     "name": "stdout",
     "output_type": "stream",
     "text": [
      "sim5, run 0\n"
     ]
    },
    {
     "name": "stderr",
     "output_type": "stream",
     "text": [
      "100%|███████████████████████████████████████████████████████████████████████████████| 300/300 [00:00<00:00, 424.40it/s]\n",
      " 17%|█████████████▎                                                                  | 50/300 [00:00<00:00, 433.95it/s]"
     ]
    },
    {
     "name": "stdout",
     "output_type": "stream",
     "text": [
      "sim5, run 1\n"
     ]
    },
    {
     "name": "stderr",
     "output_type": "stream",
     "text": [
      "100%|███████████████████████████████████████████████████████████████████████████████| 300/300 [00:00<00:00, 458.71it/s]\n",
      " 15%|████████████▎                                                                   | 46/300 [00:00<00:00, 441.73it/s]"
     ]
    },
    {
     "name": "stdout",
     "output_type": "stream",
     "text": [
      "sim5, run 2\n"
     ]
    },
    {
     "name": "stderr",
     "output_type": "stream",
     "text": [
      "100%|███████████████████████████████████████████████████████████████████████████████| 300/300 [00:00<00:00, 459.95it/s]\n",
      " 19%|███████████████▏                                                                | 57/300 [00:00<00:00, 500.68it/s]"
     ]
    },
    {
     "name": "stdout",
     "output_type": "stream",
     "text": [
      "sim5, run 3\n"
     ]
    },
    {
     "name": "stderr",
     "output_type": "stream",
     "text": [
      "100%|███████████████████████████████████████████████████████████████████████████████| 300/300 [00:00<00:00, 442.17it/s]\n",
      " 14%|███████████▍                                                                    | 43/300 [00:00<00:00, 426.08it/s]"
     ]
    },
    {
     "name": "stdout",
     "output_type": "stream",
     "text": [
      "sim5, run 4\n"
     ]
    },
    {
     "name": "stderr",
     "output_type": "stream",
     "text": [
      "100%|███████████████████████████████████████████████████████████████████████████████| 300/300 [00:00<00:00, 398.50it/s]\n",
      " 18%|██████████████▏                                                                 | 53/300 [00:00<00:00, 483.49it/s]"
     ]
    },
    {
     "name": "stdout",
     "output_type": "stream",
     "text": [
      "sim6, run 0\n"
     ]
    },
    {
     "name": "stderr",
     "output_type": "stream",
     "text": [
      "100%|███████████████████████████████████████████████████████████████████████████████| 300/300 [00:00<00:00, 471.89it/s]\n",
      " 17%|█████████████▊                                                                  | 52/300 [00:00<00:00, 503.13it/s]"
     ]
    },
    {
     "name": "stdout",
     "output_type": "stream",
     "text": [
      "sim6, run 1\n"
     ]
    },
    {
     "name": "stderr",
     "output_type": "stream",
     "text": [
      "100%|███████████████████████████████████████████████████████████████████████████████| 300/300 [00:00<00:00, 459.37it/s]\n",
      " 18%|██████████████▍                                                                 | 54/300 [00:00<00:00, 470.62it/s]"
     ]
    },
    {
     "name": "stdout",
     "output_type": "stream",
     "text": [
      "sim6, run 2\n"
     ]
    },
    {
     "name": "stderr",
     "output_type": "stream",
     "text": [
      "100%|███████████████████████████████████████████████████████████████████████████████| 300/300 [00:00<00:00, 443.37it/s]\n",
      " 18%|██████████████▍                                                                 | 54/300 [00:00<00:00, 519.17it/s]"
     ]
    },
    {
     "name": "stdout",
     "output_type": "stream",
     "text": [
      "sim6, run 3\n"
     ]
    },
    {
     "name": "stderr",
     "output_type": "stream",
     "text": [
      "100%|███████████████████████████████████████████████████████████████████████████████| 300/300 [00:00<00:00, 435.50it/s]\n",
      " 17%|█████████████▊                                                                  | 52/300 [00:00<00:00, 503.52it/s]"
     ]
    },
    {
     "name": "stdout",
     "output_type": "stream",
     "text": [
      "sim6, run 4\n"
     ]
    },
    {
     "name": "stderr",
     "output_type": "stream",
     "text": [
      "100%|███████████████████████████████████████████████████████████████████████████████| 300/300 [00:00<00:00, 461.54it/s]\n",
      " 18%|██████████████▏                                                                 | 53/300 [00:00<00:00, 526.42it/s]"
     ]
    },
    {
     "name": "stdout",
     "output_type": "stream",
     "text": [
      "sim7, run 0\n"
     ]
    },
    {
     "name": "stderr",
     "output_type": "stream",
     "text": [
      "100%|███████████████████████████████████████████████████████████████████████████████| 300/300 [00:00<00:00, 512.81it/s]\n",
      " 18%|██████████████▋                                                                 | 55/300 [00:00<00:00, 522.73it/s]"
     ]
    },
    {
     "name": "stdout",
     "output_type": "stream",
     "text": [
      "sim7, run 1\n"
     ]
    },
    {
     "name": "stderr",
     "output_type": "stream",
     "text": [
      "100%|███████████████████████████████████████████████████████████████████████████████| 300/300 [00:00<00:00, 440.46it/s]\n",
      " 14%|███████████▏                                                                    | 42/300 [00:00<00:00, 367.06it/s]"
     ]
    },
    {
     "name": "stdout",
     "output_type": "stream",
     "text": [
      "sim7, run 2\n"
     ]
    },
    {
     "name": "stderr",
     "output_type": "stream",
     "text": [
      "100%|███████████████████████████████████████████████████████████████████████████████| 300/300 [00:00<00:00, 429.96it/s]\n",
      " 19%|██████████████▉                                                                 | 56/300 [00:00<00:00, 523.39it/s]"
     ]
    },
    {
     "name": "stdout",
     "output_type": "stream",
     "text": [
      "sim7, run 3\n"
     ]
    },
    {
     "name": "stderr",
     "output_type": "stream",
     "text": [
      "100%|███████████████████████████████████████████████████████████████████████████████| 300/300 [00:00<00:00, 442.14it/s]\n",
      " 17%|█████████████▊                                                                  | 52/300 [00:00<00:00, 496.53it/s]"
     ]
    },
    {
     "name": "stdout",
     "output_type": "stream",
     "text": [
      "sim7, run 4\n"
     ]
    },
    {
     "name": "stderr",
     "output_type": "stream",
     "text": [
      "100%|███████████████████████████████████████████████████████████████████████████████| 300/300 [00:00<00:00, 452.05it/s]\n",
      " 17%|█████████████▎                                                                  | 50/300 [00:00<00:00, 471.98it/s]"
     ]
    },
    {
     "name": "stdout",
     "output_type": "stream",
     "text": [
      "sim8, run 0\n"
     ]
    },
    {
     "name": "stderr",
     "output_type": "stream",
     "text": [
      "100%|███████████████████████████████████████████████████████████████████████████████| 300/300 [00:00<00:00, 438.44it/s]\n",
      " 17%|█████████████▎                                                                  | 50/300 [00:00<00:00, 495.45it/s]"
     ]
    },
    {
     "name": "stdout",
     "output_type": "stream",
     "text": [
      "sim8, run 1\n"
     ]
    },
    {
     "name": "stderr",
     "output_type": "stream",
     "text": [
      "100%|███████████████████████████████████████████████████████████████████████████████| 300/300 [00:00<00:00, 485.67it/s]\n",
      " 13%|██████████▋                                                                     | 40/300 [00:00<00:00, 380.40it/s]"
     ]
    },
    {
     "name": "stdout",
     "output_type": "stream",
     "text": [
      "sim8, run 2\n"
     ]
    },
    {
     "name": "stderr",
     "output_type": "stream",
     "text": [
      "100%|███████████████████████████████████████████████████████████████████████████████| 300/300 [00:00<00:00, 470.53it/s]\n",
      " 16%|████████████▊                                                                   | 48/300 [00:00<00:00, 431.67it/s]"
     ]
    },
    {
     "name": "stdout",
     "output_type": "stream",
     "text": [
      "sim8, run 3\n"
     ]
    },
    {
     "name": "stderr",
     "output_type": "stream",
     "text": [
      "100%|███████████████████████████████████████████████████████████████████████████████| 300/300 [00:00<00:00, 433.50it/s]\n",
      " 18%|██████████████▍                                                                 | 54/300 [00:00<00:00, 532.68it/s]"
     ]
    },
    {
     "name": "stdout",
     "output_type": "stream",
     "text": [
      "sim8, run 4\n"
     ]
    },
    {
     "name": "stderr",
     "output_type": "stream",
     "text": [
      "100%|███████████████████████████████████████████████████████████████████████████████| 300/300 [00:00<00:00, 414.87it/s]\n",
      " 14%|███████████▏                                                                    | 42/300 [00:00<00:00, 391.39it/s]"
     ]
    },
    {
     "name": "stdout",
     "output_type": "stream",
     "text": [
      "sim9, run 0\n"
     ]
    },
    {
     "name": "stderr",
     "output_type": "stream",
     "text": [
      "100%|███████████████████████████████████████████████████████████████████████████████| 300/300 [00:00<00:00, 419.02it/s]\n",
      " 19%|██████████████▉                                                                 | 56/300 [00:00<00:00, 520.17it/s]"
     ]
    },
    {
     "name": "stdout",
     "output_type": "stream",
     "text": [
      "sim9, run 1\n"
     ]
    },
    {
     "name": "stderr",
     "output_type": "stream",
     "text": [
      "100%|███████████████████████████████████████████████████████████████████████████████| 300/300 [00:00<00:00, 444.46it/s]\n",
      " 18%|██████████████▍                                                                 | 54/300 [00:00<00:00, 505.44it/s]"
     ]
    },
    {
     "name": "stdout",
     "output_type": "stream",
     "text": [
      "sim9, run 2\n"
     ]
    },
    {
     "name": "stderr",
     "output_type": "stream",
     "text": [
      "100%|███████████████████████████████████████████████████████████████████████████████| 300/300 [00:00<00:00, 475.05it/s]\n",
      " 22%|█████████████████▊                                                              | 67/300 [00:00<00:00, 584.49it/s]"
     ]
    },
    {
     "name": "stdout",
     "output_type": "stream",
     "text": [
      "sim9, run 3\n"
     ]
    },
    {
     "name": "stderr",
     "output_type": "stream",
     "text": [
      "100%|███████████████████████████████████████████████████████████████████████████████| 300/300 [00:00<00:00, 430.33it/s]\n",
      " 14%|███████████▍                                                                    | 43/300 [00:00<00:00, 405.32it/s]"
     ]
    },
    {
     "name": "stdout",
     "output_type": "stream",
     "text": [
      "sim9, run 4\n"
     ]
    },
    {
     "name": "stderr",
     "output_type": "stream",
     "text": [
      "100%|███████████████████████████████████████████████████████████████████████████████| 300/300 [00:00<00:00, 419.79it/s]\n",
      " 20%|███████████████▋                                                                | 59/300 [00:00<00:00, 563.77it/s]"
     ]
    },
    {
     "name": "stdout",
     "output_type": "stream",
     "text": [
      "sim10, run 0\n"
     ]
    },
    {
     "name": "stderr",
     "output_type": "stream",
     "text": [
      "100%|███████████████████████████████████████████████████████████████████████████████| 300/300 [00:00<00:00, 495.41it/s]\n",
      " 19%|███████████████▏                                                                | 57/300 [00:00<00:00, 537.41it/s]"
     ]
    },
    {
     "name": "stdout",
     "output_type": "stream",
     "text": [
      "sim10, run 1\n"
     ]
    },
    {
     "name": "stderr",
     "output_type": "stream",
     "text": [
      "100%|███████████████████████████████████████████████████████████████████████████████| 300/300 [00:00<00:00, 480.14it/s]\n",
      " 17%|█████████████▎                                                                  | 50/300 [00:00<00:00, 457.45it/s]"
     ]
    },
    {
     "name": "stdout",
     "output_type": "stream",
     "text": [
      "sim10, run 2\n"
     ]
    },
    {
     "name": "stderr",
     "output_type": "stream",
     "text": [
      "100%|███████████████████████████████████████████████████████████████████████████████| 300/300 [00:00<00:00, 376.74it/s]\n",
      " 15%|███████████▋                                                                    | 44/300 [00:00<00:00, 397.44it/s]"
     ]
    },
    {
     "name": "stdout",
     "output_type": "stream",
     "text": [
      "sim10, run 3\n"
     ]
    },
    {
     "name": "stderr",
     "output_type": "stream",
     "text": [
      "100%|███████████████████████████████████████████████████████████████████████████████| 300/300 [00:00<00:00, 411.87it/s]\n",
      " 15%|████████████                                                                    | 45/300 [00:00<00:00, 426.46it/s]"
     ]
    },
    {
     "name": "stdout",
     "output_type": "stream",
     "text": [
      "sim10, run 4\n"
     ]
    },
    {
     "name": "stderr",
     "output_type": "stream",
     "text": [
      "100%|███████████████████████████████████████████████████████████████████████████████| 300/300 [00:00<00:00, 436.33it/s]\n",
      " 17%|█████████████▌                                                                  | 51/300 [00:00<00:00, 479.78it/s]"
     ]
    },
    {
     "name": "stdout",
     "output_type": "stream",
     "text": [
      "sim11, run 0\n"
     ]
    },
    {
     "name": "stderr",
     "output_type": "stream",
     "text": [
      "100%|███████████████████████████████████████████████████████████████████████████████| 300/300 [00:00<00:00, 431.59it/s]\n",
      " 35%|███████████████████████████▉                                                   | 106/300 [00:00<00:00, 500.54it/s]"
     ]
    },
    {
     "name": "stdout",
     "output_type": "stream",
     "text": [
      "sim11, run 1\n"
     ]
    },
    {
     "name": "stderr",
     "output_type": "stream",
     "text": [
      "100%|███████████████████████████████████████████████████████████████████████████████| 300/300 [00:00<00:00, 446.33it/s]\n",
      " 18%|██████████████▏                                                                 | 53/300 [00:00<00:00, 485.35it/s]"
     ]
    },
    {
     "name": "stdout",
     "output_type": "stream",
     "text": [
      "sim11, run 2\n"
     ]
    },
    {
     "name": "stderr",
     "output_type": "stream",
     "text": [
      "100%|███████████████████████████████████████████████████████████████████████████████| 300/300 [00:00<00:00, 460.97it/s]\n",
      " 33%|██████████████████████████▏                                                     | 98/300 [00:00<00:00, 460.96it/s]"
     ]
    },
    {
     "name": "stdout",
     "output_type": "stream",
     "text": [
      "sim11, run 3\n"
     ]
    },
    {
     "name": "stderr",
     "output_type": "stream",
     "text": [
      "100%|███████████████████████████████████████████████████████████████████████████████| 300/300 [00:00<00:00, 421.88it/s]\n",
      " 15%|████████████▎                                                                   | 46/300 [00:00<00:00, 445.23it/s]"
     ]
    },
    {
     "name": "stdout",
     "output_type": "stream",
     "text": [
      "sim11, run 4\n"
     ]
    },
    {
     "name": "stderr",
     "output_type": "stream",
     "text": [
      "100%|███████████████████████████████████████████████████████████████████████████████| 300/300 [00:00<00:00, 413.16it/s]\n",
      " 16%|████████████▌                                                                   | 47/300 [00:00<00:00, 415.11it/s]"
     ]
    },
    {
     "name": "stdout",
     "output_type": "stream",
     "text": [
      "sim12, run 0\n"
     ]
    },
    {
     "name": "stderr",
     "output_type": "stream",
     "text": [
      "100%|███████████████████████████████████████████████████████████████████████████████| 300/300 [00:00<00:00, 440.12it/s]\n",
      " 15%|████████████▎                                                                   | 46/300 [00:00<00:00, 438.52it/s]"
     ]
    },
    {
     "name": "stdout",
     "output_type": "stream",
     "text": [
      "sim12, run 1\n"
     ]
    },
    {
     "name": "stderr",
     "output_type": "stream",
     "text": [
      "100%|███████████████████████████████████████████████████████████████████████████████| 300/300 [00:00<00:00, 442.16it/s]\n",
      " 14%|██████████▉                                                                     | 41/300 [00:00<00:00, 394.99it/s]"
     ]
    },
    {
     "name": "stdout",
     "output_type": "stream",
     "text": [
      "sim12, run 2\n"
     ]
    },
    {
     "name": "stderr",
     "output_type": "stream",
     "text": [
      "100%|███████████████████████████████████████████████████████████████████████████████| 300/300 [00:00<00:00, 434.67it/s]\n",
      " 14%|███████████▏                                                                    | 42/300 [00:00<00:00, 373.31it/s]"
     ]
    },
    {
     "name": "stdout",
     "output_type": "stream",
     "text": [
      "sim12, run 3\n"
     ]
    },
    {
     "name": "stderr",
     "output_type": "stream",
     "text": [
      "100%|███████████████████████████████████████████████████████████████████████████████| 300/300 [00:00<00:00, 426.98it/s]\n",
      " 15%|████████████                                                                    | 45/300 [00:00<00:00, 432.32it/s]"
     ]
    },
    {
     "name": "stdout",
     "output_type": "stream",
     "text": [
      "sim12, run 4\n"
     ]
    },
    {
     "name": "stderr",
     "output_type": "stream",
     "text": [
      "100%|███████████████████████████████████████████████████████████████████████████████| 300/300 [00:00<00:00, 431.97it/s]\n",
      " 15%|████████████                                                                    | 45/300 [00:00<00:00, 443.02it/s]"
     ]
    },
    {
     "name": "stdout",
     "output_type": "stream",
     "text": [
      "sim13, run 0\n"
     ]
    },
    {
     "name": "stderr",
     "output_type": "stream",
     "text": [
      "100%|███████████████████████████████████████████████████████████████████████████████| 300/300 [00:00<00:00, 462.75it/s]\n",
      " 15%|███████████▋                                                                    | 44/300 [00:00<00:00, 434.80it/s]"
     ]
    },
    {
     "name": "stdout",
     "output_type": "stream",
     "text": [
      "sim13, run 1\n"
     ]
    },
    {
     "name": "stderr",
     "output_type": "stream",
     "text": [
      "100%|███████████████████████████████████████████████████████████████████████████████| 300/300 [00:00<00:00, 439.82it/s]\n",
      " 18%|██████████████▍                                                                 | 54/300 [00:00<00:00, 526.65it/s]"
     ]
    },
    {
     "name": "stdout",
     "output_type": "stream",
     "text": [
      "sim13, run 2\n"
     ]
    },
    {
     "name": "stderr",
     "output_type": "stream",
     "text": [
      "100%|███████████████████████████████████████████████████████████████████████████████| 300/300 [00:00<00:00, 429.56it/s]\n",
      " 17%|█████████████▎                                                                  | 50/300 [00:00<00:00, 462.05it/s]"
     ]
    },
    {
     "name": "stdout",
     "output_type": "stream",
     "text": [
      "sim13, run 3\n"
     ]
    },
    {
     "name": "stderr",
     "output_type": "stream",
     "text": [
      "100%|███████████████████████████████████████████████████████████████████████████████| 300/300 [00:00<00:00, 438.87it/s]\n",
      " 18%|██████████████▏                                                                 | 53/300 [00:00<00:00, 466.67it/s]"
     ]
    },
    {
     "name": "stdout",
     "output_type": "stream",
     "text": [
      "sim13, run 4\n"
     ]
    },
    {
     "name": "stderr",
     "output_type": "stream",
     "text": [
      "100%|███████████████████████████████████████████████████████████████████████████████| 300/300 [00:00<00:00, 450.31it/s]\n",
      " 18%|██████████████▍                                                                 | 54/300 [00:00<00:00, 520.41it/s]"
     ]
    },
    {
     "name": "stdout",
     "output_type": "stream",
     "text": [
      "sim14, run 0\n"
     ]
    },
    {
     "name": "stderr",
     "output_type": "stream",
     "text": [
      "100%|███████████████████████████████████████████████████████████████████████████████| 300/300 [00:00<00:00, 448.14it/s]\n",
      " 19%|██████████████▉                                                                 | 56/300 [00:00<00:00, 523.24it/s]"
     ]
    },
    {
     "name": "stdout",
     "output_type": "stream",
     "text": [
      "sim14, run 1\n"
     ]
    },
    {
     "name": "stderr",
     "output_type": "stream",
     "text": [
      "100%|███████████████████████████████████████████████████████████████████████████████| 300/300 [00:00<00:00, 446.87it/s]\n",
      " 19%|███████████████▏                                                                | 57/300 [00:00<00:00, 503.99it/s]"
     ]
    },
    {
     "name": "stdout",
     "output_type": "stream",
     "text": [
      "sim14, run 2\n"
     ]
    },
    {
     "name": "stderr",
     "output_type": "stream",
     "text": [
      "100%|███████████████████████████████████████████████████████████████████████████████| 300/300 [00:00<00:00, 489.31it/s]\n",
      " 18%|██████████████▋                                                                 | 55/300 [00:00<00:00, 514.97it/s]"
     ]
    },
    {
     "name": "stdout",
     "output_type": "stream",
     "text": [
      "sim14, run 3\n"
     ]
    },
    {
     "name": "stderr",
     "output_type": "stream",
     "text": [
      "100%|███████████████████████████████████████████████████████████████████████████████| 300/300 [00:00<00:00, 440.30it/s]\n",
      "  5%|███▋                                                                            | 14/300 [00:00<00:02, 127.16it/s]"
     ]
    },
    {
     "name": "stdout",
     "output_type": "stream",
     "text": [
      "sim14, run 4\n"
     ]
    },
    {
     "name": "stderr",
     "output_type": "stream",
     "text": [
      "100%|███████████████████████████████████████████████████████████████████████████████| 300/300 [00:02<00:00, 110.66it/s]\n",
      "  4%|███▏                                                                            | 12/300 [00:00<00:02, 117.13it/s]"
     ]
    },
    {
     "name": "stdout",
     "output_type": "stream",
     "text": [
      "sim0, run 0\n"
     ]
    },
    {
     "name": "stderr",
     "output_type": "stream",
     "text": [
      "100%|███████████████████████████████████████████████████████████████████████████████| 300/300 [00:02<00:00, 103.13it/s]\n",
      "  4%|███▍                                                                            | 13/300 [00:00<00:02, 128.21it/s]"
     ]
    },
    {
     "name": "stdout",
     "output_type": "stream",
     "text": [
      "sim0, run 1\n"
     ]
    },
    {
     "name": "stderr",
     "output_type": "stream",
     "text": [
      "100%|███████████████████████████████████████████████████████████████████████████████| 300/300 [00:02<00:00, 104.47it/s]\n",
      "  5%|████▎                                                                           | 16/300 [00:00<00:02, 139.80it/s]"
     ]
    },
    {
     "name": "stdout",
     "output_type": "stream",
     "text": [
      "sim0, run 2\n"
     ]
    },
    {
     "name": "stderr",
     "output_type": "stream",
     "text": [
      "100%|███████████████████████████████████████████████████████████████████████████████| 300/300 [00:02<00:00, 104.86it/s]\n",
      "  6%|████▊                                                                           | 18/300 [00:00<00:01, 159.19it/s]"
     ]
    },
    {
     "name": "stdout",
     "output_type": "stream",
     "text": [
      "sim0, run 3\n"
     ]
    },
    {
     "name": "stderr",
     "output_type": "stream",
     "text": [
      "100%|███████████████████████████████████████████████████████████████████████████████| 300/300 [00:02<00:00, 107.80it/s]\n",
      "  5%|████                                                                            | 15/300 [00:00<00:02, 132.11it/s]"
     ]
    },
    {
     "name": "stdout",
     "output_type": "stream",
     "text": [
      "sim0, run 4\n"
     ]
    },
    {
     "name": "stderr",
     "output_type": "stream",
     "text": [
      "100%|███████████████████████████████████████████████████████████████████████████████| 300/300 [00:02<00:00, 101.86it/s]\n",
      "  4%|███▏                                                                            | 12/300 [00:00<00:02, 118.57it/s]"
     ]
    },
    {
     "name": "stdout",
     "output_type": "stream",
     "text": [
      "sim1, run 0\n"
     ]
    },
    {
     "name": "stderr",
     "output_type": "stream",
     "text": [
      "100%|███████████████████████████████████████████████████████████████████████████████| 300/300 [00:02<00:00, 100.62it/s]\n",
      "  6%|████▊                                                                           | 18/300 [00:00<00:01, 160.32it/s]"
     ]
    },
    {
     "name": "stdout",
     "output_type": "stream",
     "text": [
      "sim1, run 1\n"
     ]
    },
    {
     "name": "stderr",
     "output_type": "stream",
     "text": [
      "100%|███████████████████████████████████████████████████████████████████████████████| 300/300 [00:02<00:00, 100.22it/s]\n",
      "  4%|██▉                                                                             | 11/300 [00:00<00:02, 107.69it/s]"
     ]
    },
    {
     "name": "stdout",
     "output_type": "stream",
     "text": [
      "sim1, run 2\n"
     ]
    },
    {
     "name": "stderr",
     "output_type": "stream",
     "text": [
      "100%|████████████████████████████████████████████████████████████████████████████████| 300/300 [00:03<00:00, 88.06it/s]\n",
      "  4%|███▏                                                                            | 12/300 [00:00<00:02, 117.04it/s]"
     ]
    },
    {
     "name": "stdout",
     "output_type": "stream",
     "text": [
      "sim1, run 3\n"
     ]
    },
    {
     "name": "stderr",
     "output_type": "stream",
     "text": [
      "100%|████████████████████████████████████████████████████████████████████████████████| 300/300 [00:03<00:00, 94.34it/s]\n",
      "  5%|████▎                                                                           | 16/300 [00:00<00:01, 157.46it/s]"
     ]
    },
    {
     "name": "stdout",
     "output_type": "stream",
     "text": [
      "sim1, run 4\n"
     ]
    },
    {
     "name": "stderr",
     "output_type": "stream",
     "text": [
      "100%|███████████████████████████████████████████████████████████████████████████████| 300/300 [00:02<00:00, 102.86it/s]\n",
      "  6%|████▌                                                                           | 17/300 [00:00<00:01, 160.53it/s]"
     ]
    },
    {
     "name": "stdout",
     "output_type": "stream",
     "text": [
      "sim2, run 0\n"
     ]
    },
    {
     "name": "stderr",
     "output_type": "stream",
     "text": [
      "100%|███████████████████████████████████████████████████████████████████████████████| 300/300 [00:02<00:00, 106.95it/s]\n",
      "  5%|███▋                                                                            | 14/300 [00:00<00:02, 125.12it/s]"
     ]
    },
    {
     "name": "stdout",
     "output_type": "stream",
     "text": [
      "sim2, run 1\n"
     ]
    },
    {
     "name": "stderr",
     "output_type": "stream",
     "text": [
      "100%|███████████████████████████████████████████████████████████████████████████████| 300/300 [00:02<00:00, 101.52it/s]\n",
      "  6%|████▌                                                                           | 17/300 [00:00<00:01, 168.28it/s]"
     ]
    },
    {
     "name": "stdout",
     "output_type": "stream",
     "text": [
      "sim2, run 2\n"
     ]
    },
    {
     "name": "stderr",
     "output_type": "stream",
     "text": [
      "100%|████████████████████████████████████████████████████████████████████████████████| 300/300 [00:03<00:00, 94.53it/s]\n",
      "  5%|███▋                                                                            | 14/300 [00:00<00:02, 133.38it/s]"
     ]
    },
    {
     "name": "stdout",
     "output_type": "stream",
     "text": [
      "sim2, run 3\n"
     ]
    },
    {
     "name": "stderr",
     "output_type": "stream",
     "text": [
      "100%|████████████████████████████████████████████████████████████████████████████████| 300/300 [00:03<00:00, 95.37it/s]\n",
      "  4%|███▏                                                                            | 12/300 [00:00<00:02, 117.95it/s]"
     ]
    },
    {
     "name": "stdout",
     "output_type": "stream",
     "text": [
      "sim2, run 4\n"
     ]
    },
    {
     "name": "stderr",
     "output_type": "stream",
     "text": [
      "100%|████████████████████████████████████████████████████████████████████████████████| 300/300 [00:03<00:00, 88.26it/s]\n",
      "  4%|███▏                                                                            | 12/300 [00:00<00:02, 119.51it/s]"
     ]
    },
    {
     "name": "stdout",
     "output_type": "stream",
     "text": [
      "sim3, run 0\n"
     ]
    },
    {
     "name": "stderr",
     "output_type": "stream",
     "text": [
      "100%|███████████████████████████████████████████████████████████████████████████████| 300/300 [00:02<00:00, 105.47it/s]\n",
      "  5%|████                                                                            | 15/300 [00:00<00:01, 146.74it/s]"
     ]
    },
    {
     "name": "stdout",
     "output_type": "stream",
     "text": [
      "sim3, run 1\n"
     ]
    },
    {
     "name": "stderr",
     "output_type": "stream",
     "text": [
      "100%|████████████████████████████████████████████████████████████████████████████████| 300/300 [00:03<00:00, 95.50it/s]\n",
      "  4%|███▏                                                                            | 12/300 [00:00<00:02, 117.98it/s]"
     ]
    },
    {
     "name": "stdout",
     "output_type": "stream",
     "text": [
      "sim3, run 2\n"
     ]
    },
    {
     "name": "stderr",
     "output_type": "stream",
     "text": [
      "100%|████████████████████████████████████████████████████████████████████████████████| 300/300 [00:03<00:00, 97.23it/s]\n",
      "  7%|█████▌                                                                          | 21/300 [00:00<00:01, 207.48it/s]"
     ]
    },
    {
     "name": "stdout",
     "output_type": "stream",
     "text": [
      "sim3, run 3\n"
     ]
    },
    {
     "name": "stderr",
     "output_type": "stream",
     "text": [
      "100%|███████████████████████████████████████████████████████████████████████████████| 300/300 [00:02<00:00, 107.45it/s]\n",
      "  5%|████                                                                            | 15/300 [00:00<00:02, 135.43it/s]"
     ]
    },
    {
     "name": "stdout",
     "output_type": "stream",
     "text": [
      "sim3, run 4\n"
     ]
    },
    {
     "name": "stderr",
     "output_type": "stream",
     "text": [
      "100%|████████████████████████████████████████████████████████████████████████████████| 300/300 [00:03<00:00, 99.34it/s]\n",
      "  5%|████▎                                                                           | 16/300 [00:00<00:01, 153.66it/s]"
     ]
    },
    {
     "name": "stdout",
     "output_type": "stream",
     "text": [
      "sim4, run 0\n"
     ]
    },
    {
     "name": "stderr",
     "output_type": "stream",
     "text": [
      "100%|███████████████████████████████████████████████████████████████████████████████| 300/300 [00:02<00:00, 105.75it/s]\n",
      "  6%|████▌                                                                           | 17/300 [00:00<00:01, 167.10it/s]"
     ]
    },
    {
     "name": "stdout",
     "output_type": "stream",
     "text": [
      "sim4, run 1\n"
     ]
    },
    {
     "name": "stderr",
     "output_type": "stream",
     "text": [
      "100%|███████████████████████████████████████████████████████████████████████████████| 300/300 [00:02<00:00, 113.47it/s]\n",
      "  6%|████▌                                                                           | 17/300 [00:00<00:01, 164.11it/s]"
     ]
    },
    {
     "name": "stdout",
     "output_type": "stream",
     "text": [
      "sim4, run 2\n"
     ]
    },
    {
     "name": "stderr",
     "output_type": "stream",
     "text": [
      "100%|███████████████████████████████████████████████████████████████████████████████| 300/300 [00:02<00:00, 104.91it/s]\n",
      "  5%|████                                                                            | 15/300 [00:00<00:01, 149.19it/s]"
     ]
    },
    {
     "name": "stdout",
     "output_type": "stream",
     "text": [
      "sim4, run 3\n"
     ]
    },
    {
     "name": "stderr",
     "output_type": "stream",
     "text": [
      "100%|███████████████████████████████████████████████████████████████████████████████| 300/300 [00:02<00:00, 105.92it/s]\n",
      "  5%|████                                                                            | 15/300 [00:00<00:01, 143.00it/s]"
     ]
    },
    {
     "name": "stdout",
     "output_type": "stream",
     "text": [
      "sim4, run 4\n"
     ]
    },
    {
     "name": "stderr",
     "output_type": "stream",
     "text": [
      "100%|███████████████████████████████████████████████████████████████████████████████| 300/300 [00:02<00:00, 104.46it/s]\n",
      "  5%|████▎                                                                           | 16/300 [00:00<00:01, 145.48it/s]"
     ]
    },
    {
     "name": "stdout",
     "output_type": "stream",
     "text": [
      "sim5, run 0\n"
     ]
    },
    {
     "name": "stderr",
     "output_type": "stream",
     "text": [
      "100%|███████████████████████████████████████████████████████████████████████████████| 300/300 [00:02<00:00, 104.27it/s]\n",
      "  5%|████▎                                                                           | 16/300 [00:00<00:02, 136.61it/s]"
     ]
    },
    {
     "name": "stdout",
     "output_type": "stream",
     "text": [
      "sim5, run 1\n"
     ]
    },
    {
     "name": "stderr",
     "output_type": "stream",
     "text": [
      "100%|████████████████████████████████████████████████████████████████████████████████| 300/300 [00:03<00:00, 98.84it/s]\n",
      "  4%|███▍                                                                            | 13/300 [00:00<00:02, 128.94it/s]"
     ]
    },
    {
     "name": "stdout",
     "output_type": "stream",
     "text": [
      "sim5, run 2\n"
     ]
    },
    {
     "name": "stderr",
     "output_type": "stream",
     "text": [
      "100%|███████████████████████████████████████████████████████████████████████████████| 300/300 [00:02<00:00, 104.84it/s]\n",
      "  4%|███▏                                                                            | 12/300 [00:00<00:02, 111.60it/s]"
     ]
    },
    {
     "name": "stdout",
     "output_type": "stream",
     "text": [
      "sim5, run 3\n"
     ]
    },
    {
     "name": "stderr",
     "output_type": "stream",
     "text": [
      "100%|███████████████████████████████████████████████████████████████████████████████| 300/300 [00:02<00:00, 104.42it/s]\n",
      "  4%|███▍                                                                            | 13/300 [00:00<00:02, 127.48it/s]"
     ]
    },
    {
     "name": "stdout",
     "output_type": "stream",
     "text": [
      "sim5, run 4\n"
     ]
    },
    {
     "name": "stderr",
     "output_type": "stream",
     "text": [
      "100%|███████████████████████████████████████████████████████████████████████████████| 300/300 [00:02<00:00, 100.82it/s]\n",
      "  6%|████▊                                                                           | 18/300 [00:00<00:01, 174.55it/s]"
     ]
    },
    {
     "name": "stdout",
     "output_type": "stream",
     "text": [
      "sim6, run 0\n"
     ]
    },
    {
     "name": "stderr",
     "output_type": "stream",
     "text": [
      "100%|███████████████████████████████████████████████████████████████████████████████| 300/300 [00:02<00:00, 108.91it/s]\n",
      "  6%|████▊                                                                           | 18/300 [00:00<00:01, 159.88it/s]"
     ]
    },
    {
     "name": "stdout",
     "output_type": "stream",
     "text": [
      "sim6, run 1\n"
     ]
    },
    {
     "name": "stderr",
     "output_type": "stream",
     "text": [
      "100%|███████████████████████████████████████████████████████████████████████████████| 300/300 [00:02<00:00, 104.25it/s]\n",
      "  5%|███▋                                                                            | 14/300 [00:00<00:02, 134.52it/s]"
     ]
    },
    {
     "name": "stdout",
     "output_type": "stream",
     "text": [
      "sim6, run 2\n"
     ]
    },
    {
     "name": "stderr",
     "output_type": "stream",
     "text": [
      "100%|████████████████████████████████████████████████████████████████████████████████| 300/300 [00:03<00:00, 98.84it/s]\n",
      "  4%|██▉                                                                             | 11/300 [00:00<00:02, 104.69it/s]"
     ]
    },
    {
     "name": "stdout",
     "output_type": "stream",
     "text": [
      "sim6, run 3\n"
     ]
    },
    {
     "name": "stderr",
     "output_type": "stream",
     "text": [
      "100%|███████████████████████████████████████████████████████████████████████████████| 300/300 [00:02<00:00, 103.84it/s]\n",
      "  5%|███▋                                                                            | 14/300 [00:00<00:02, 135.04it/s]"
     ]
    },
    {
     "name": "stdout",
     "output_type": "stream",
     "text": [
      "sim6, run 4\n"
     ]
    },
    {
     "name": "stderr",
     "output_type": "stream",
     "text": [
      "100%|███████████████████████████████████████████████████████████████████████████████| 300/300 [00:02<00:00, 106.86it/s]\n",
      "  4%|███▍                                                                            | 13/300 [00:00<00:02, 122.48it/s]"
     ]
    },
    {
     "name": "stdout",
     "output_type": "stream",
     "text": [
      "sim7, run 0\n"
     ]
    },
    {
     "name": "stderr",
     "output_type": "stream",
     "text": [
      "100%|███████████████████████████████████████████████████████████████████████████████| 300/300 [00:02<00:00, 108.55it/s]\n",
      "  5%|████▎                                                                           | 16/300 [00:00<00:02, 134.63it/s]"
     ]
    },
    {
     "name": "stdout",
     "output_type": "stream",
     "text": [
      "sim7, run 1\n"
     ]
    },
    {
     "name": "stderr",
     "output_type": "stream",
     "text": [
      "100%|███████████████████████████████████████████████████████████████████████████████| 300/300 [00:02<00:00, 109.64it/s]\n",
      "  5%|███▋                                                                            | 14/300 [00:00<00:02, 123.19it/s]"
     ]
    },
    {
     "name": "stdout",
     "output_type": "stream",
     "text": [
      "sim7, run 2\n"
     ]
    },
    {
     "name": "stderr",
     "output_type": "stream",
     "text": [
      "100%|███████████████████████████████████████████████████████████████████████████████| 300/300 [00:02<00:00, 104.20it/s]\n",
      "  5%|███▋                                                                            | 14/300 [00:00<00:02, 122.54it/s]"
     ]
    },
    {
     "name": "stdout",
     "output_type": "stream",
     "text": [
      "sim7, run 3\n"
     ]
    },
    {
     "name": "stderr",
     "output_type": "stream",
     "text": [
      "100%|███████████████████████████████████████████████████████████████████████████████| 300/300 [00:02<00:00, 104.79it/s]\n",
      "  5%|████                                                                            | 15/300 [00:00<00:01, 147.56it/s]"
     ]
    },
    {
     "name": "stdout",
     "output_type": "stream",
     "text": [
      "sim7, run 4\n"
     ]
    },
    {
     "name": "stderr",
     "output_type": "stream",
     "text": [
      "100%|███████████████████████████████████████████████████████████████████████████████| 300/300 [00:02<00:00, 107.10it/s]\n",
      "  4%|███▏                                                                            | 12/300 [00:00<00:02, 119.99it/s]"
     ]
    },
    {
     "name": "stdout",
     "output_type": "stream",
     "text": [
      "sim8, run 0\n"
     ]
    },
    {
     "name": "stderr",
     "output_type": "stream",
     "text": [
      "100%|███████████████████████████████████████████████████████████████████████████████| 300/300 [00:02<00:00, 104.35it/s]\n",
      "  5%|████▎                                                                           | 16/300 [00:00<00:01, 146.42it/s]"
     ]
    },
    {
     "name": "stdout",
     "output_type": "stream",
     "text": [
      "sim8, run 1\n"
     ]
    },
    {
     "name": "stderr",
     "output_type": "stream",
     "text": [
      "100%|███████████████████████████████████████████████████████████████████████████████| 300/300 [00:02<00:00, 103.79it/s]\n",
      "  6%|████▌                                                                           | 17/300 [00:00<00:01, 154.96it/s]"
     ]
    },
    {
     "name": "stdout",
     "output_type": "stream",
     "text": [
      "sim8, run 2\n"
     ]
    },
    {
     "name": "stderr",
     "output_type": "stream",
     "text": [
      "100%|███████████████████████████████████████████████████████████████████████████████| 300/300 [00:02<00:00, 101.23it/s]\n",
      "  6%|████▌                                                                           | 17/300 [00:00<00:01, 161.51it/s]"
     ]
    },
    {
     "name": "stdout",
     "output_type": "stream",
     "text": [
      "sim8, run 3\n"
     ]
    },
    {
     "name": "stderr",
     "output_type": "stream",
     "text": [
      "100%|███████████████████████████████████████████████████████████████████████████████| 300/300 [00:02<00:00, 110.53it/s]\n",
      "  5%|███▋                                                                            | 14/300 [00:00<00:02, 127.36it/s]"
     ]
    },
    {
     "name": "stdout",
     "output_type": "stream",
     "text": [
      "sim8, run 4\n"
     ]
    },
    {
     "name": "stderr",
     "output_type": "stream",
     "text": [
      "100%|███████████████████████████████████████████████████████████████████████████████| 300/300 [00:02<00:00, 112.67it/s]\n",
      "  6%|████▌                                                                           | 17/300 [00:00<00:01, 149.91it/s]"
     ]
    },
    {
     "name": "stdout",
     "output_type": "stream",
     "text": [
      "sim9, run 0\n"
     ]
    },
    {
     "name": "stderr",
     "output_type": "stream",
     "text": [
      "100%|███████████████████████████████████████████████████████████████████████████████| 300/300 [00:02<00:00, 116.66it/s]\n",
      "  5%|████▎                                                                           | 16/300 [00:00<00:01, 144.85it/s]"
     ]
    },
    {
     "name": "stdout",
     "output_type": "stream",
     "text": [
      "sim9, run 1\n"
     ]
    },
    {
     "name": "stderr",
     "output_type": "stream",
     "text": [
      "100%|███████████████████████████████████████████████████████████████████████████████| 300/300 [00:02<00:00, 113.79it/s]\n",
      "  6%|████▌                                                                           | 17/300 [00:00<00:01, 161.91it/s]"
     ]
    },
    {
     "name": "stdout",
     "output_type": "stream",
     "text": [
      "sim9, run 2\n"
     ]
    },
    {
     "name": "stderr",
     "output_type": "stream",
     "text": [
      "100%|███████████████████████████████████████████████████████████████████████████████| 300/300 [00:02<00:00, 111.53it/s]\n",
      "  5%|████                                                                            | 15/300 [00:00<00:02, 130.05it/s]"
     ]
    },
    {
     "name": "stdout",
     "output_type": "stream",
     "text": [
      "sim9, run 3\n"
     ]
    },
    {
     "name": "stderr",
     "output_type": "stream",
     "text": [
      "100%|███████████████████████████████████████████████████████████████████████████████| 300/300 [00:02<00:00, 113.31it/s]\n",
      "  5%|███▋                                                                            | 14/300 [00:00<00:02, 139.82it/s]"
     ]
    },
    {
     "name": "stdout",
     "output_type": "stream",
     "text": [
      "sim9, run 4\n"
     ]
    },
    {
     "name": "stderr",
     "output_type": "stream",
     "text": [
      "100%|████████████████████████████████████████████████████████████████████████████████| 300/300 [00:03<00:00, 97.31it/s]\n",
      "  6%|████▌                                                                           | 17/300 [00:00<00:01, 162.89it/s]"
     ]
    },
    {
     "name": "stdout",
     "output_type": "stream",
     "text": [
      "sim10, run 0\n"
     ]
    },
    {
     "name": "stderr",
     "output_type": "stream",
     "text": [
      "100%|███████████████████████████████████████████████████████████████████████████████| 300/300 [00:02<00:00, 105.31it/s]\n",
      "  5%|████                                                                            | 15/300 [00:00<00:02, 130.90it/s]"
     ]
    },
    {
     "name": "stdout",
     "output_type": "stream",
     "text": [
      "sim10, run 1\n"
     ]
    },
    {
     "name": "stderr",
     "output_type": "stream",
     "text": [
      "100%|███████████████████████████████████████████████████████████████████████████████| 300/300 [00:02<00:00, 114.72it/s]\n",
      "  5%|████▎                                                                           | 16/300 [00:00<00:01, 153.14it/s]"
     ]
    },
    {
     "name": "stdout",
     "output_type": "stream",
     "text": [
      "sim10, run 2\n"
     ]
    },
    {
     "name": "stderr",
     "output_type": "stream",
     "text": [
      "100%|███████████████████████████████████████████████████████████████████████████████| 300/300 [00:02<00:00, 109.59it/s]\n",
      "  5%|████                                                                            | 15/300 [00:00<00:01, 143.37it/s]"
     ]
    },
    {
     "name": "stdout",
     "output_type": "stream",
     "text": [
      "sim10, run 3\n"
     ]
    },
    {
     "name": "stderr",
     "output_type": "stream",
     "text": [
      "100%|███████████████████████████████████████████████████████████████████████████████| 300/300 [00:02<00:00, 111.74it/s]\n",
      "  5%|████▎                                                                           | 16/300 [00:00<00:01, 158.81it/s]"
     ]
    },
    {
     "name": "stdout",
     "output_type": "stream",
     "text": [
      "sim10, run 4\n"
     ]
    },
    {
     "name": "stderr",
     "output_type": "stream",
     "text": [
      "100%|████████████████████████████████████████████████████████████████████████████████| 300/300 [00:03<00:00, 98.65it/s]\n",
      "  5%|███▋                                                                            | 14/300 [00:00<00:02, 128.21it/s]"
     ]
    },
    {
     "name": "stdout",
     "output_type": "stream",
     "text": [
      "sim11, run 0\n"
     ]
    },
    {
     "name": "stderr",
     "output_type": "stream",
     "text": [
      "100%|████████████████████████████████████████████████████████████████████████████████| 300/300 [00:03<00:00, 92.22it/s]\n",
      "  4%|███▍                                                                            | 13/300 [00:00<00:02, 121.14it/s]"
     ]
    },
    {
     "name": "stdout",
     "output_type": "stream",
     "text": [
      "sim11, run 1\n"
     ]
    },
    {
     "name": "stderr",
     "output_type": "stream",
     "text": [
      "100%|████████████████████████████████████████████████████████████████████████████████| 300/300 [00:03<00:00, 94.91it/s]\n",
      "  4%|██▉                                                                             | 11/300 [00:00<00:02, 107.65it/s]"
     ]
    },
    {
     "name": "stdout",
     "output_type": "stream",
     "text": [
      "sim11, run 2\n"
     ]
    },
    {
     "name": "stderr",
     "output_type": "stream",
     "text": [
      "100%|████████████████████████████████████████████████████████████████████████████████| 300/300 [00:03<00:00, 91.50it/s]\n",
      "  4%|███▏                                                                            | 12/300 [00:00<00:02, 115.56it/s]"
     ]
    },
    {
     "name": "stdout",
     "output_type": "stream",
     "text": [
      "sim11, run 3\n"
     ]
    },
    {
     "name": "stderr",
     "output_type": "stream",
     "text": [
      "100%|████████████████████████████████████████████████████████████████████████████████| 300/300 [00:03<00:00, 86.54it/s]\n",
      "  5%|████▎                                                                           | 16/300 [00:00<00:01, 150.79it/s]"
     ]
    },
    {
     "name": "stdout",
     "output_type": "stream",
     "text": [
      "sim11, run 4\n"
     ]
    },
    {
     "name": "stderr",
     "output_type": "stream",
     "text": [
      "100%|███████████████████████████████████████████████████████████████████████████████| 300/300 [00:02<00:00, 101.74it/s]\n",
      "  4%|██▉                                                                             | 11/300 [00:00<00:02, 106.54it/s]"
     ]
    },
    {
     "name": "stdout",
     "output_type": "stream",
     "text": [
      "sim12, run 0\n"
     ]
    },
    {
     "name": "stderr",
     "output_type": "stream",
     "text": [
      "100%|███████████████████████████████████████████████████████████████████████████████| 300/300 [00:02<00:00, 100.75it/s]\n",
      "  5%|███▋                                                                            | 14/300 [00:00<00:02, 125.14it/s]"
     ]
    },
    {
     "name": "stdout",
     "output_type": "stream",
     "text": [
      "sim12, run 1\n"
     ]
    },
    {
     "name": "stderr",
     "output_type": "stream",
     "text": [
      "100%|███████████████████████████████████████████████████████████████████████████████| 300/300 [00:02<00:00, 105.58it/s]\n",
      "  5%|████                                                                            | 15/300 [00:00<00:02, 131.45it/s]"
     ]
    },
    {
     "name": "stdout",
     "output_type": "stream",
     "text": [
      "sim12, run 2\n"
     ]
    },
    {
     "name": "stderr",
     "output_type": "stream",
     "text": [
      "100%|███████████████████████████████████████████████████████████████████████████████| 300/300 [00:02<00:00, 105.91it/s]\n",
      "  6%|█████                                                                           | 19/300 [00:00<00:01, 170.32it/s]"
     ]
    },
    {
     "name": "stdout",
     "output_type": "stream",
     "text": [
      "sim12, run 3\n"
     ]
    },
    {
     "name": "stderr",
     "output_type": "stream",
     "text": [
      "100%|████████████████████████████████████████████████████████████████████████████████| 300/300 [00:03<00:00, 97.95it/s]\n",
      "  5%|████▎                                                                           | 16/300 [00:00<00:01, 158.60it/s]"
     ]
    },
    {
     "name": "stdout",
     "output_type": "stream",
     "text": [
      "sim12, run 4\n"
     ]
    },
    {
     "name": "stderr",
     "output_type": "stream",
     "text": [
      "100%|███████████████████████████████████████████████████████████████████████████████| 300/300 [00:02<00:00, 106.12it/s]\n",
      "  4%|███▏                                                                            | 12/300 [00:00<00:02, 111.35it/s]"
     ]
    },
    {
     "name": "stdout",
     "output_type": "stream",
     "text": [
      "sim13, run 0\n"
     ]
    },
    {
     "name": "stderr",
     "output_type": "stream",
     "text": [
      "100%|████████████████████████████████████████████████████████████████████████████████| 300/300 [00:03<00:00, 97.05it/s]\n",
      "  5%|████▎                                                                           | 16/300 [00:00<00:01, 150.69it/s]"
     ]
    },
    {
     "name": "stdout",
     "output_type": "stream",
     "text": [
      "sim13, run 1\n"
     ]
    },
    {
     "name": "stderr",
     "output_type": "stream",
     "text": [
      "100%|████████████████████████████████████████████████████████████████████████████████| 300/300 [00:03<00:00, 96.38it/s]\n",
      "  5%|███▋                                                                            | 14/300 [00:00<00:02, 136.46it/s]"
     ]
    },
    {
     "name": "stdout",
     "output_type": "stream",
     "text": [
      "sim13, run 2\n"
     ]
    },
    {
     "name": "stderr",
     "output_type": "stream",
     "text": [
      "100%|███████████████████████████████████████████████████████████████████████████████| 300/300 [00:02<00:00, 105.02it/s]\n",
      "  6%|████▌                                                                           | 17/300 [00:00<00:01, 155.28it/s]"
     ]
    },
    {
     "name": "stdout",
     "output_type": "stream",
     "text": [
      "sim13, run 3\n"
     ]
    },
    {
     "name": "stderr",
     "output_type": "stream",
     "text": [
      "100%|███████████████████████████████████████████████████████████████████████████████| 300/300 [00:02<00:00, 100.83it/s]\n",
      "  5%|████                                                                            | 15/300 [00:00<00:02, 136.83it/s]"
     ]
    },
    {
     "name": "stdout",
     "output_type": "stream",
     "text": [
      "sim13, run 4\n"
     ]
    },
    {
     "name": "stderr",
     "output_type": "stream",
     "text": [
      "100%|███████████████████████████████████████████████████████████████████████████████| 300/300 [00:02<00:00, 104.83it/s]\n",
      "  7%|█████▎                                                                          | 20/300 [00:00<00:01, 181.20it/s]"
     ]
    },
    {
     "name": "stdout",
     "output_type": "stream",
     "text": [
      "sim14, run 0\n"
     ]
    },
    {
     "name": "stderr",
     "output_type": "stream",
     "text": [
      "100%|███████████████████████████████████████████████████████████████████████████████| 300/300 [00:02<00:00, 101.81it/s]\n",
      "  5%|████▎                                                                           | 16/300 [00:00<00:01, 155.65it/s]"
     ]
    },
    {
     "name": "stdout",
     "output_type": "stream",
     "text": [
      "sim14, run 1\n"
     ]
    },
    {
     "name": "stderr",
     "output_type": "stream",
     "text": [
      "100%|███████████████████████████████████████████████████████████████████████████████| 300/300 [00:02<00:00, 107.59it/s]\n",
      "  5%|███▋                                                                            | 14/300 [00:00<00:02, 128.07it/s]"
     ]
    },
    {
     "name": "stdout",
     "output_type": "stream",
     "text": [
      "sim14, run 2\n"
     ]
    },
    {
     "name": "stderr",
     "output_type": "stream",
     "text": [
      "100%|███████████████████████████████████████████████████████████████████████████████| 300/300 [00:02<00:00, 102.43it/s]\n",
      "  4%|███▍                                                                            | 13/300 [00:00<00:02, 122.37it/s]"
     ]
    },
    {
     "name": "stdout",
     "output_type": "stream",
     "text": [
      "sim14, run 3\n"
     ]
    },
    {
     "name": "stderr",
     "output_type": "stream",
     "text": [
      "100%|███████████████████████████████████████████████████████████████████████████████| 300/300 [00:02<00:00, 101.77it/s]\n",
      "  4%|███▍                                                                            | 13/300 [00:00<00:02, 128.68it/s]"
     ]
    },
    {
     "name": "stdout",
     "output_type": "stream",
     "text": [
      "sim14, run 4\n"
     ]
    },
    {
     "name": "stderr",
     "output_type": "stream",
     "text": [
      "100%|████████████████████████████████████████████████████████████████████████████████| 300/300 [00:03<00:00, 90.29it/s]\n",
      "  5%|████                                                                            | 15/300 [00:00<00:01, 147.03it/s]"
     ]
    },
    {
     "name": "stdout",
     "output_type": "stream",
     "text": [
      "sim0, run 0\n"
     ]
    },
    {
     "name": "stderr",
     "output_type": "stream",
     "text": [
      "100%|███████████████████████████████████████████████████████████████████████████████| 300/300 [00:02<00:00, 109.07it/s]\n",
      "  4%|██▉                                                                             | 11/300 [00:00<00:02, 109.71it/s]"
     ]
    },
    {
     "name": "stdout",
     "output_type": "stream",
     "text": [
      "sim0, run 1\n"
     ]
    },
    {
     "name": "stderr",
     "output_type": "stream",
     "text": [
      "100%|███████████████████████████████████████████████████████████████████████████████| 300/300 [00:02<00:00, 105.23it/s]\n",
      "  4%|███▏                                                                            | 12/300 [00:00<00:02, 117.38it/s]"
     ]
    },
    {
     "name": "stdout",
     "output_type": "stream",
     "text": [
      "sim0, run 2\n"
     ]
    },
    {
     "name": "stderr",
     "output_type": "stream",
     "text": [
      "100%|███████████████████████████████████████████████████████████████████████████████| 300/300 [00:02<00:00, 107.82it/s]\n",
      "  5%|███▋                                                                            | 14/300 [00:00<00:02, 136.18it/s]"
     ]
    },
    {
     "name": "stdout",
     "output_type": "stream",
     "text": [
      "sim0, run 3\n"
     ]
    },
    {
     "name": "stderr",
     "output_type": "stream",
     "text": [
      "100%|███████████████████████████████████████████████████████████████████████████████| 300/300 [00:02<00:00, 103.36it/s]\n",
      "  5%|████                                                                            | 15/300 [00:00<00:02, 131.91it/s]"
     ]
    },
    {
     "name": "stdout",
     "output_type": "stream",
     "text": [
      "sim0, run 4\n"
     ]
    },
    {
     "name": "stderr",
     "output_type": "stream",
     "text": [
      "100%|███████████████████████████████████████████████████████████████████████████████| 300/300 [00:02<00:00, 107.88it/s]\n",
      "  4%|███▏                                                                            | 12/300 [00:00<00:02, 114.76it/s]"
     ]
    },
    {
     "name": "stdout",
     "output_type": "stream",
     "text": [
      "sim1, run 0\n"
     ]
    },
    {
     "name": "stderr",
     "output_type": "stream",
     "text": [
      "100%|███████████████████████████████████████████████████████████████████████████████| 300/300 [00:02<00:00, 100.43it/s]\n",
      "  6%|████▊                                                                           | 18/300 [00:00<00:01, 156.12it/s]"
     ]
    },
    {
     "name": "stdout",
     "output_type": "stream",
     "text": [
      "sim1, run 1\n"
     ]
    },
    {
     "name": "stderr",
     "output_type": "stream",
     "text": [
      "100%|███████████████████████████████████████████████████████████████████████████████| 300/300 [00:02<00:00, 107.78it/s]\n",
      "  5%|████▎                                                                           | 16/300 [00:00<00:01, 159.25it/s]"
     ]
    },
    {
     "name": "stdout",
     "output_type": "stream",
     "text": [
      "sim1, run 2\n"
     ]
    },
    {
     "name": "stderr",
     "output_type": "stream",
     "text": [
      "100%|███████████████████████████████████████████████████████████████████████████████| 300/300 [00:02<00:00, 102.96it/s]\n",
      "  4%|███▍                                                                            | 13/300 [00:00<00:02, 122.52it/s]"
     ]
    },
    {
     "name": "stdout",
     "output_type": "stream",
     "text": [
      "sim1, run 3\n"
     ]
    },
    {
     "name": "stderr",
     "output_type": "stream",
     "text": [
      "100%|███████████████████████████████████████████████████████████████████████████████| 300/300 [00:02<00:00, 103.81it/s]\n",
      "  5%|███▋                                                                            | 14/300 [00:00<00:02, 121.41it/s]"
     ]
    },
    {
     "name": "stdout",
     "output_type": "stream",
     "text": [
      "sim1, run 4\n"
     ]
    },
    {
     "name": "stderr",
     "output_type": "stream",
     "text": [
      "100%|███████████████████████████████████████████████████████████████████████████████| 300/300 [00:02<00:00, 102.93it/s]\n",
      "  5%|████▎                                                                           | 16/300 [00:00<00:02, 139.88it/s]"
     ]
    },
    {
     "name": "stdout",
     "output_type": "stream",
     "text": [
      "sim2, run 0\n"
     ]
    },
    {
     "name": "stderr",
     "output_type": "stream",
     "text": [
      "100%|███████████████████████████████████████████████████████████████████████████████| 300/300 [00:02<00:00, 109.90it/s]\n",
      "  5%|████                                                                            | 15/300 [00:00<00:01, 148.41it/s]"
     ]
    },
    {
     "name": "stdout",
     "output_type": "stream",
     "text": [
      "sim2, run 1\n"
     ]
    },
    {
     "name": "stderr",
     "output_type": "stream",
     "text": [
      "100%|███████████████████████████████████████████████████████████████████████████████| 300/300 [00:02<00:00, 110.44it/s]\n",
      "  6%|█████                                                                           | 19/300 [00:00<00:01, 181.53it/s]"
     ]
    },
    {
     "name": "stdout",
     "output_type": "stream",
     "text": [
      "sim2, run 2\n"
     ]
    },
    {
     "name": "stderr",
     "output_type": "stream",
     "text": [
      "100%|███████████████████████████████████████████████████████████████████████████████| 300/300 [00:02<00:00, 108.87it/s]\n",
      "  4%|███▍                                                                            | 13/300 [00:00<00:02, 115.90it/s]"
     ]
    },
    {
     "name": "stdout",
     "output_type": "stream",
     "text": [
      "sim2, run 3\n"
     ]
    },
    {
     "name": "stderr",
     "output_type": "stream",
     "text": [
      "100%|███████████████████████████████████████████████████████████████████████████████| 300/300 [00:02<00:00, 108.63it/s]\n",
      "  4%|███▍                                                                            | 13/300 [00:00<00:02, 122.72it/s]"
     ]
    },
    {
     "name": "stdout",
     "output_type": "stream",
     "text": [
      "sim2, run 4\n"
     ]
    },
    {
     "name": "stderr",
     "output_type": "stream",
     "text": [
      "100%|███████████████████████████████████████████████████████████████████████████████| 300/300 [00:02<00:00, 103.56it/s]\n",
      "  5%|████                                                                            | 15/300 [00:00<00:02, 129.60it/s]"
     ]
    },
    {
     "name": "stdout",
     "output_type": "stream",
     "text": [
      "sim3, run 0\n"
     ]
    },
    {
     "name": "stderr",
     "output_type": "stream",
     "text": [
      "100%|███████████████████████████████████████████████████████████████████████████████| 300/300 [00:02<00:00, 107.19it/s]\n",
      "  5%|████▎                                                                           | 16/300 [00:00<00:01, 154.63it/s]"
     ]
    },
    {
     "name": "stdout",
     "output_type": "stream",
     "text": [
      "sim3, run 1\n"
     ]
    },
    {
     "name": "stderr",
     "output_type": "stream",
     "text": [
      "100%|███████████████████████████████████████████████████████████████████████████████| 300/300 [00:02<00:00, 103.30it/s]\n",
      "  5%|███▋                                                                            | 14/300 [00:00<00:02, 138.24it/s]"
     ]
    },
    {
     "name": "stdout",
     "output_type": "stream",
     "text": [
      "sim3, run 2\n"
     ]
    },
    {
     "name": "stderr",
     "output_type": "stream",
     "text": [
      "100%|███████████████████████████████████████████████████████████████████████████████| 300/300 [00:02<00:00, 101.14it/s]\n",
      "  5%|███▋                                                                            | 14/300 [00:00<00:02, 138.81it/s]"
     ]
    },
    {
     "name": "stdout",
     "output_type": "stream",
     "text": [
      "sim3, run 3\n"
     ]
    },
    {
     "name": "stderr",
     "output_type": "stream",
     "text": [
      "100%|███████████████████████████████████████████████████████████████████████████████| 300/300 [00:02<00:00, 106.45it/s]\n",
      "  6%|████▊                                                                           | 18/300 [00:00<00:01, 163.18it/s]"
     ]
    },
    {
     "name": "stdout",
     "output_type": "stream",
     "text": [
      "sim3, run 4\n"
     ]
    },
    {
     "name": "stderr",
     "output_type": "stream",
     "text": [
      "100%|███████████████████████████████████████████████████████████████████████████████| 300/300 [00:02<00:00, 101.88it/s]\n",
      "  5%|████                                                                            | 15/300 [00:00<00:02, 129.37it/s]"
     ]
    },
    {
     "name": "stdout",
     "output_type": "stream",
     "text": [
      "sim4, run 0\n"
     ]
    },
    {
     "name": "stderr",
     "output_type": "stream",
     "text": [
      "100%|███████████████████████████████████████████████████████████████████████████████| 300/300 [00:02<00:00, 102.28it/s]\n",
      "  5%|███▋                                                                            | 14/300 [00:00<00:02, 139.84it/s]"
     ]
    },
    {
     "name": "stdout",
     "output_type": "stream",
     "text": [
      "sim4, run 1\n"
     ]
    },
    {
     "name": "stderr",
     "output_type": "stream",
     "text": [
      "100%|███████████████████████████████████████████████████████████████████████████████| 300/300 [00:02<00:00, 106.59it/s]\n",
      "  5%|███▋                                                                            | 14/300 [00:00<00:02, 133.39it/s]"
     ]
    },
    {
     "name": "stdout",
     "output_type": "stream",
     "text": [
      "sim4, run 2\n"
     ]
    },
    {
     "name": "stderr",
     "output_type": "stream",
     "text": [
      "100%|███████████████████████████████████████████████████████████████████████████████| 300/300 [00:02<00:00, 106.33it/s]\n",
      "  5%|████▎                                                                           | 16/300 [00:00<00:01, 148.07it/s]"
     ]
    },
    {
     "name": "stdout",
     "output_type": "stream",
     "text": [
      "sim4, run 3\n"
     ]
    },
    {
     "name": "stderr",
     "output_type": "stream",
     "text": [
      "100%|████████████████████████████████████████████████████████████████████████████████| 300/300 [00:03<00:00, 98.52it/s]\n",
      "  5%|███▋                                                                            | 14/300 [00:00<00:02, 131.72it/s]"
     ]
    },
    {
     "name": "stdout",
     "output_type": "stream",
     "text": [
      "sim4, run 4\n"
     ]
    },
    {
     "name": "stderr",
     "output_type": "stream",
     "text": [
      "100%|███████████████████████████████████████████████████████████████████████████████| 300/300 [00:02<00:00, 102.07it/s]\n",
      "  5%|████▎                                                                           | 16/300 [00:00<00:01, 158.23it/s]"
     ]
    },
    {
     "name": "stdout",
     "output_type": "stream",
     "text": [
      "sim5, run 0\n"
     ]
    },
    {
     "name": "stderr",
     "output_type": "stream",
     "text": [
      "100%|███████████████████████████████████████████████████████████████████████████████| 300/300 [00:02<00:00, 103.42it/s]\n",
      "  6%|████▌                                                                           | 17/300 [00:00<00:01, 149.73it/s]"
     ]
    },
    {
     "name": "stdout",
     "output_type": "stream",
     "text": [
      "sim5, run 1\n"
     ]
    },
    {
     "name": "stderr",
     "output_type": "stream",
     "text": [
      "100%|███████████████████████████████████████████████████████████████████████████████| 300/300 [00:02<00:00, 106.68it/s]\n",
      "  6%|████▌                                                                           | 17/300 [00:00<00:01, 155.06it/s]"
     ]
    },
    {
     "name": "stdout",
     "output_type": "stream",
     "text": [
      "sim5, run 2\n"
     ]
    },
    {
     "name": "stderr",
     "output_type": "stream",
     "text": [
      "100%|███████████████████████████████████████████████████████████████████████████████| 300/300 [00:02<00:00, 104.16it/s]\n",
      "  6%|████▊                                                                           | 18/300 [00:00<00:01, 158.98it/s]"
     ]
    },
    {
     "name": "stdout",
     "output_type": "stream",
     "text": [
      "sim5, run 3\n"
     ]
    },
    {
     "name": "stderr",
     "output_type": "stream",
     "text": [
      "100%|███████████████████████████████████████████████████████████████████████████████| 300/300 [00:02<00:00, 101.79it/s]\n",
      "  5%|████                                                                            | 15/300 [00:00<00:02, 142.42it/s]"
     ]
    },
    {
     "name": "stdout",
     "output_type": "stream",
     "text": [
      "sim5, run 4\n"
     ]
    },
    {
     "name": "stderr",
     "output_type": "stream",
     "text": [
      "100%|███████████████████████████████████████████████████████████████████████████████| 300/300 [00:02<00:00, 101.00it/s]\n",
      "  5%|███▋                                                                            | 14/300 [00:00<00:02, 126.16it/s]"
     ]
    },
    {
     "name": "stdout",
     "output_type": "stream",
     "text": [
      "sim6, run 0\n"
     ]
    },
    {
     "name": "stderr",
     "output_type": "stream",
     "text": [
      "100%|███████████████████████████████████████████████████████████████████████████████| 300/300 [00:02<00:00, 104.24it/s]\n",
      "  5%|███▋                                                                            | 14/300 [00:00<00:02, 139.94it/s]"
     ]
    },
    {
     "name": "stdout",
     "output_type": "stream",
     "text": [
      "sim6, run 1\n"
     ]
    },
    {
     "name": "stderr",
     "output_type": "stream",
     "text": [
      "100%|███████████████████████████████████████████████████████████████████████████████| 300/300 [00:02<00:00, 109.45it/s]\n",
      "  4%|███▍                                                                            | 13/300 [00:00<00:02, 128.66it/s]"
     ]
    },
    {
     "name": "stdout",
     "output_type": "stream",
     "text": [
      "sim6, run 2\n"
     ]
    },
    {
     "name": "stderr",
     "output_type": "stream",
     "text": [
      "100%|███████████████████████████████████████████████████████████████████████████████| 300/300 [00:02<00:00, 101.50it/s]\n",
      " 11%|████████▌                                                                       | 32/300 [00:00<00:01, 157.27it/s]"
     ]
    },
    {
     "name": "stdout",
     "output_type": "stream",
     "text": [
      "sim6, run 3\n"
     ]
    },
    {
     "name": "stderr",
     "output_type": "stream",
     "text": [
      "100%|███████████████████████████████████████████████████████████████████████████████| 300/300 [00:02<00:00, 103.82it/s]\n",
      "  5%|████▎                                                                           | 16/300 [00:00<00:01, 143.93it/s]"
     ]
    },
    {
     "name": "stdout",
     "output_type": "stream",
     "text": [
      "sim6, run 4\n"
     ]
    },
    {
     "name": "stderr",
     "output_type": "stream",
     "text": [
      "100%|███████████████████████████████████████████████████████████████████████████████| 300/300 [00:02<00:00, 103.67it/s]\n",
      "  5%|████▎                                                                           | 16/300 [00:00<00:01, 154.01it/s]"
     ]
    },
    {
     "name": "stdout",
     "output_type": "stream",
     "text": [
      "sim7, run 0\n"
     ]
    },
    {
     "name": "stderr",
     "output_type": "stream",
     "text": [
      "100%|████████████████████████████████████████████████████████████████████████████████| 300/300 [00:03<00:00, 99.33it/s]\n",
      "  4%|███▏                                                                            | 12/300 [00:00<00:02, 114.67it/s]"
     ]
    },
    {
     "name": "stdout",
     "output_type": "stream",
     "text": [
      "sim7, run 1\n"
     ]
    },
    {
     "name": "stderr",
     "output_type": "stream",
     "text": [
      "100%|████████████████████████████████████████████████████████████████████████████████| 300/300 [00:03<00:00, 92.40it/s]\n",
      "  5%|████                                                                            | 15/300 [00:00<00:02, 139.12it/s]"
     ]
    },
    {
     "name": "stdout",
     "output_type": "stream",
     "text": [
      "sim7, run 2\n"
     ]
    },
    {
     "name": "stderr",
     "output_type": "stream",
     "text": [
      "100%|███████████████████████████████████████████████████████████████████████████████| 300/300 [00:02<00:00, 104.14it/s]\n",
      "  5%|████                                                                            | 15/300 [00:00<00:01, 145.54it/s]"
     ]
    },
    {
     "name": "stdout",
     "output_type": "stream",
     "text": [
      "sim7, run 3\n"
     ]
    },
    {
     "name": "stderr",
     "output_type": "stream",
     "text": [
      "100%|███████████████████████████████████████████████████████████████████████████████| 300/300 [00:02<00:00, 103.87it/s]\n",
      "  4%|██▉                                                                             | 11/300 [00:00<00:02, 109.79it/s]"
     ]
    },
    {
     "name": "stdout",
     "output_type": "stream",
     "text": [
      "sim7, run 4\n"
     ]
    },
    {
     "name": "stderr",
     "output_type": "stream",
     "text": [
      "100%|███████████████████████████████████████████████████████████████████████████████| 300/300 [00:02<00:00, 101.84it/s]\n",
      "  4%|███▍                                                                            | 13/300 [00:00<00:02, 116.92it/s]"
     ]
    },
    {
     "name": "stdout",
     "output_type": "stream",
     "text": [
      "sim8, run 0\n"
     ]
    },
    {
     "name": "stderr",
     "output_type": "stream",
     "text": [
      "100%|███████████████████████████████████████████████████████████████████████████████| 300/300 [00:02<00:00, 101.73it/s]\n",
      "  4%|███▍                                                                            | 13/300 [00:00<00:02, 126.31it/s]"
     ]
    },
    {
     "name": "stdout",
     "output_type": "stream",
     "text": [
      "sim8, run 1\n"
     ]
    },
    {
     "name": "stderr",
     "output_type": "stream",
     "text": [
      "100%|███████████████████████████████████████████████████████████████████████████████| 300/300 [00:02<00:00, 104.58it/s]\n",
      "  6%|████▌                                                                           | 17/300 [00:00<00:01, 148.06it/s]"
     ]
    },
    {
     "name": "stdout",
     "output_type": "stream",
     "text": [
      "sim8, run 2\n"
     ]
    },
    {
     "name": "stderr",
     "output_type": "stream",
     "text": [
      "100%|████████████████████████████████████████████████████████████████████████████████| 300/300 [00:03<00:00, 99.91it/s]\n",
      "  4%|███▏                                                                            | 12/300 [00:00<00:02, 110.69it/s]"
     ]
    },
    {
     "name": "stdout",
     "output_type": "stream",
     "text": [
      "sim8, run 3\n"
     ]
    },
    {
     "name": "stderr",
     "output_type": "stream",
     "text": [
      "100%|███████████████████████████████████████████████████████████████████████████████| 300/300 [00:02<00:00, 103.28it/s]\n",
      "  5%|███▋                                                                            | 14/300 [00:00<00:02, 134.94it/s]"
     ]
    },
    {
     "name": "stdout",
     "output_type": "stream",
     "text": [
      "sim8, run 4\n"
     ]
    },
    {
     "name": "stderr",
     "output_type": "stream",
     "text": [
      "100%|███████████████████████████████████████████████████████████████████████████████| 300/300 [00:02<00:00, 103.55it/s]\n",
      "  7%|█████▎                                                                          | 20/300 [00:00<00:01, 174.59it/s]"
     ]
    },
    {
     "name": "stdout",
     "output_type": "stream",
     "text": [
      "sim9, run 0\n"
     ]
    },
    {
     "name": "stderr",
     "output_type": "stream",
     "text": [
      "100%|███████████████████████████████████████████████████████████████████████████████| 300/300 [00:02<00:00, 108.45it/s]\n",
      "  5%|████▎                                                                           | 16/300 [00:00<00:02, 139.92it/s]"
     ]
    },
    {
     "name": "stdout",
     "output_type": "stream",
     "text": [
      "sim9, run 1\n"
     ]
    },
    {
     "name": "stderr",
     "output_type": "stream",
     "text": [
      "100%|███████████████████████████████████████████████████████████████████████████████| 300/300 [00:02<00:00, 100.08it/s]\n",
      "  5%|███▋                                                                            | 14/300 [00:00<00:02, 126.23it/s]"
     ]
    },
    {
     "name": "stdout",
     "output_type": "stream",
     "text": [
      "sim9, run 2\n"
     ]
    },
    {
     "name": "stderr",
     "output_type": "stream",
     "text": [
      "100%|███████████████████████████████████████████████████████████████████████████████| 300/300 [00:02<00:00, 109.19it/s]\n",
      "  6%|█████                                                                           | 19/300 [00:00<00:01, 173.44it/s]"
     ]
    },
    {
     "name": "stdout",
     "output_type": "stream",
     "text": [
      "sim9, run 3\n"
     ]
    },
    {
     "name": "stderr",
     "output_type": "stream",
     "text": [
      "100%|███████████████████████████████████████████████████████████████████████████████| 300/300 [00:02<00:00, 100.68it/s]\n",
      "  4%|███▍                                                                            | 13/300 [00:00<00:02, 128.55it/s]"
     ]
    },
    {
     "name": "stdout",
     "output_type": "stream",
     "text": [
      "sim9, run 4\n"
     ]
    },
    {
     "name": "stderr",
     "output_type": "stream",
     "text": [
      "100%|███████████████████████████████████████████████████████████████████████████████| 300/300 [00:02<00:00, 106.22it/s]\n",
      "  5%|███▋                                                                            | 14/300 [00:00<00:02, 130.92it/s]"
     ]
    },
    {
     "name": "stdout",
     "output_type": "stream",
     "text": [
      "sim10, run 0\n"
     ]
    },
    {
     "name": "stderr",
     "output_type": "stream",
     "text": [
      "100%|███████████████████████████████████████████████████████████████████████████████| 300/300 [00:02<00:00, 106.27it/s]\n",
      "  4%|██▉                                                                             | 11/300 [00:00<00:02, 107.47it/s]"
     ]
    },
    {
     "name": "stdout",
     "output_type": "stream",
     "text": [
      "sim10, run 1\n"
     ]
    },
    {
     "name": "stderr",
     "output_type": "stream",
     "text": [
      "100%|████████████████████████████████████████████████████████████████████████████████| 300/300 [00:03<00:00, 97.13it/s]\n",
      "  5%|███▋                                                                            | 14/300 [00:00<00:02, 133.51it/s]"
     ]
    },
    {
     "name": "stdout",
     "output_type": "stream",
     "text": [
      "sim10, run 2\n"
     ]
    },
    {
     "name": "stderr",
     "output_type": "stream",
     "text": [
      "100%|████████████████████████████████████████████████████████████████████████████████| 300/300 [00:03<00:00, 97.17it/s]\n",
      "  6%|█████                                                                           | 19/300 [00:00<00:01, 162.99it/s]"
     ]
    },
    {
     "name": "stdout",
     "output_type": "stream",
     "text": [
      "sim10, run 3\n"
     ]
    },
    {
     "name": "stderr",
     "output_type": "stream",
     "text": [
      "100%|███████████████████████████████████████████████████████████████████████████████| 300/300 [00:02<00:00, 102.26it/s]\n",
      "  5%|███▋                                                                            | 14/300 [00:00<00:02, 122.42it/s]"
     ]
    },
    {
     "name": "stdout",
     "output_type": "stream",
     "text": [
      "sim10, run 4\n"
     ]
    },
    {
     "name": "stderr",
     "output_type": "stream",
     "text": [
      "100%|███████████████████████████████████████████████████████████████████████████████| 300/300 [00:02<00:00, 106.02it/s]\n",
      "  4%|███▍                                                                            | 13/300 [00:00<00:02, 124.57it/s]"
     ]
    },
    {
     "name": "stdout",
     "output_type": "stream",
     "text": [
      "sim11, run 0\n"
     ]
    },
    {
     "name": "stderr",
     "output_type": "stream",
     "text": [
      "100%|███████████████████████████████████████████████████████████████████████████████| 300/300 [00:02<00:00, 105.20it/s]\n",
      "  5%|████▎                                                                           | 16/300 [00:00<00:01, 153.38it/s]"
     ]
    },
    {
     "name": "stdout",
     "output_type": "stream",
     "text": [
      "sim11, run 1\n"
     ]
    },
    {
     "name": "stderr",
     "output_type": "stream",
     "text": [
      "100%|████████████████████████████████████████████████████████████████████████████████| 300/300 [00:03<00:00, 98.03it/s]\n",
      "  5%|███▋                                                                            | 14/300 [00:00<00:02, 133.99it/s]"
     ]
    },
    {
     "name": "stdout",
     "output_type": "stream",
     "text": [
      "sim11, run 2\n"
     ]
    },
    {
     "name": "stderr",
     "output_type": "stream",
     "text": [
      "100%|███████████████████████████████████████████████████████████████████████████████| 300/300 [00:02<00:00, 100.73it/s]\n",
      "  4%|██▉                                                                             | 11/300 [00:00<00:02, 109.38it/s]"
     ]
    },
    {
     "name": "stdout",
     "output_type": "stream",
     "text": [
      "sim11, run 3\n"
     ]
    },
    {
     "name": "stderr",
     "output_type": "stream",
     "text": [
      "100%|███████████████████████████████████████████████████████████████████████████████| 300/300 [00:02<00:00, 104.31it/s]\n",
      "  5%|████▎                                                                           | 16/300 [00:00<00:01, 146.06it/s]"
     ]
    },
    {
     "name": "stdout",
     "output_type": "stream",
     "text": [
      "sim11, run 4\n"
     ]
    },
    {
     "name": "stderr",
     "output_type": "stream",
     "text": [
      "100%|███████████████████████████████████████████████████████████████████████████████| 300/300 [00:02<00:00, 101.97it/s]\n",
      "  6%|████▌                                                                           | 17/300 [00:00<00:01, 160.15it/s]"
     ]
    },
    {
     "name": "stdout",
     "output_type": "stream",
     "text": [
      "sim12, run 0\n"
     ]
    },
    {
     "name": "stderr",
     "output_type": "stream",
     "text": [
      "100%|███████████████████████████████████████████████████████████████████████████████| 300/300 [00:02<00:00, 101.00it/s]\n",
      "  5%|███▋                                                                            | 14/300 [00:00<00:02, 137.89it/s]"
     ]
    },
    {
     "name": "stdout",
     "output_type": "stream",
     "text": [
      "sim12, run 1\n"
     ]
    },
    {
     "name": "stderr",
     "output_type": "stream",
     "text": [
      "100%|████████████████████████████████████████████████████████████████████████████████| 300/300 [00:03<00:00, 98.83it/s]\n",
      "  4%|██▉                                                                             | 11/300 [00:00<00:02, 101.45it/s]"
     ]
    },
    {
     "name": "stdout",
     "output_type": "stream",
     "text": [
      "sim12, run 2\n"
     ]
    },
    {
     "name": "stderr",
     "output_type": "stream",
     "text": [
      "100%|████████████████████████████████████████████████████████████████████████████████| 300/300 [00:03<00:00, 97.83it/s]\n",
      "  4%|███▍                                                                            | 13/300 [00:00<00:02, 125.01it/s]"
     ]
    },
    {
     "name": "stdout",
     "output_type": "stream",
     "text": [
      "sim12, run 3\n"
     ]
    },
    {
     "name": "stderr",
     "output_type": "stream",
     "text": [
      "100%|███████████████████████████████████████████████████████████████████████████████| 300/300 [00:02<00:00, 102.95it/s]\n",
      "  5%|████                                                                            | 15/300 [00:00<00:02, 138.51it/s]"
     ]
    },
    {
     "name": "stdout",
     "output_type": "stream",
     "text": [
      "sim12, run 4\n"
     ]
    },
    {
     "name": "stderr",
     "output_type": "stream",
     "text": [
      "100%|███████████████████████████████████████████████████████████████████████████████| 300/300 [00:02<00:00, 102.62it/s]\n",
      "  5%|███▋                                                                            | 14/300 [00:00<00:02, 136.84it/s]"
     ]
    },
    {
     "name": "stdout",
     "output_type": "stream",
     "text": [
      "sim13, run 0\n"
     ]
    },
    {
     "name": "stderr",
     "output_type": "stream",
     "text": [
      "100%|████████████████████████████████████████████████████████████████████████████████| 300/300 [00:03<00:00, 98.26it/s]\n",
      "  4%|███▍                                                                            | 13/300 [00:00<00:02, 122.94it/s]"
     ]
    },
    {
     "name": "stdout",
     "output_type": "stream",
     "text": [
      "sim13, run 1\n"
     ]
    },
    {
     "name": "stderr",
     "output_type": "stream",
     "text": [
      "100%|███████████████████████████████████████████████████████████████████████████████| 300/300 [00:02<00:00, 102.47it/s]\n",
      "  4%|███▍                                                                            | 13/300 [00:00<00:02, 125.60it/s]"
     ]
    },
    {
     "name": "stdout",
     "output_type": "stream",
     "text": [
      "sim13, run 2\n"
     ]
    },
    {
     "name": "stderr",
     "output_type": "stream",
     "text": [
      "100%|███████████████████████████████████████████████████████████████████████████████| 300/300 [00:02<00:00, 105.77it/s]\n",
      "  4%|███▍                                                                            | 13/300 [00:00<00:02, 128.75it/s]"
     ]
    },
    {
     "name": "stdout",
     "output_type": "stream",
     "text": [
      "sim13, run 3\n"
     ]
    },
    {
     "name": "stderr",
     "output_type": "stream",
     "text": [
      "100%|███████████████████████████████████████████████████████████████████████████████| 300/300 [00:02<00:00, 104.64it/s]\n",
      "  5%|████▎                                                                           | 16/300 [00:00<00:02, 138.23it/s]"
     ]
    },
    {
     "name": "stdout",
     "output_type": "stream",
     "text": [
      "sim13, run 4\n"
     ]
    },
    {
     "name": "stderr",
     "output_type": "stream",
     "text": [
      "100%|███████████████████████████████████████████████████████████████████████████████| 300/300 [00:02<00:00, 104.67it/s]\n",
      "  5%|███▋                                                                            | 14/300 [00:00<00:02, 128.34it/s]"
     ]
    },
    {
     "name": "stdout",
     "output_type": "stream",
     "text": [
      "sim14, run 0\n"
     ]
    },
    {
     "name": "stderr",
     "output_type": "stream",
     "text": [
      "100%|████████████████████████████████████████████████████████████████████████████████| 300/300 [00:03<00:00, 97.58it/s]\n",
      "  6%|████▌                                                                           | 17/300 [00:00<00:01, 145.67it/s]"
     ]
    },
    {
     "name": "stdout",
     "output_type": "stream",
     "text": [
      "sim14, run 1\n"
     ]
    },
    {
     "name": "stderr",
     "output_type": "stream",
     "text": [
      "100%|███████████████████████████████████████████████████████████████████████████████| 300/300 [00:02<00:00, 101.02it/s]\n",
      "  5%|███▋                                                                            | 14/300 [00:00<00:02, 139.20it/s]"
     ]
    },
    {
     "name": "stdout",
     "output_type": "stream",
     "text": [
      "sim14, run 2\n"
     ]
    },
    {
     "name": "stderr",
     "output_type": "stream",
     "text": [
      "100%|████████████████████████████████████████████████████████████████████████████████| 300/300 [00:03<00:00, 97.84it/s]\n",
      "  4%|███▍                                                                            | 13/300 [00:00<00:02, 124.11it/s]"
     ]
    },
    {
     "name": "stdout",
     "output_type": "stream",
     "text": [
      "sim14, run 3\n"
     ]
    },
    {
     "name": "stderr",
     "output_type": "stream",
     "text": [
      "100%|███████████████████████████████████████████████████████████████████████████████| 300/300 [00:02<00:00, 102.12it/s]\n",
      " 22%|█████████████████▊                                                              | 67/300 [00:00<00:00, 611.23it/s]"
     ]
    },
    {
     "name": "stdout",
     "output_type": "stream",
     "text": [
      "sim14, run 4\n"
     ]
    },
    {
     "name": "stderr",
     "output_type": "stream",
     "text": [
      "100%|███████████████████████████████████████████████████████████████████████████████| 300/300 [00:00<00:00, 455.78it/s]\n",
      " 17%|█████████████▎                                                                  | 50/300 [00:00<00:00, 485.98it/s]"
     ]
    },
    {
     "name": "stdout",
     "output_type": "stream",
     "text": [
      "sim0, run 0\n"
     ]
    },
    {
     "name": "stderr",
     "output_type": "stream",
     "text": [
      "100%|███████████████████████████████████████████████████████████████████████████████| 300/300 [00:00<00:00, 427.30it/s]\n",
      " 18%|██████████████▋                                                                 | 55/300 [00:00<00:00, 549.76it/s]"
     ]
    },
    {
     "name": "stdout",
     "output_type": "stream",
     "text": [
      "sim0, run 1\n"
     ]
    },
    {
     "name": "stderr",
     "output_type": "stream",
     "text": [
      "100%|███████████████████████████████████████████████████████████████████████████████| 300/300 [00:00<00:00, 426.28it/s]\n",
      " 17%|█████████████▊                                                                  | 52/300 [00:00<00:00, 477.36it/s]"
     ]
    },
    {
     "name": "stdout",
     "output_type": "stream",
     "text": [
      "sim0, run 2\n"
     ]
    },
    {
     "name": "stderr",
     "output_type": "stream",
     "text": [
      "100%|███████████████████████████████████████████████████████████████████████████████| 300/300 [00:00<00:00, 414.78it/s]\n",
      " 19%|███████████████▍                                                                | 58/300 [00:00<00:00, 577.55it/s]"
     ]
    },
    {
     "name": "stdout",
     "output_type": "stream",
     "text": [
      "sim0, run 3\n"
     ]
    },
    {
     "name": "stderr",
     "output_type": "stream",
     "text": [
      "100%|███████████████████████████████████████████████████████████████████████████████| 300/300 [00:00<00:00, 484.56it/s]\n",
      " 14%|███████████▍                                                                    | 43/300 [00:00<00:00, 427.54it/s]"
     ]
    },
    {
     "name": "stdout",
     "output_type": "stream",
     "text": [
      "sim0, run 4\n"
     ]
    },
    {
     "name": "stderr",
     "output_type": "stream",
     "text": [
      "100%|███████████████████████████████████████████████████████████████████████████████| 300/300 [00:00<00:00, 412.60it/s]\n",
      " 16%|████████████▊                                                                   | 48/300 [00:00<00:00, 472.42it/s]"
     ]
    },
    {
     "name": "stdout",
     "output_type": "stream",
     "text": [
      "sim1, run 0\n"
     ]
    },
    {
     "name": "stderr",
     "output_type": "stream",
     "text": [
      "100%|███████████████████████████████████████████████████████████████████████████████| 300/300 [00:00<00:00, 454.60it/s]\n",
      " 15%|████████████▎                                                                   | 46/300 [00:00<00:00, 456.42it/s]"
     ]
    },
    {
     "name": "stdout",
     "output_type": "stream",
     "text": [
      "sim1, run 1\n"
     ]
    },
    {
     "name": "stderr",
     "output_type": "stream",
     "text": [
      "100%|███████████████████████████████████████████████████████████████████████████████| 300/300 [00:00<00:00, 454.23it/s]\n",
      " 17%|█████████████▎                                                                  | 50/300 [00:00<00:00, 498.55it/s]"
     ]
    },
    {
     "name": "stdout",
     "output_type": "stream",
     "text": [
      "sim1, run 2\n"
     ]
    },
    {
     "name": "stderr",
     "output_type": "stream",
     "text": [
      "100%|███████████████████████████████████████████████████████████████████████████████| 300/300 [00:00<00:00, 438.10it/s]\n",
      " 16%|████████████▊                                                                   | 48/300 [00:00<00:00, 476.77it/s]"
     ]
    },
    {
     "name": "stdout",
     "output_type": "stream",
     "text": [
      "sim1, run 3\n"
     ]
    },
    {
     "name": "stderr",
     "output_type": "stream",
     "text": [
      "100%|███████████████████████████████████████████████████████████████████████████████| 300/300 [00:00<00:00, 451.51it/s]\n",
      " 20%|███████████████▋                                                                | 59/300 [00:00<00:00, 553.16it/s]"
     ]
    },
    {
     "name": "stdout",
     "output_type": "stream",
     "text": [
      "sim1, run 4\n"
     ]
    },
    {
     "name": "stderr",
     "output_type": "stream",
     "text": [
      "100%|███████████████████████████████████████████████████████████████████████████████| 300/300 [00:00<00:00, 515.90it/s]\n",
      " 21%|████████████████▌                                                               | 62/300 [00:00<00:00, 615.64it/s]"
     ]
    },
    {
     "name": "stdout",
     "output_type": "stream",
     "text": [
      "sim2, run 0\n"
     ]
    },
    {
     "name": "stderr",
     "output_type": "stream",
     "text": [
      "100%|███████████████████████████████████████████████████████████████████████████████| 300/300 [00:00<00:00, 480.80it/s]\n",
      " 19%|███████████████▍                                                                | 58/300 [00:00<00:00, 509.42it/s]"
     ]
    },
    {
     "name": "stdout",
     "output_type": "stream",
     "text": [
      "sim2, run 1\n"
     ]
    },
    {
     "name": "stderr",
     "output_type": "stream",
     "text": [
      "100%|███████████████████████████████████████████████████████████████████████████████| 300/300 [00:00<00:00, 451.41it/s]\n",
      " 18%|██████████████▋                                                                 | 55/300 [00:00<00:00, 505.80it/s]"
     ]
    },
    {
     "name": "stdout",
     "output_type": "stream",
     "text": [
      "sim2, run 2\n"
     ]
    },
    {
     "name": "stderr",
     "output_type": "stream",
     "text": [
      "100%|███████████████████████████████████████████████████████████████████████████████| 300/300 [00:00<00:00, 468.78it/s]\n",
      " 33%|██████████████████████████▍                                                     | 99/300 [00:00<00:00, 491.40it/s]"
     ]
    },
    {
     "name": "stdout",
     "output_type": "stream",
     "text": [
      "sim2, run 3\n"
     ]
    },
    {
     "name": "stderr",
     "output_type": "stream",
     "text": [
      "100%|███████████████████████████████████████████████████████████████████████████████| 300/300 [00:00<00:00, 445.55it/s]\n",
      " 18%|██████████████▋                                                                 | 55/300 [00:00<00:00, 511.19it/s]"
     ]
    },
    {
     "name": "stdout",
     "output_type": "stream",
     "text": [
      "sim2, run 4\n"
     ]
    },
    {
     "name": "stderr",
     "output_type": "stream",
     "text": [
      "100%|███████████████████████████████████████████████████████████████████████████████| 300/300 [00:00<00:00, 500.21it/s]\n",
      " 17%|█████████████▊                                                                  | 52/300 [00:00<00:00, 519.20it/s]"
     ]
    },
    {
     "name": "stdout",
     "output_type": "stream",
     "text": [
      "sim3, run 0\n"
     ]
    },
    {
     "name": "stderr",
     "output_type": "stream",
     "text": [
      "100%|███████████████████████████████████████████████████████████████████████████████| 300/300 [00:00<00:00, 492.31it/s]\n",
      " 17%|█████████████▎                                                                  | 50/300 [00:00<00:00, 498.22it/s]"
     ]
    },
    {
     "name": "stdout",
     "output_type": "stream",
     "text": [
      "sim3, run 1\n"
     ]
    },
    {
     "name": "stderr",
     "output_type": "stream",
     "text": [
      "100%|███████████████████████████████████████████████████████████████████████████████| 300/300 [00:00<00:00, 502.92it/s]\n",
      " 19%|███████████████▏                                                                | 57/300 [00:00<00:00, 515.93it/s]"
     ]
    },
    {
     "name": "stdout",
     "output_type": "stream",
     "text": [
      "sim3, run 2\n"
     ]
    },
    {
     "name": "stderr",
     "output_type": "stream",
     "text": [
      "100%|███████████████████████████████████████████████████████████████████████████████| 300/300 [00:00<00:00, 478.50it/s]\n",
      " 20%|████████████████▎                                                               | 61/300 [00:00<00:00, 607.92it/s]"
     ]
    },
    {
     "name": "stdout",
     "output_type": "stream",
     "text": [
      "sim3, run 3\n"
     ]
    },
    {
     "name": "stderr",
     "output_type": "stream",
     "text": [
      "100%|███████████████████████████████████████████████████████████████████████████████| 300/300 [00:00<00:00, 504.50it/s]\n",
      " 20%|████████████████▎                                                               | 61/300 [00:00<00:00, 608.42it/s]"
     ]
    },
    {
     "name": "stdout",
     "output_type": "stream",
     "text": [
      "sim3, run 4\n"
     ]
    },
    {
     "name": "stderr",
     "output_type": "stream",
     "text": [
      "100%|███████████████████████████████████████████████████████████████████████████████| 300/300 [00:00<00:00, 498.36it/s]\n",
      " 17%|█████████████▌                                                                  | 51/300 [00:00<00:00, 508.67it/s]"
     ]
    },
    {
     "name": "stdout",
     "output_type": "stream",
     "text": [
      "sim4, run 0\n"
     ]
    },
    {
     "name": "stderr",
     "output_type": "stream",
     "text": [
      "100%|███████████████████████████████████████████████████████████████████████████████| 300/300 [00:00<00:00, 499.75it/s]\n",
      " 17%|█████████████▊                                                                  | 52/300 [00:00<00:00, 481.15it/s]"
     ]
    },
    {
     "name": "stdout",
     "output_type": "stream",
     "text": [
      "sim4, run 1\n"
     ]
    },
    {
     "name": "stderr",
     "output_type": "stream",
     "text": [
      "100%|███████████████████████████████████████████████████████████████████████████████| 300/300 [00:00<00:00, 506.58it/s]\n",
      " 14%|███████████▍                                                                    | 43/300 [00:00<00:00, 428.03it/s]"
     ]
    },
    {
     "name": "stdout",
     "output_type": "stream",
     "text": [
      "sim4, run 2\n"
     ]
    },
    {
     "name": "stderr",
     "output_type": "stream",
     "text": [
      "100%|███████████████████████████████████████████████████████████████████████████████| 300/300 [00:00<00:00, 475.95it/s]\n",
      " 16%|████████████▊                                                                   | 48/300 [00:00<00:00, 455.22it/s]"
     ]
    },
    {
     "name": "stdout",
     "output_type": "stream",
     "text": [
      "sim4, run 3\n"
     ]
    },
    {
     "name": "stderr",
     "output_type": "stream",
     "text": [
      "100%|███████████████████████████████████████████████████████████████████████████████| 300/300 [00:00<00:00, 480.86it/s]\n",
      " 18%|██████████████▏                                                                 | 53/300 [00:00<00:00, 529.65it/s]"
     ]
    },
    {
     "name": "stdout",
     "output_type": "stream",
     "text": [
      "sim4, run 4\n"
     ]
    },
    {
     "name": "stderr",
     "output_type": "stream",
     "text": [
      "100%|███████████████████████████████████████████████████████████████████████████████| 300/300 [00:00<00:00, 461.50it/s]\n",
      " 22%|█████████████████▊                                                              | 67/300 [00:00<00:00, 640.03it/s]"
     ]
    },
    {
     "name": "stdout",
     "output_type": "stream",
     "text": [
      "sim5, run 0\n"
     ]
    },
    {
     "name": "stderr",
     "output_type": "stream",
     "text": [
      "100%|███████████████████████████████████████████████████████████████████████████████| 300/300 [00:00<00:00, 508.45it/s]\n",
      " 15%|████████████                                                                    | 45/300 [00:00<00:00, 444.52it/s]"
     ]
    },
    {
     "name": "stdout",
     "output_type": "stream",
     "text": [
      "sim5, run 1\n"
     ]
    },
    {
     "name": "stderr",
     "output_type": "stream",
     "text": [
      "100%|███████████████████████████████████████████████████████████████████████████████| 300/300 [00:00<00:00, 437.69it/s]\n",
      " 19%|███████████████▍                                                                | 58/300 [00:00<00:00, 579.02it/s]"
     ]
    },
    {
     "name": "stdout",
     "output_type": "stream",
     "text": [
      "sim5, run 2\n"
     ]
    },
    {
     "name": "stderr",
     "output_type": "stream",
     "text": [
      "100%|███████████████████████████████████████████████████████████████████████████████| 300/300 [00:00<00:00, 450.67it/s]\n",
      " 15%|████████████▎                                                                   | 46/300 [00:00<00:00, 452.18it/s]"
     ]
    },
    {
     "name": "stdout",
     "output_type": "stream",
     "text": [
      "sim5, run 3\n"
     ]
    },
    {
     "name": "stderr",
     "output_type": "stream",
     "text": [
      "100%|███████████████████████████████████████████████████████████████████████████████| 300/300 [00:00<00:00, 519.35it/s]\n",
      " 18%|██████████████▏                                                                 | 53/300 [00:00<00:00, 529.00it/s]"
     ]
    },
    {
     "name": "stdout",
     "output_type": "stream",
     "text": [
      "sim5, run 4\n"
     ]
    },
    {
     "name": "stderr",
     "output_type": "stream",
     "text": [
      "100%|███████████████████████████████████████████████████████████████████████████████| 300/300 [00:00<00:00, 439.00it/s]\n",
      " 17%|█████████████▌                                                                  | 51/300 [00:00<00:00, 505.81it/s]"
     ]
    },
    {
     "name": "stdout",
     "output_type": "stream",
     "text": [
      "sim6, run 0\n"
     ]
    },
    {
     "name": "stderr",
     "output_type": "stream",
     "text": [
      "100%|███████████████████████████████████████████████████████████████████████████████| 300/300 [00:00<00:00, 473.83it/s]\n",
      " 21%|█████████████████                                                               | 64/300 [00:00<00:00, 624.91it/s]"
     ]
    },
    {
     "name": "stdout",
     "output_type": "stream",
     "text": [
      "sim6, run 1\n"
     ]
    },
    {
     "name": "stderr",
     "output_type": "stream",
     "text": [
      "100%|███████████████████████████████████████████████████████████████████████████████| 300/300 [00:00<00:00, 497.90it/s]\n",
      " 16%|█████████████                                                                   | 49/300 [00:00<00:00, 478.00it/s]"
     ]
    },
    {
     "name": "stdout",
     "output_type": "stream",
     "text": [
      "sim6, run 2\n"
     ]
    },
    {
     "name": "stderr",
     "output_type": "stream",
     "text": [
      "100%|███████████████████████████████████████████████████████████████████████████████| 300/300 [00:00<00:00, 468.92it/s]\n",
      " 21%|████████████████▊                                                               | 63/300 [00:00<00:00, 604.58it/s]"
     ]
    },
    {
     "name": "stdout",
     "output_type": "stream",
     "text": [
      "sim6, run 3\n"
     ]
    },
    {
     "name": "stderr",
     "output_type": "stream",
     "text": [
      "100%|███████████████████████████████████████████████████████████████████████████████| 300/300 [00:00<00:00, 469.10it/s]\n",
      " 17%|█████████████▎                                                                  | 50/300 [00:00<00:00, 498.85it/s]"
     ]
    },
    {
     "name": "stdout",
     "output_type": "stream",
     "text": [
      "sim6, run 4\n"
     ]
    },
    {
     "name": "stderr",
     "output_type": "stream",
     "text": [
      "100%|███████████████████████████████████████████████████████████████████████████████| 300/300 [00:00<00:00, 436.50it/s]\n",
      " 15%|████████████▎                                                                   | 46/300 [00:00<00:00, 457.03it/s]"
     ]
    },
    {
     "name": "stdout",
     "output_type": "stream",
     "text": [
      "sim7, run 0\n"
     ]
    },
    {
     "name": "stderr",
     "output_type": "stream",
     "text": [
      "100%|███████████████████████████████████████████████████████████████████████████████| 300/300 [00:00<00:00, 430.21it/s]\n",
      " 17%|█████████████▌                                                                  | 51/300 [00:00<00:00, 508.36it/s]"
     ]
    },
    {
     "name": "stdout",
     "output_type": "stream",
     "text": [
      "sim7, run 1\n"
     ]
    },
    {
     "name": "stderr",
     "output_type": "stream",
     "text": [
      "100%|███████████████████████████████████████████████████████████████████████████████| 300/300 [00:00<00:00, 502.29it/s]\n",
      " 17%|█████████████▌                                                                  | 51/300 [00:00<00:00, 486.67it/s]"
     ]
    },
    {
     "name": "stdout",
     "output_type": "stream",
     "text": [
      "sim7, run 2\n"
     ]
    },
    {
     "name": "stderr",
     "output_type": "stream",
     "text": [
      "100%|███████████████████████████████████████████████████████████████████████████████| 300/300 [00:00<00:00, 522.08it/s]\n",
      " 18%|██████████████▋                                                                 | 55/300 [00:00<00:00, 509.30it/s]"
     ]
    },
    {
     "name": "stdout",
     "output_type": "stream",
     "text": [
      "sim7, run 3\n"
     ]
    },
    {
     "name": "stderr",
     "output_type": "stream",
     "text": [
      "100%|███████████████████████████████████████████████████████████████████████████████| 300/300 [00:00<00:00, 474.22it/s]\n",
      " 16%|████████████▊                                                                   | 48/300 [00:00<00:00, 479.86it/s]"
     ]
    },
    {
     "name": "stdout",
     "output_type": "stream",
     "text": [
      "sim7, run 4\n"
     ]
    },
    {
     "name": "stderr",
     "output_type": "stream",
     "text": [
      "100%|███████████████████████████████████████████████████████████████████████████████| 300/300 [00:00<00:00, 410.92it/s]\n",
      " 14%|███████████▍                                                                    | 43/300 [00:00<00:00, 427.71it/s]"
     ]
    },
    {
     "name": "stdout",
     "output_type": "stream",
     "text": [
      "sim8, run 0\n"
     ]
    },
    {
     "name": "stderr",
     "output_type": "stream",
     "text": [
      "100%|███████████████████████████████████████████████████████████████████████████████| 300/300 [00:00<00:00, 389.24it/s]\n",
      " 15%|████████████                                                                    | 45/300 [00:00<00:00, 447.60it/s]"
     ]
    },
    {
     "name": "stdout",
     "output_type": "stream",
     "text": [
      "sim8, run 1\n"
     ]
    },
    {
     "name": "stderr",
     "output_type": "stream",
     "text": [
      "100%|███████████████████████████████████████████████████████████████████████████████| 300/300 [00:00<00:00, 413.16it/s]\n",
      " 16%|████████████▊                                                                   | 48/300 [00:00<00:00, 449.39it/s]"
     ]
    },
    {
     "name": "stdout",
     "output_type": "stream",
     "text": [
      "sim8, run 2\n"
     ]
    },
    {
     "name": "stderr",
     "output_type": "stream",
     "text": [
      "100%|███████████████████████████████████████████████████████████████████████████████| 300/300 [00:00<00:00, 405.23it/s]\n",
      " 19%|██████████████▉                                                                 | 56/300 [00:00<00:00, 541.82it/s]"
     ]
    },
    {
     "name": "stdout",
     "output_type": "stream",
     "text": [
      "sim8, run 3\n"
     ]
    },
    {
     "name": "stderr",
     "output_type": "stream",
     "text": [
      "100%|███████████████████████████████████████████████████████████████████████████████| 300/300 [00:00<00:00, 429.49it/s]\n",
      " 16%|████████████▊                                                                   | 48/300 [00:00<00:00, 457.18it/s]"
     ]
    },
    {
     "name": "stdout",
     "output_type": "stream",
     "text": [
      "sim8, run 4\n"
     ]
    },
    {
     "name": "stderr",
     "output_type": "stream",
     "text": [
      "100%|███████████████████████████████████████████████████████████████████████████████| 300/300 [00:00<00:00, 398.09it/s]\n",
      " 17%|█████████████▌                                                                  | 51/300 [00:00<00:00, 499.01it/s]"
     ]
    },
    {
     "name": "stdout",
     "output_type": "stream",
     "text": [
      "sim9, run 0\n"
     ]
    },
    {
     "name": "stderr",
     "output_type": "stream",
     "text": [
      "100%|███████████████████████████████████████████████████████████████████████████████| 300/300 [00:00<00:00, 462.26it/s]\n",
      " 15%|████████████▎                                                                   | 46/300 [00:00<00:00, 455.66it/s]"
     ]
    },
    {
     "name": "stdout",
     "output_type": "stream",
     "text": [
      "sim9, run 1\n"
     ]
    },
    {
     "name": "stderr",
     "output_type": "stream",
     "text": [
      "100%|███████████████████████████████████████████████████████████████████████████████| 300/300 [00:00<00:00, 446.23it/s]\n",
      " 14%|███████████▍                                                                    | 43/300 [00:00<00:00, 421.86it/s]"
     ]
    },
    {
     "name": "stdout",
     "output_type": "stream",
     "text": [
      "sim9, run 2\n"
     ]
    },
    {
     "name": "stderr",
     "output_type": "stream",
     "text": [
      "100%|███████████████████████████████████████████████████████████████████████████████| 300/300 [00:00<00:00, 448.97it/s]\n",
      " 16%|█████████████                                                                   | 49/300 [00:00<00:00, 464.30it/s]"
     ]
    },
    {
     "name": "stdout",
     "output_type": "stream",
     "text": [
      "sim9, run 3\n"
     ]
    },
    {
     "name": "stderr",
     "output_type": "stream",
     "text": [
      "100%|███████████████████████████████████████████████████████████████████████████████| 300/300 [00:00<00:00, 450.08it/s]\n",
      " 13%|██████████▋                                                                     | 40/300 [00:00<00:00, 398.78it/s]"
     ]
    },
    {
     "name": "stdout",
     "output_type": "stream",
     "text": [
      "sim9, run 4\n"
     ]
    },
    {
     "name": "stderr",
     "output_type": "stream",
     "text": [
      "100%|███████████████████████████████████████████████████████████████████████████████| 300/300 [00:00<00:00, 417.20it/s]\n",
      " 20%|████████████████▎                                                               | 61/300 [00:00<00:00, 525.90it/s]"
     ]
    },
    {
     "name": "stdout",
     "output_type": "stream",
     "text": [
      "sim10, run 0\n"
     ]
    },
    {
     "name": "stderr",
     "output_type": "stream",
     "text": [
      "100%|███████████████████████████████████████████████████████████████████████████████| 300/300 [00:00<00:00, 468.14it/s]\n",
      " 20%|███████████████▋                                                                | 59/300 [00:00<00:00, 539.17it/s]"
     ]
    },
    {
     "name": "stdout",
     "output_type": "stream",
     "text": [
      "sim10, run 1\n"
     ]
    },
    {
     "name": "stderr",
     "output_type": "stream",
     "text": [
      "100%|███████████████████████████████████████████████████████████████████████████████| 300/300 [00:00<00:00, 443.90it/s]\n",
      " 18%|██████████████▏                                                                 | 53/300 [00:00<00:00, 474.53it/s]"
     ]
    },
    {
     "name": "stdout",
     "output_type": "stream",
     "text": [
      "sim10, run 2\n"
     ]
    },
    {
     "name": "stderr",
     "output_type": "stream",
     "text": [
      "100%|███████████████████████████████████████████████████████████████████████████████| 300/300 [00:00<00:00, 453.77it/s]\n",
      " 19%|██████████████▉                                                                 | 56/300 [00:00<00:00, 553.12it/s]"
     ]
    },
    {
     "name": "stdout",
     "output_type": "stream",
     "text": [
      "sim10, run 3\n"
     ]
    },
    {
     "name": "stderr",
     "output_type": "stream",
     "text": [
      "100%|███████████████████████████████████████████████████████████████████████████████| 300/300 [00:00<00:00, 514.13it/s]\n",
      " 17%|█████████████▊                                                                  | 52/300 [00:00<00:00, 477.45it/s]"
     ]
    },
    {
     "name": "stdout",
     "output_type": "stream",
     "text": [
      "sim10, run 4\n"
     ]
    },
    {
     "name": "stderr",
     "output_type": "stream",
     "text": [
      "100%|███████████████████████████████████████████████████████████████████████████████| 300/300 [00:00<00:00, 455.65it/s]\n",
      " 22%|█████████████████▎                                                              | 65/300 [00:00<00:00, 561.60it/s]"
     ]
    },
    {
     "name": "stdout",
     "output_type": "stream",
     "text": [
      "sim11, run 0\n"
     ]
    },
    {
     "name": "stderr",
     "output_type": "stream",
     "text": [
      "100%|███████████████████████████████████████████████████████████████████████████████| 300/300 [00:00<00:00, 531.37it/s]\n",
      " 17%|█████████████▎                                                                  | 50/300 [00:00<00:00, 477.65it/s]"
     ]
    },
    {
     "name": "stdout",
     "output_type": "stream",
     "text": [
      "sim11, run 1\n"
     ]
    },
    {
     "name": "stderr",
     "output_type": "stream",
     "text": [
      "100%|███████████████████████████████████████████████████████████████████████████████| 300/300 [00:00<00:00, 453.60it/s]\n",
      " 17%|█████████████▌                                                                  | 51/300 [00:00<00:00, 509.81it/s]"
     ]
    },
    {
     "name": "stdout",
     "output_type": "stream",
     "text": [
      "sim11, run 2\n"
     ]
    },
    {
     "name": "stderr",
     "output_type": "stream",
     "text": [
      "100%|███████████████████████████████████████████████████████████████████████████████| 300/300 [00:00<00:00, 443.60it/s]\n",
      " 20%|████████████████▎                                                               | 61/300 [00:00<00:00, 605.45it/s]"
     ]
    },
    {
     "name": "stdout",
     "output_type": "stream",
     "text": [
      "sim11, run 3\n"
     ]
    },
    {
     "name": "stderr",
     "output_type": "stream",
     "text": [
      "100%|███████████████████████████████████████████████████████████████████████████████| 300/300 [00:00<00:00, 467.48it/s]\n",
      " 21%|████████████████▊                                                               | 63/300 [00:00<00:00, 549.32it/s]"
     ]
    },
    {
     "name": "stdout",
     "output_type": "stream",
     "text": [
      "sim11, run 4\n"
     ]
    },
    {
     "name": "stderr",
     "output_type": "stream",
     "text": [
      "100%|███████████████████████████████████████████████████████████████████████████████| 300/300 [00:00<00:00, 429.27it/s]\n",
      " 15%|████████████                                                                    | 45/300 [00:00<00:00, 431.15it/s]"
     ]
    },
    {
     "name": "stdout",
     "output_type": "stream",
     "text": [
      "sim12, run 0\n"
     ]
    },
    {
     "name": "stderr",
     "output_type": "stream",
     "text": [
      "100%|███████████████████████████████████████████████████████████████████████████████| 300/300 [00:00<00:00, 404.42it/s]\n",
      " 15%|████████████                                                                    | 45/300 [00:00<00:00, 449.70it/s]"
     ]
    },
    {
     "name": "stdout",
     "output_type": "stream",
     "text": [
      "sim12, run 1\n"
     ]
    },
    {
     "name": "stderr",
     "output_type": "stream",
     "text": [
      "100%|███████████████████████████████████████████████████████████████████████████████| 300/300 [00:00<00:00, 394.30it/s]\n",
      " 14%|███████████▏                                                                    | 42/300 [00:00<00:00, 418.15it/s]"
     ]
    },
    {
     "name": "stdout",
     "output_type": "stream",
     "text": [
      "sim12, run 2\n"
     ]
    },
    {
     "name": "stderr",
     "output_type": "stream",
     "text": [
      "100%|███████████████████████████████████████████████████████████████████████████████| 300/300 [00:00<00:00, 446.82it/s]\n",
      " 18%|██████████████▏                                                                 | 53/300 [00:00<00:00, 527.01it/s]"
     ]
    },
    {
     "name": "stdout",
     "output_type": "stream",
     "text": [
      "sim12, run 3\n"
     ]
    },
    {
     "name": "stderr",
     "output_type": "stream",
     "text": [
      "100%|███████████████████████████████████████████████████████████████████████████████| 300/300 [00:00<00:00, 500.54it/s]\n",
      " 19%|███████████████▏                                                                | 57/300 [00:00<00:00, 560.75it/s]"
     ]
    },
    {
     "name": "stdout",
     "output_type": "stream",
     "text": [
      "sim12, run 4\n"
     ]
    },
    {
     "name": "stderr",
     "output_type": "stream",
     "text": [
      "100%|███████████████████████████████████████████████████████████████████████████████| 300/300 [00:00<00:00, 485.49it/s]\n",
      " 16%|████████████▌                                                                   | 47/300 [00:00<00:00, 430.60it/s]"
     ]
    },
    {
     "name": "stdout",
     "output_type": "stream",
     "text": [
      "sim13, run 0\n"
     ]
    },
    {
     "name": "stderr",
     "output_type": "stream",
     "text": [
      "100%|███████████████████████████████████████████████████████████████████████████████| 300/300 [00:00<00:00, 430.70it/s]\n",
      " 18%|██████████████▍                                                                 | 54/300 [00:00<00:00, 482.96it/s]"
     ]
    },
    {
     "name": "stdout",
     "output_type": "stream",
     "text": [
      "sim13, run 1\n"
     ]
    },
    {
     "name": "stderr",
     "output_type": "stream",
     "text": [
      "100%|███████████████████████████████████████████████████████████████████████████████| 300/300 [00:00<00:00, 467.34it/s]\n",
      " 18%|██████████████▋                                                                 | 55/300 [00:00<00:00, 517.59it/s]"
     ]
    },
    {
     "name": "stdout",
     "output_type": "stream",
     "text": [
      "sim13, run 2\n"
     ]
    },
    {
     "name": "stderr",
     "output_type": "stream",
     "text": [
      "100%|███████████████████████████████████████████████████████████████████████████████| 300/300 [00:00<00:00, 481.95it/s]\n",
      " 34%|███████████████████████████                                                    | 103/300 [00:00<00:00, 468.40it/s]"
     ]
    },
    {
     "name": "stdout",
     "output_type": "stream",
     "text": [
      "sim13, run 3\n"
     ]
    },
    {
     "name": "stderr",
     "output_type": "stream",
     "text": [
      "100%|███████████████████████████████████████████████████████████████████████████████| 300/300 [00:00<00:00, 401.05it/s]\n",
      " 31%|████████████████████████▌                                                       | 92/300 [00:00<00:00, 459.63it/s]"
     ]
    },
    {
     "name": "stdout",
     "output_type": "stream",
     "text": [
      "sim13, run 4\n"
     ]
    },
    {
     "name": "stderr",
     "output_type": "stream",
     "text": [
      "100%|███████████████████████████████████████████████████████████████████████████████| 300/300 [00:00<00:00, 407.94it/s]\n",
      " 17%|█████████████▌                                                                  | 51/300 [00:00<00:00, 492.44it/s]"
     ]
    },
    {
     "name": "stdout",
     "output_type": "stream",
     "text": [
      "sim14, run 0\n"
     ]
    },
    {
     "name": "stderr",
     "output_type": "stream",
     "text": [
      "100%|███████████████████████████████████████████████████████████████████████████████| 300/300 [00:00<00:00, 423.38it/s]\n",
      " 16%|████████████▌                                                                   | 47/300 [00:00<00:00, 451.32it/s]"
     ]
    },
    {
     "name": "stdout",
     "output_type": "stream",
     "text": [
      "sim14, run 1\n"
     ]
    },
    {
     "name": "stderr",
     "output_type": "stream",
     "text": [
      "100%|███████████████████████████████████████████████████████████████████████████████| 300/300 [00:00<00:00, 413.41it/s]\n",
      " 16%|████████████▌                                                                   | 47/300 [00:00<00:00, 462.16it/s]"
     ]
    },
    {
     "name": "stdout",
     "output_type": "stream",
     "text": [
      "sim14, run 2\n"
     ]
    },
    {
     "name": "stderr",
     "output_type": "stream",
     "text": [
      "100%|███████████████████████████████████████████████████████████████████████████████| 300/300 [00:00<00:00, 457.94it/s]\n",
      " 14%|███████████▏                                                                    | 42/300 [00:00<00:00, 413.69it/s]"
     ]
    },
    {
     "name": "stdout",
     "output_type": "stream",
     "text": [
      "sim14, run 3\n"
     ]
    },
    {
     "name": "stderr",
     "output_type": "stream",
     "text": [
      "100%|███████████████████████████████████████████████████████████████████████████████| 300/300 [00:00<00:00, 431.75it/s]\n",
      " 15%|████████████▎                                                                   | 46/300 [00:00<00:00, 439.94it/s]"
     ]
    },
    {
     "name": "stdout",
     "output_type": "stream",
     "text": [
      "sim14, run 4\n"
     ]
    },
    {
     "name": "stderr",
     "output_type": "stream",
     "text": [
      "100%|███████████████████████████████████████████████████████████████████████████████| 300/300 [00:00<00:00, 457.27it/s]\n",
      " 16%|████████████▊                                                                   | 48/300 [00:00<00:00, 452.00it/s]"
     ]
    },
    {
     "name": "stdout",
     "output_type": "stream",
     "text": [
      "sim0, run 0\n"
     ]
    },
    {
     "name": "stderr",
     "output_type": "stream",
     "text": [
      "100%|███████████████████████████████████████████████████████████████████████████████| 300/300 [00:00<00:00, 446.50it/s]\n",
      " 15%|████████████▎                                                                   | 46/300 [00:00<00:00, 454.86it/s]"
     ]
    },
    {
     "name": "stdout",
     "output_type": "stream",
     "text": [
      "sim0, run 1\n"
     ]
    },
    {
     "name": "stderr",
     "output_type": "stream",
     "text": [
      "100%|███████████████████████████████████████████████████████████████████████████████| 300/300 [00:00<00:00, 474.07it/s]\n",
      " 20%|████████████████▎                                                               | 61/300 [00:00<00:00, 537.93it/s]"
     ]
    },
    {
     "name": "stdout",
     "output_type": "stream",
     "text": [
      "sim0, run 2\n"
     ]
    },
    {
     "name": "stderr",
     "output_type": "stream",
     "text": [
      "100%|███████████████████████████████████████████████████████████████████████████████| 300/300 [00:00<00:00, 436.02it/s]\n",
      " 20%|████████████████▎                                                               | 61/300 [00:00<00:00, 573.29it/s]"
     ]
    },
    {
     "name": "stdout",
     "output_type": "stream",
     "text": [
      "sim0, run 3\n"
     ]
    },
    {
     "name": "stderr",
     "output_type": "stream",
     "text": [
      "100%|███████████████████████████████████████████████████████████████████████████████| 300/300 [00:00<00:00, 506.51it/s]\n",
      " 21%|████████████████▌                                                               | 62/300 [00:00<00:00, 608.17it/s]"
     ]
    },
    {
     "name": "stdout",
     "output_type": "stream",
     "text": [
      "sim0, run 4\n"
     ]
    },
    {
     "name": "stderr",
     "output_type": "stream",
     "text": [
      "100%|███████████████████████████████████████████████████████████████████████████████| 300/300 [00:00<00:00, 473.04it/s]\n",
      " 14%|███████████▏                                                                    | 42/300 [00:00<00:00, 405.39it/s]"
     ]
    },
    {
     "name": "stdout",
     "output_type": "stream",
     "text": [
      "sim1, run 0\n"
     ]
    },
    {
     "name": "stderr",
     "output_type": "stream",
     "text": [
      "100%|███████████████████████████████████████████████████████████████████████████████| 300/300 [00:00<00:00, 452.28it/s]\n",
      " 16%|█████████████                                                                   | 49/300 [00:00<00:00, 460.87it/s]"
     ]
    },
    {
     "name": "stdout",
     "output_type": "stream",
     "text": [
      "sim1, run 1\n"
     ]
    },
    {
     "name": "stderr",
     "output_type": "stream",
     "text": [
      "100%|███████████████████████████████████████████████████████████████████████████████| 300/300 [00:00<00:00, 430.74it/s]\n",
      " 17%|█████████████▌                                                                  | 51/300 [00:00<00:00, 499.73it/s]"
     ]
    },
    {
     "name": "stdout",
     "output_type": "stream",
     "text": [
      "sim1, run 2\n"
     ]
    },
    {
     "name": "stderr",
     "output_type": "stream",
     "text": [
      "100%|███████████████████████████████████████████████████████████████████████████████| 300/300 [00:00<00:00, 477.39it/s]\n",
      " 18%|██████████████▏                                                                 | 53/300 [00:00<00:00, 469.08it/s]"
     ]
    },
    {
     "name": "stdout",
     "output_type": "stream",
     "text": [
      "sim1, run 3\n"
     ]
    },
    {
     "name": "stderr",
     "output_type": "stream",
     "text": [
      "100%|███████████████████████████████████████████████████████████████████████████████| 300/300 [00:00<00:00, 475.77it/s]\n",
      " 18%|██████████████▏                                                                 | 53/300 [00:00<00:00, 518.61it/s]"
     ]
    },
    {
     "name": "stdout",
     "output_type": "stream",
     "text": [
      "sim1, run 4\n"
     ]
    },
    {
     "name": "stderr",
     "output_type": "stream",
     "text": [
      "100%|███████████████████████████████████████████████████████████████████████████████| 300/300 [00:00<00:00, 468.77it/s]\n",
      " 16%|████████████▌                                                                   | 47/300 [00:00<00:00, 461.46it/s]"
     ]
    },
    {
     "name": "stdout",
     "output_type": "stream",
     "text": [
      "sim2, run 0\n"
     ]
    },
    {
     "name": "stderr",
     "output_type": "stream",
     "text": [
      "100%|███████████████████████████████████████████████████████████████████████████████| 300/300 [00:00<00:00, 449.42it/s]\n",
      " 17%|█████████████▎                                                                  | 50/300 [00:00<00:00, 465.03it/s]"
     ]
    },
    {
     "name": "stdout",
     "output_type": "stream",
     "text": [
      "sim2, run 1\n"
     ]
    },
    {
     "name": "stderr",
     "output_type": "stream",
     "text": [
      "100%|███████████████████████████████████████████████████████████████████████████████| 300/300 [00:00<00:00, 474.64it/s]\n",
      " 18%|██████████████▍                                                                 | 54/300 [00:00<00:00, 479.46it/s]"
     ]
    },
    {
     "name": "stdout",
     "output_type": "stream",
     "text": [
      "sim2, run 2\n"
     ]
    },
    {
     "name": "stderr",
     "output_type": "stream",
     "text": [
      "100%|███████████████████████████████████████████████████████████████████████████████| 300/300 [00:00<00:00, 477.17it/s]\n",
      " 19%|███████████████▏                                                                | 57/300 [00:00<00:00, 516.50it/s]"
     ]
    },
    {
     "name": "stdout",
     "output_type": "stream",
     "text": [
      "sim2, run 3\n"
     ]
    },
    {
     "name": "stderr",
     "output_type": "stream",
     "text": [
      "100%|███████████████████████████████████████████████████████████████████████████████| 300/300 [00:00<00:00, 477.26it/s]\n",
      " 15%|████████████                                                                    | 45/300 [00:00<00:00, 449.51it/s]"
     ]
    },
    {
     "name": "stdout",
     "output_type": "stream",
     "text": [
      "sim2, run 4\n"
     ]
    },
    {
     "name": "stderr",
     "output_type": "stream",
     "text": [
      "100%|███████████████████████████████████████████████████████████████████████████████| 300/300 [00:00<00:00, 456.86it/s]\n",
      " 17%|█████████████▊                                                                  | 52/300 [00:00<00:00, 461.16it/s]"
     ]
    },
    {
     "name": "stdout",
     "output_type": "stream",
     "text": [
      "sim3, run 0\n"
     ]
    },
    {
     "name": "stderr",
     "output_type": "stream",
     "text": [
      "100%|███████████████████████████████████████████████████████████████████████████████| 300/300 [00:00<00:00, 489.83it/s]\n",
      " 29%|███████████████████████▏                                                        | 87/300 [00:00<00:00, 427.97it/s]"
     ]
    },
    {
     "name": "stdout",
     "output_type": "stream",
     "text": [
      "sim3, run 1\n"
     ]
    },
    {
     "name": "stderr",
     "output_type": "stream",
     "text": [
      "100%|███████████████████████████████████████████████████████████████████████████████| 300/300 [00:00<00:00, 449.11it/s]\n",
      " 19%|██████████████▉                                                                 | 56/300 [00:00<00:00, 538.64it/s]"
     ]
    },
    {
     "name": "stdout",
     "output_type": "stream",
     "text": [
      "sim3, run 2\n"
     ]
    },
    {
     "name": "stderr",
     "output_type": "stream",
     "text": [
      "100%|███████████████████████████████████████████████████████████████████████████████| 300/300 [00:00<00:00, 495.24it/s]\n",
      " 22%|█████████████████▎                                                              | 65/300 [00:00<00:00, 609.57it/s]"
     ]
    },
    {
     "name": "stdout",
     "output_type": "stream",
     "text": [
      "sim3, run 3\n"
     ]
    },
    {
     "name": "stderr",
     "output_type": "stream",
     "text": [
      "100%|███████████████████████████████████████████████████████████████████████████████| 300/300 [00:00<00:00, 485.83it/s]\n",
      " 17%|█████████████▊                                                                  | 52/300 [00:00<00:00, 511.58it/s]"
     ]
    },
    {
     "name": "stdout",
     "output_type": "stream",
     "text": [
      "sim3, run 4\n"
     ]
    },
    {
     "name": "stderr",
     "output_type": "stream",
     "text": [
      "100%|███████████████████████████████████████████████████████████████████████████████| 300/300 [00:00<00:00, 484.99it/s]\n",
      " 20%|████████████████▎                                                               | 61/300 [00:00<00:00, 601.62it/s]"
     ]
    },
    {
     "name": "stdout",
     "output_type": "stream",
     "text": [
      "sim4, run 0\n"
     ]
    },
    {
     "name": "stderr",
     "output_type": "stream",
     "text": [
      "100%|███████████████████████████████████████████████████████████████████████████████| 300/300 [00:00<00:00, 473.95it/s]\n",
      " 17%|█████████████▌                                                                  | 51/300 [00:00<00:00, 441.11it/s]"
     ]
    },
    {
     "name": "stdout",
     "output_type": "stream",
     "text": [
      "sim4, run 1\n"
     ]
    },
    {
     "name": "stderr",
     "output_type": "stream",
     "text": [
      "100%|███████████████████████████████████████████████████████████████████████████████| 300/300 [00:00<00:00, 501.43it/s]\n",
      " 15%|████████████                                                                    | 45/300 [00:00<00:00, 418.99it/s]"
     ]
    },
    {
     "name": "stdout",
     "output_type": "stream",
     "text": [
      "sim4, run 2\n"
     ]
    },
    {
     "name": "stderr",
     "output_type": "stream",
     "text": [
      "100%|███████████████████████████████████████████████████████████████████████████████| 300/300 [00:00<00:00, 465.77it/s]\n",
      " 19%|███████████████▍                                                                | 58/300 [00:00<00:00, 573.12it/s]"
     ]
    },
    {
     "name": "stdout",
     "output_type": "stream",
     "text": [
      "sim4, run 3\n"
     ]
    },
    {
     "name": "stderr",
     "output_type": "stream",
     "text": [
      "100%|███████████████████████████████████████████████████████████████████████████████| 300/300 [00:00<00:00, 483.72it/s]\n",
      " 16%|█████████████                                                                   | 49/300 [00:00<00:00, 484.85it/s]"
     ]
    },
    {
     "name": "stdout",
     "output_type": "stream",
     "text": [
      "sim4, run 4\n"
     ]
    },
    {
     "name": "stderr",
     "output_type": "stream",
     "text": [
      "100%|███████████████████████████████████████████████████████████████████████████████| 300/300 [00:00<00:00, 473.76it/s]\n",
      " 19%|███████████████▍                                                                | 58/300 [00:00<00:00, 556.68it/s]"
     ]
    },
    {
     "name": "stdout",
     "output_type": "stream",
     "text": [
      "sim5, run 0\n"
     ]
    },
    {
     "name": "stderr",
     "output_type": "stream",
     "text": [
      "100%|███████████████████████████████████████████████████████████████████████████████| 300/300 [00:00<00:00, 477.99it/s]\n",
      " 21%|█████████████████                                                               | 64/300 [00:00<00:00, 617.48it/s]"
     ]
    },
    {
     "name": "stdout",
     "output_type": "stream",
     "text": [
      "sim5, run 1\n"
     ]
    },
    {
     "name": "stderr",
     "output_type": "stream",
     "text": [
      "100%|███████████████████████████████████████████████████████████████████████████████| 300/300 [00:00<00:00, 478.73it/s]\n",
      " 19%|██████████████▉                                                                 | 56/300 [00:00<00:00, 485.98it/s]"
     ]
    },
    {
     "name": "stdout",
     "output_type": "stream",
     "text": [
      "sim5, run 2\n"
     ]
    },
    {
     "name": "stderr",
     "output_type": "stream",
     "text": [
      "100%|███████████████████████████████████████████████████████████████████████████████| 300/300 [00:00<00:00, 460.90it/s]\n",
      " 19%|███████████████▏                                                                | 57/300 [00:00<00:00, 552.85it/s]"
     ]
    },
    {
     "name": "stdout",
     "output_type": "stream",
     "text": [
      "sim5, run 3\n"
     ]
    },
    {
     "name": "stderr",
     "output_type": "stream",
     "text": [
      "100%|███████████████████████████████████████████████████████████████████████████████| 300/300 [00:00<00:00, 446.13it/s]\n",
      " 18%|██████████████▍                                                                 | 54/300 [00:00<00:00, 528.77it/s]"
     ]
    },
    {
     "name": "stdout",
     "output_type": "stream",
     "text": [
      "sim5, run 4\n"
     ]
    },
    {
     "name": "stderr",
     "output_type": "stream",
     "text": [
      "100%|███████████████████████████████████████████████████████████████████████████████| 300/300 [00:00<00:00, 460.04it/s]\n",
      " 16%|█████████████                                                                   | 49/300 [00:00<00:00, 450.51it/s]"
     ]
    },
    {
     "name": "stdout",
     "output_type": "stream",
     "text": [
      "sim6, run 0\n"
     ]
    },
    {
     "name": "stderr",
     "output_type": "stream",
     "text": [
      "100%|███████████████████████████████████████████████████████████████████████████████| 300/300 [00:00<00:00, 480.02it/s]\n",
      " 17%|█████████████▎                                                                  | 50/300 [00:00<00:00, 475.57it/s]"
     ]
    },
    {
     "name": "stdout",
     "output_type": "stream",
     "text": [
      "sim6, run 1\n"
     ]
    },
    {
     "name": "stderr",
     "output_type": "stream",
     "text": [
      "100%|███████████████████████████████████████████████████████████████████████████████| 300/300 [00:00<00:00, 482.61it/s]\n",
      " 22%|█████████████████▌                                                              | 66/300 [00:00<00:00, 571.84it/s]"
     ]
    },
    {
     "name": "stdout",
     "output_type": "stream",
     "text": [
      "sim6, run 2\n"
     ]
    },
    {
     "name": "stderr",
     "output_type": "stream",
     "text": [
      "100%|███████████████████████████████████████████████████████████████████████████████| 300/300 [00:00<00:00, 479.44it/s]\n",
      " 16%|████████████▊                                                                   | 48/300 [00:00<00:00, 476.05it/s]"
     ]
    },
    {
     "name": "stdout",
     "output_type": "stream",
     "text": [
      "sim6, run 3\n"
     ]
    },
    {
     "name": "stderr",
     "output_type": "stream",
     "text": [
      "100%|███████████████████████████████████████████████████████████████████████████████| 300/300 [00:00<00:00, 449.35it/s]\n",
      " 16%|████████████▌                                                                   | 47/300 [00:00<00:00, 464.02it/s]"
     ]
    },
    {
     "name": "stdout",
     "output_type": "stream",
     "text": [
      "sim6, run 4\n"
     ]
    },
    {
     "name": "stderr",
     "output_type": "stream",
     "text": [
      "100%|███████████████████████████████████████████████████████████████████████████████| 300/300 [00:00<00:00, 466.41it/s]\n",
      " 15%|████████████                                                                    | 45/300 [00:00<00:00, 448.24it/s]"
     ]
    },
    {
     "name": "stdout",
     "output_type": "stream",
     "text": [
      "sim7, run 0\n"
     ]
    },
    {
     "name": "stderr",
     "output_type": "stream",
     "text": [
      "100%|███████████████████████████████████████████████████████████████████████████████| 300/300 [00:00<00:00, 436.88it/s]\n",
      " 17%|█████████████▌                                                                  | 51/300 [00:00<00:00, 500.88it/s]"
     ]
    },
    {
     "name": "stdout",
     "output_type": "stream",
     "text": [
      "sim7, run 1\n"
     ]
    },
    {
     "name": "stderr",
     "output_type": "stream",
     "text": [
      "100%|███████████████████████████████████████████████████████████████████████████████| 300/300 [00:00<00:00, 496.71it/s]\n",
      " 20%|███████████████▋                                                                | 59/300 [00:00<00:00, 520.10it/s]"
     ]
    },
    {
     "name": "stdout",
     "output_type": "stream",
     "text": [
      "sim7, run 2\n"
     ]
    },
    {
     "name": "stderr",
     "output_type": "stream",
     "text": [
      "100%|███████████████████████████████████████████████████████████████████████████████| 300/300 [00:00<00:00, 501.94it/s]\n",
      " 15%|████████████                                                                    | 45/300 [00:00<00:00, 430.32it/s]"
     ]
    },
    {
     "name": "stdout",
     "output_type": "stream",
     "text": [
      "sim7, run 3\n"
     ]
    },
    {
     "name": "stderr",
     "output_type": "stream",
     "text": [
      "100%|███████████████████████████████████████████████████████████████████████████████| 300/300 [00:00<00:00, 427.10it/s]\n",
      " 14%|███████████▍                                                                    | 43/300 [00:00<00:00, 425.22it/s]"
     ]
    },
    {
     "name": "stdout",
     "output_type": "stream",
     "text": [
      "sim7, run 4\n"
     ]
    },
    {
     "name": "stderr",
     "output_type": "stream",
     "text": [
      "100%|███████████████████████████████████████████████████████████████████████████████| 300/300 [00:00<00:00, 423.81it/s]\n",
      " 13%|██████████▏                                                                     | 38/300 [00:00<00:00, 379.79it/s]"
     ]
    },
    {
     "name": "stdout",
     "output_type": "stream",
     "text": [
      "sim8, run 0\n"
     ]
    },
    {
     "name": "stderr",
     "output_type": "stream",
     "text": [
      "100%|███████████████████████████████████████████████████████████████████████████████| 300/300 [00:00<00:00, 417.14it/s]\n",
      " 14%|███████████▏                                                                    | 42/300 [00:00<00:00, 408.86it/s]"
     ]
    },
    {
     "name": "stdout",
     "output_type": "stream",
     "text": [
      "sim8, run 1\n"
     ]
    },
    {
     "name": "stderr",
     "output_type": "stream",
     "text": [
      "100%|███████████████████████████████████████████████████████████████████████████████| 300/300 [00:00<00:00, 482.59it/s]\n",
      " 16%|████████████▊                                                                   | 48/300 [00:00<00:00, 478.02it/s]"
     ]
    },
    {
     "name": "stdout",
     "output_type": "stream",
     "text": [
      "sim8, run 2\n"
     ]
    },
    {
     "name": "stderr",
     "output_type": "stream",
     "text": [
      "100%|███████████████████████████████████████████████████████████████████████████████| 300/300 [00:00<00:00, 467.46it/s]\n",
      " 16%|████████████▊                                                                   | 48/300 [00:00<00:00, 464.47it/s]"
     ]
    },
    {
     "name": "stdout",
     "output_type": "stream",
     "text": [
      "sim8, run 3\n"
     ]
    },
    {
     "name": "stderr",
     "output_type": "stream",
     "text": [
      "100%|███████████████████████████████████████████████████████████████████████████████| 300/300 [00:00<00:00, 443.10it/s]\n",
      " 16%|████████████▊                                                                   | 48/300 [00:00<00:00, 469.68it/s]"
     ]
    },
    {
     "name": "stdout",
     "output_type": "stream",
     "text": [
      "sim8, run 4\n"
     ]
    },
    {
     "name": "stderr",
     "output_type": "stream",
     "text": [
      "100%|███████████████████████████████████████████████████████████████████████████████| 300/300 [00:00<00:00, 486.04it/s]\n",
      " 21%|█████████████████                                                               | 64/300 [00:00<00:00, 561.21it/s]"
     ]
    },
    {
     "name": "stdout",
     "output_type": "stream",
     "text": [
      "sim9, run 0\n"
     ]
    },
    {
     "name": "stderr",
     "output_type": "stream",
     "text": [
      "100%|███████████████████████████████████████████████████████████████████████████████| 300/300 [00:00<00:00, 474.90it/s]\n",
      " 18%|██████████████▋                                                                 | 55/300 [00:00<00:00, 478.39it/s]"
     ]
    },
    {
     "name": "stdout",
     "output_type": "stream",
     "text": [
      "sim9, run 1\n"
     ]
    },
    {
     "name": "stderr",
     "output_type": "stream",
     "text": [
      "100%|███████████████████████████████████████████████████████████████████████████████| 300/300 [00:00<00:00, 471.41it/s]\n",
      " 17%|█████████████▊                                                                  | 52/300 [00:00<00:00, 458.76it/s]"
     ]
    },
    {
     "name": "stdout",
     "output_type": "stream",
     "text": [
      "sim9, run 2\n"
     ]
    },
    {
     "name": "stderr",
     "output_type": "stream",
     "text": [
      "100%|███████████████████████████████████████████████████████████████████████████████| 300/300 [00:00<00:00, 479.54it/s]\n",
      " 17%|█████████████▎                                                                  | 50/300 [00:00<00:00, 489.29it/s]"
     ]
    },
    {
     "name": "stdout",
     "output_type": "stream",
     "text": [
      "sim9, run 3\n"
     ]
    },
    {
     "name": "stderr",
     "output_type": "stream",
     "text": [
      "100%|███████████████████████████████████████████████████████████████████████████████| 300/300 [00:00<00:00, 499.81it/s]\n",
      " 17%|█████████████▌                                                                  | 51/300 [00:00<00:00, 475.11it/s]"
     ]
    },
    {
     "name": "stdout",
     "output_type": "stream",
     "text": [
      "sim9, run 4\n"
     ]
    },
    {
     "name": "stderr",
     "output_type": "stream",
     "text": [
      "100%|███████████████████████████████████████████████████████████████████████████████| 300/300 [00:00<00:00, 481.23it/s]\n",
      " 19%|██████████████▉                                                                 | 56/300 [00:00<00:00, 554.21it/s]"
     ]
    },
    {
     "name": "stdout",
     "output_type": "stream",
     "text": [
      "sim10, run 0\n"
     ]
    },
    {
     "name": "stderr",
     "output_type": "stream",
     "text": [
      "100%|███████████████████████████████████████████████████████████████████████████████| 300/300 [00:00<00:00, 449.69it/s]\n",
      " 17%|█████████████▌                                                                  | 51/300 [00:00<00:00, 507.90it/s]"
     ]
    },
    {
     "name": "stdout",
     "output_type": "stream",
     "text": [
      "sim10, run 1\n"
     ]
    },
    {
     "name": "stderr",
     "output_type": "stream",
     "text": [
      "100%|███████████████████████████████████████████████████████████████████████████████| 300/300 [00:00<00:00, 498.18it/s]\n",
      " 19%|███████████████▍                                                                | 58/300 [00:00<00:00, 553.77it/s]"
     ]
    },
    {
     "name": "stdout",
     "output_type": "stream",
     "text": [
      "sim10, run 2\n"
     ]
    },
    {
     "name": "stderr",
     "output_type": "stream",
     "text": [
      "100%|███████████████████████████████████████████████████████████████████████████████| 300/300 [00:00<00:00, 512.00it/s]\n",
      " 21%|█████████████████                                                               | 64/300 [00:00<00:00, 563.90it/s]"
     ]
    },
    {
     "name": "stdout",
     "output_type": "stream",
     "text": [
      "sim10, run 3\n"
     ]
    },
    {
     "name": "stderr",
     "output_type": "stream",
     "text": [
      "100%|███████████████████████████████████████████████████████████████████████████████| 300/300 [00:00<00:00, 536.96it/s]\n",
      " 20%|████████████████▎                                                               | 61/300 [00:00<00:00, 602.49it/s]"
     ]
    },
    {
     "name": "stdout",
     "output_type": "stream",
     "text": [
      "sim10, run 4\n"
     ]
    },
    {
     "name": "stderr",
     "output_type": "stream",
     "text": [
      "100%|███████████████████████████████████████████████████████████████████████████████| 300/300 [00:00<00:00, 498.11it/s]\n",
      " 20%|███████████████▋                                                                | 59/300 [00:00<00:00, 542.37it/s]"
     ]
    },
    {
     "name": "stdout",
     "output_type": "stream",
     "text": [
      "sim11, run 0\n"
     ]
    },
    {
     "name": "stderr",
     "output_type": "stream",
     "text": [
      "100%|███████████████████████████████████████████████████████████████████████████████| 300/300 [00:00<00:00, 502.87it/s]\n",
      " 21%|████████████████▊                                                               | 63/300 [00:00<00:00, 546.43it/s]"
     ]
    },
    {
     "name": "stdout",
     "output_type": "stream",
     "text": [
      "sim11, run 1\n"
     ]
    },
    {
     "name": "stderr",
     "output_type": "stream",
     "text": [
      "100%|███████████████████████████████████████████████████████████████████████████████| 300/300 [00:00<00:00, 503.74it/s]\n",
      " 16%|████████████▊                                                                   | 48/300 [00:00<00:00, 472.85it/s]"
     ]
    },
    {
     "name": "stdout",
     "output_type": "stream",
     "text": [
      "sim11, run 2\n"
     ]
    },
    {
     "name": "stderr",
     "output_type": "stream",
     "text": [
      "100%|███████████████████████████████████████████████████████████████████████████████| 300/300 [00:00<00:00, 486.83it/s]\n",
      " 17%|█████████████▎                                                                  | 50/300 [00:00<00:00, 473.70it/s]"
     ]
    },
    {
     "name": "stdout",
     "output_type": "stream",
     "text": [
      "sim11, run 3\n"
     ]
    },
    {
     "name": "stderr",
     "output_type": "stream",
     "text": [
      "100%|███████████████████████████████████████████████████████████████████████████████| 300/300 [00:00<00:00, 481.82it/s]\n",
      " 16%|█████████████                                                                   | 49/300 [00:00<00:00, 443.23it/s]"
     ]
    },
    {
     "name": "stdout",
     "output_type": "stream",
     "text": [
      "sim11, run 4\n"
     ]
    },
    {
     "name": "stderr",
     "output_type": "stream",
     "text": [
      "100%|███████████████████████████████████████████████████████████████████████████████| 300/300 [00:00<00:00, 477.46it/s]\n",
      " 18%|██████████████▋                                                                 | 55/300 [00:00<00:00, 547.61it/s]"
     ]
    },
    {
     "name": "stdout",
     "output_type": "stream",
     "text": [
      "sim12, run 0\n"
     ]
    },
    {
     "name": "stderr",
     "output_type": "stream",
     "text": [
      "100%|███████████████████████████████████████████████████████████████████████████████| 300/300 [00:00<00:00, 502.81it/s]\n",
      " 20%|████████████████                                                                | 60/300 [00:00<00:00, 532.34it/s]"
     ]
    },
    {
     "name": "stdout",
     "output_type": "stream",
     "text": [
      "sim12, run 1\n"
     ]
    },
    {
     "name": "stderr",
     "output_type": "stream",
     "text": [
      "100%|███████████████████████████████████████████████████████████████████████████████| 300/300 [00:00<00:00, 453.54it/s]\n",
      " 17%|█████████████▎                                                                  | 50/300 [00:00<00:00, 446.52it/s]"
     ]
    },
    {
     "name": "stdout",
     "output_type": "stream",
     "text": [
      "sim12, run 2\n"
     ]
    },
    {
     "name": "stderr",
     "output_type": "stream",
     "text": [
      "100%|███████████████████████████████████████████████████████████████████████████████| 300/300 [00:00<00:00, 470.91it/s]\n",
      " 18%|██████████████▍                                                                 | 54/300 [00:00<00:00, 493.76it/s]"
     ]
    },
    {
     "name": "stdout",
     "output_type": "stream",
     "text": [
      "sim12, run 3\n"
     ]
    },
    {
     "name": "stderr",
     "output_type": "stream",
     "text": [
      "100%|███████████████████████████████████████████████████████████████████████████████| 300/300 [00:00<00:00, 460.65it/s]\n",
      " 21%|█████████████████                                                               | 64/300 [00:00<00:00, 555.55it/s]"
     ]
    },
    {
     "name": "stdout",
     "output_type": "stream",
     "text": [
      "sim12, run 4\n"
     ]
    },
    {
     "name": "stderr",
     "output_type": "stream",
     "text": [
      "100%|███████████████████████████████████████████████████████████████████████████████| 300/300 [00:00<00:00, 503.40it/s]\n",
      " 17%|█████████████▌                                                                  | 51/300 [00:00<00:00, 491.05it/s]"
     ]
    },
    {
     "name": "stdout",
     "output_type": "stream",
     "text": [
      "sim13, run 0\n"
     ]
    },
    {
     "name": "stderr",
     "output_type": "stream",
     "text": [
      "100%|███████████████████████████████████████████████████████████████████████████████| 300/300 [00:00<00:00, 493.67it/s]\n",
      " 17%|█████████████▎                                                                  | 50/300 [00:00<00:00, 476.21it/s]"
     ]
    },
    {
     "name": "stdout",
     "output_type": "stream",
     "text": [
      "sim13, run 1\n"
     ]
    },
    {
     "name": "stderr",
     "output_type": "stream",
     "text": [
      "100%|███████████████████████████████████████████████████████████████████████████████| 300/300 [00:00<00:00, 493.22it/s]\n",
      " 19%|███████████████▏                                                                | 57/300 [00:00<00:00, 544.85it/s]"
     ]
    },
    {
     "name": "stdout",
     "output_type": "stream",
     "text": [
      "sim13, run 2\n"
     ]
    },
    {
     "name": "stderr",
     "output_type": "stream",
     "text": [
      "100%|███████████████████████████████████████████████████████████████████████████████| 300/300 [00:00<00:00, 457.41it/s]\n",
      " 19%|██████████████▉                                                                 | 56/300 [00:00<00:00, 522.18it/s]"
     ]
    },
    {
     "name": "stdout",
     "output_type": "stream",
     "text": [
      "sim13, run 3\n"
     ]
    },
    {
     "name": "stderr",
     "output_type": "stream",
     "text": [
      "100%|███████████████████████████████████████████████████████████████████████████████| 300/300 [00:00<00:00, 445.20it/s]\n",
      " 15%|████████████▎                                                                   | 46/300 [00:00<00:00, 452.29it/s]"
     ]
    },
    {
     "name": "stdout",
     "output_type": "stream",
     "text": [
      "sim13, run 4\n"
     ]
    },
    {
     "name": "stderr",
     "output_type": "stream",
     "text": [
      "100%|███████████████████████████████████████████████████████████████████████████████| 300/300 [00:00<00:00, 414.62it/s]\n",
      " 16%|█████████████                                                                   | 49/300 [00:00<00:00, 477.05it/s]"
     ]
    },
    {
     "name": "stdout",
     "output_type": "stream",
     "text": [
      "sim14, run 0\n"
     ]
    },
    {
     "name": "stderr",
     "output_type": "stream",
     "text": [
      "100%|███████████████████████████████████████████████████████████████████████████████| 300/300 [00:00<00:00, 411.83it/s]\n",
      " 15%|████████████▎                                                                   | 46/300 [00:00<00:00, 457.62it/s]"
     ]
    },
    {
     "name": "stdout",
     "output_type": "stream",
     "text": [
      "sim14, run 1\n"
     ]
    },
    {
     "name": "stderr",
     "output_type": "stream",
     "text": [
      "100%|███████████████████████████████████████████████████████████████████████████████| 300/300 [00:00<00:00, 431.81it/s]\n",
      " 17%|█████████████▎                                                                  | 50/300 [00:00<00:00, 496.60it/s]"
     ]
    },
    {
     "name": "stdout",
     "output_type": "stream",
     "text": [
      "sim14, run 2\n"
     ]
    },
    {
     "name": "stderr",
     "output_type": "stream",
     "text": [
      "100%|███████████████████████████████████████████████████████████████████████████████| 300/300 [00:00<00:00, 419.63it/s]\n",
      " 14%|██████████▉                                                                     | 41/300 [00:00<00:00, 409.30it/s]"
     ]
    },
    {
     "name": "stdout",
     "output_type": "stream",
     "text": [
      "sim14, run 3\n"
     ]
    },
    {
     "name": "stderr",
     "output_type": "stream",
     "text": [
      "100%|███████████████████████████████████████████████████████████████████████████████| 300/300 [00:00<00:00, 422.94it/s]"
     ]
    },
    {
     "name": "stdout",
     "output_type": "stream",
     "text": [
      "sim14, run 4\n"
     ]
    },
    {
     "name": "stderr",
     "output_type": "stream",
     "text": [
      "\n"
     ]
    }
   ],
   "source": [
    "simulations = 15\n",
    "runs = 5\n",
    "\n",
    "N_types = []\n",
    "N_types.append(['MWU'] * N)\n",
    "N_types.append(['OPT_MWU'] * N)\n",
    "N_types.append(['GPMW'] * N)\n",
    "N_types.append(['OPT_GPMW'] * N)\n",
    "N_types.append(['EXP3'] * N)\n",
    "N_types.append(['OPT_EXP3'] * N)\n",
    "\n",
    "avg_expected_Regrets_all = []\n",
    "std_expected_Regrets_all = []\n",
    "avg_expected_Regrets_worst = []\n",
    "std_expected_Regrets_worst = []\n",
    "\n",
    "# np.random.seed(4)\n",
    "\n",
    "A_all = []\n",
    "for sim in range(simulations):\n",
    "    A = []\n",
    "    for j in range(N):\n",
    "        A.append(Generate_A(K, N, smooth=True))\n",
    "    A_all.append(A)\n",
    "\n",
    "# with open('payoffs.pckl', 'rb') as file:\n",
    "#     A_all = pickle.load(file)\n",
    "\n",
    "# np.random.seed(12)\n",
    "\n",
    "for i in range(len(N_types)):\n",
    "    e_Regrets_all = []\n",
    "    e_Regrets_worst = []\n",
    "    for sim in range(simulations):\n",
    "        for run in range(runs):\n",
    "            Games_data, Player = RunGame(N, K, T, A_all[sim], sigma, N_types[i], max_var=False, optimize=False)\n",
    "\n",
    "            # finding player with max regret\n",
    "            ind_worst_e = 0\n",
    "            s_e = 0\n",
    "            for ind in range(N):\n",
    "                if Games_data.Expected_regret[T - 1][ind] > s_e:\n",
    "                    ind_worst_e = ind\n",
    "                    s_e = Games_data.Expected_regret[T - 1][ind]\n",
    "            e_Regrets_all.append(\n",
    "                np.array([np.mean([Games_data.Expected_regret[x][i] for i in range(N)]) for x in range(T)]))\n",
    "            e_Regrets_worst.append(np.array([Games_data.Expected_regret[x][ind_worst_e] for x in range(T)]))\n",
    "            print(f'sim{sim}, run {run}')\n",
    "\n",
    "    avg_expected_Regrets_all.append(np.mean(e_Regrets_all, 0))\n",
    "    std_expected_Regrets_all.append(np.std(e_Regrets_all, 0))\n",
    "    avg_expected_Regrets_worst.append(np.mean(e_Regrets_worst, 0))\n",
    "    std_expected_Regrets_worst.append(np.std(e_Regrets_worst, 0))\n",
    "\n",
    "with open('all.pckl', 'wb') as file:\n",
    "    pickle.dump(N, file)\n",
    "    pickle.dump(K, file)\n",
    "    pickle.dump(N_types, file)\n",
    "    pickle.dump(avg_expected_Regrets_all, file)\n",
    "    pickle.dump(std_expected_Regrets_all, file)\n",
    "    pickle.dump(avg_expected_Regrets_worst, file)\n",
    "    pickle.dump(std_expected_Regrets_worst, file)\n",
    "\n",
    "with open('payoffs.pckl', 'wb') as file:\n",
    "    pickle.dump(A_all, file)"
   ]
  },
  {
   "cell_type": "code",
   "execution_count": 25,
   "id": "weird-citizen",
   "metadata": {
    "scrolled": true
   },
   "outputs": [
    {
     "data": {
      "image/png": "[encoded data removed]",
      "text/plain": [
       "<Figure size 1008x648 with 2 Axes>"
      ]
     },
     "metadata": {
      "needs_background": "light"
     },
     "output_type": "display_data"
    }
   ],
   "source": [
    "show('result')"
   ]
  }
 ],
 "metadata": {
  "kernelspec": {
   "display_name": "Python 3",
   "language": "python",
   "name": "python3"
  },
  "language_info": {
   "codemirror_mode": {
    "name": "ipython",
    "version": 3
   },
   "file_extension": ".py",
   "mimetype": "text/x-python",
   "name": "python",
   "nbconvert_exporter": "python",
   "pygments_lexer": "ipython3",
   "version": "3.7.0"
  }
 },
 "nbformat": 4,
 "nbformat_minor": 5
}
